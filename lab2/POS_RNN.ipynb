{
 "cells": [
  {
   "cell_type": "markdown",
   "metadata": {},
   "source": [
    "Group 5\n",
    "\n",
    "Emiel Scheffer, 5547377\n",
    "\n",
    "Sandra Blok, 5701880\n",
    "\n",
    "Anneloes Meijer, 5714540\n",
    "\n",
    "Thomas Fink, 6703402"
   ]
  },
  {
   "cell_type": "markdown",
   "metadata": {},
   "source": [
    "# Sequence Processing with Recurrent Neural Networks\n",
    "\n",
    "So far, we have seen how word vectors can be constructed from corpus statistics, and how they can be utilized to infer latent semantic content either in isolation (e.g. genders from names) or in relation to one another (e.g. similarities and analogies). \n",
    "\n",
    "For tasks involving larger linguistic units such as phrases, sentences and dialogues, we need machinery capable of processing _sequences_ or _structures_ of words.\n",
    "\n",
    "Recurrent Neural Networks are an example of such machinery; for this assignment, you will construct a recurrent neural network that annotates each word of a sentence with a linguistically informative marker. In the simple case (and in this assignment), these markers will be POS tags. However, they can also be other kinds of tags, e.g. more fine-grained morphosyntactic [categories](https://en.wikipedia.org/wiki/Combinatory_categorial_grammar) (supertags).\n",
    "\n",
    "This task is a case of sequence labeling.  A good reference point is Jurafsky and Martin [Chapter 9](https://web.stanford.edu/~jurafsky/slp3/9.pdf). For a fuller view of the picture, a good reference point is Alex Graves' [dissertation](https://www.cs.toronto.edu/~graves/preprint.pdf).\n",
    "\n",
    "We will take a gradual approach, first inspecting recurrent neural networks, then moving on to data processing using high-grade word vectors before finally moving to the problem at hand. \n",
    "\n",
    "_(Points break up: Total points 10;  1 point each (for 2.0-2.5); 4 points(for 2.6))_"
   ]
  },
  {
   "cell_type": "markdown",
   "metadata": {},
   "source": [
    "---"
   ]
  },
  {
   "cell_type": "markdown",
   "metadata": {},
   "source": [
    "## Recurrent Neural Networks\n",
    "Recurrent Neural Networks are a particularly interesting class of neural networks. Unlike standard fully-connected networks, which accept a fixed-size input and produce a fixed-size output over a predefined number of computational steps (i.e. network layers), RNNs instead operate on sequences of vectors. \n",
    "\n",
    "Computationally, feedforward networks may be seen as a trainable (but parametrically fixed) function, whereas RNNs act as continuous, stateful programs operating on sequences of inputs. \n",
    "Cognitively, this may be viewed as enhancing our system's perceptive and computational abilities with a notion of memory.\n",
    "In the general case, this statefulness is captured by an intermediate hidden vector which is adjusted throughout the computation, affected by both the immediately previous version of itself __and__ the current input.\n",
    "\n",
    "RNNs are nowadays established as the core machinery of neural sequence processing. \n",
    "\n",
    "A simple recurrent network (SRN or Elman network) is described by the equations:\n",
    "* $h_t = \\theta_h (W_h x_t + U_h h_{t-1} + b_h ) $\n",
    "* $y_t = \\theta_y (W_y h_t + b_y) $\n",
    "\n",
    "where (at timestep $t$) $x_t$, $h_t$, $y_t$ are the network's input, hidden and output representations respectively, $\\theta_h$, $\\theta_y$ its hidden and output activation functions, and $W_h$, $U_h$, $b_h$, $W_y$, $b_y$ parametric tensors to be learned."
   ]
  },
  {
   "cell_type": "code",
   "execution_count": 1,
   "metadata": {},
   "outputs": [],
   "source": [
    "import torch\n",
    "from torch import FloatTensor, LongTensor\n",
    "from typing import Tuple, List, Callable, Optional"
   ]
  },
  {
   "cell_type": "markdown",
   "metadata": {},
   "source": [
    "### Assignment 2.0: Our own SRN\n",
    "Let's make our own simple recurrent network from scratch, to get an idea of its inner workings. To make our life just a bit simpler, we will use `torch.nn.Linear` to model the internal transformations.\n",
    "\n",
    "Complete the `mySRN` class, which is initialized with the input $d_i$, hidden $d_h$ and output $d_o$ dimensionalities, as well as two non-linear functions $\\theta_h$ and $\\theta_y$, and constructs a SRN implementing three `torch.nn.Linear` layers:\n",
    "1. `x_to_h`: a layer that takes $x_t$ and produces $W_h x_t$\n",
    "2. `h_to_h`: a layer that takes $h_{t-1}$ and produces $U_h h_{t-1} + b_h$\n",
    "3. `h_to_y`: a layer that takes $h_t$ and produces $W_y h_t + b_y$\n",
    "\n",
    "Implement the function `step` that performs a computational step, accepting $x_t$ and $h_{t-1}$ and producing $h_t$ and $y_t$.\n",
    "\n",
    "Implement the function forward that accepts a List of inputs $X$, an initial hidden vector $h_{-1}$ and iteratively applies `step` until the input sequence is exhausted, returning a List of outputs $Y$ (of the same length as $X$).\n",
    "\n",
    "_Hint_: Note that `x_to_h` does not have a bias term $b$, since we will incorporate it into `h_to_h`"
   ]
  },
  {
   "cell_type": "code",
   "execution_count": 2,
   "metadata": {},
   "outputs": [],
   "source": [
    "class mySRN(torch.nn.Module):\n",
    "    def __init__(self, input_dim: int, hidden_dim: int, output_dim: int, \n",
    "                 hidden_activation: Callable[[FloatTensor], FloatTensor],\n",
    "                 output_activation: Callable[[FloatTensor], FloatTensor],\n",
    "                 device: str):\n",
    "        super(mySRN, self).__init__()\n",
    "        self.hidden_activation = hidden_activation\n",
    "        self.output_activation = output_activation\n",
    "        self.device = device\n",
    "        \n",
    "        self.x_to_h = torch.nn.Linear(input_dim, hidden_dim).to(device)\n",
    "        self.h_to_h = torch.nn.Linear(hidden_dim, hidden_dim).to(device)\n",
    "        self.h_to_y = torch.nn.Linear(hidden_dim, output_dim).to(device)\n",
    "        \n",
    "    def step(self, x: FloatTensor, h: FloatTensor) -> Tuple[FloatTensor, FloatTensor]:\n",
    "        whx = self.x_to_h(x)\n",
    "        uh = self.h_to_h(h)\n",
    "        why = self.h_to_y(uh)\n",
    "        ht = self.hidden_activation(whx + uh + 1)\n",
    "        yt = self.output_activation(why + 1)\n",
    "        return (ht, yt)\n",
    "\n",
    "        \n",
    "    def forward(self, X: List[FloatTensor], h: FloatTensor) -> List[FloatTensor]:\n",
    "        y = []\n",
    "        for x in X:\n",
    "            _, yt = self.step(x, h)\n",
    "            y.append(yt)\n",
    "        return y\n",
    "    "
   ]
  },
  {
   "cell_type": "markdown",
   "metadata": {},
   "source": [
    "In practice, we do not need to write our own functions for common RNN architectures. \n",
    "Torch already provides the [necessary abstractions](https://pytorch.org/docs/stable/nn.html#recurrent-layers).\n",
    "\n",
    "The [RNN](https://pytorch.org/docs/stable/nn.html#rnn) wrapper implements highly optimized forward routines to compute the hidden representations of a full input sequence.\n",
    "\n",
    "Some pointers:\n",
    "* Unlike our naive implementation, RNN accepts a 3-dimensional tensor of shape (seq_len, batch_shape, input_dim) rather than a list of 2-dimensional tensors\n",
    "* If no initial hidden state is provided, it defaults to a zero tensor\n",
    "* The class produces just the RNN hidden states; it is up to us to define the `h_to_y` transformation on top of them\n",
    "* The non-linearity argument is a string; our only two choices are either `'tanh'` or `'relu'` (shorthands for `torch.nn.Tanh` and `torch.nn.ReLU` respectively)\n",
    "\n",
    "Read the documentation (!) for further details.\n",
    "\n",
    "A brief example is given below."
   ]
  },
  {
   "cell_type": "code",
   "execution_count": 3,
   "metadata": {},
   "outputs": [
    {
     "name": "stdout",
     "output_type": "stream",
     "text": [
      "torch.Size([10, 32, 48])\n"
     ]
    }
   ],
   "source": [
    "rnn = torch.nn.RNN(input_size=16, hidden_size=48, nonlinearity='tanh')\n",
    "X = torch.rand(10, 32, 16)\n",
    "h, _ = rnn(X)\n",
    "print(h.shape)"
   ]
  },
  {
   "cell_type": "code",
   "execution_count": 4,
   "metadata": {},
   "outputs": [
    {
     "name": "stdout",
     "output_type": "stream",
     "text": [
      "False\n"
     ]
    }
   ],
   "source": [
    "srn = mySRN(16, 48, 16, torch.nn.ReLU(), torch.nn.Sigmoid(), \"cpu\")\n",
    "output_rnn = rnn(X)\n",
    "output_srn = srn(X, h)"
   ]
  },
  {
   "cell_type": "markdown",
   "metadata": {},
   "source": [
    "So, for a random input tensor of shape (seq_len, batch_size, input_dim), we get back an output tensor of shape (seq_len, batch_size, hidden_dim)"
   ]
  },
  {
   "cell_type": "code",
   "execution_count": 5,
   "metadata": {},
   "outputs": [],
   "source": [
    "del mySRN, rnn, X, h"
   ]
  },
  {
   "cell_type": "markdown",
   "metadata": {},
   "source": [
    "### Assignment 2.1: A faster version of the SRN\n",
    "Now let's wrap an `RNN` into a custom module `myFastSRN` that implements it aside the `h_to_y` transformation."
   ]
  },
  {
   "cell_type": "code",
   "execution_count": 6,
   "metadata": {},
   "outputs": [],
   "source": [
    "class fastSRN(torch.nn.Module):\n",
    "    def __init__(self, input_dim: int, hidden_dim: int, output_dim: int, \n",
    "                 hidden_activation: str,\n",
    "                 output_activation: Callable[[FloatTensor], FloatTensor],\n",
    "                 device: str):\n",
    "        super(fastSRN, self).__init__()\n",
    "        self.hidden_activation = hidden_activation\n",
    "        self.output_activation = output_activation\n",
    "        self.device = device\n",
    "        self.x_to_h = torch.nn.RNN(input_size=input_dim, hidden_size=hidden_dim, nonlinearity=hidden_activation).to(device)\n",
    "        self.h_to_y = torch.nn.Linear(hidden_dim, output_dim).to(device)\n",
    "        \n",
    "    def forward(self, X:FloatTensor, h: Optional[FloatTensor]=None) -> FloatTensor:\n",
    "        h, _ = self.x_to_h(X, h)\n",
    "        y = self.output_activation(self.h_to_y(h))\n",
    "        return y.to(self.device)"
   ]
  },
  {
   "cell_type": "markdown",
   "metadata": {},
   "source": [
    "Let's see our new implementation in action. \n",
    "\n",
    "Initialize a random input tensor $X$ that would correspond to 32 sequences,  each of length 10, with each item having 16 features, and a `fastSRN` fit to process it, producing 42-dimensional hidden states and 2-dimension output vectors for each sequence item.\n",
    "\n",
    "Run the SRN on the tensor and make sure the output shape is as expected."
   ]
  },
  {
   "cell_type": "code",
   "execution_count": 7,
   "metadata": {},
   "outputs": [
    {
     "name": "stdout",
     "output_type": "stream",
     "text": [
      "torch.Size([10, 32, 2])\n"
     ]
    }
   ],
   "source": [
    "fsrn = fastSRN(16, 42, 2, \"tanh\", torch.nn.Sigmoid(), \"cpu\")\n",
    "X = torch.rand(10, 32, 16)\n",
    "y = fsrn(X)\n",
    "print(y.shape)"
   ]
  },
  {
   "cell_type": "markdown",
   "metadata": {},
   "source": [
    "Hopefully everything should be in order.\n",
    "\n",
    "You may have noticed a minor complication: in order to utilize batching, we need our input sequences to be of the same length.\n",
    "\n",
    "This however is very rarely the case in practice. A common trick against this problem is _padding_; that is, appending zero tensors to all input sequences shorter than the maximum in-batch length to make them all equally long.\n",
    "\n",
    "As usual, torch already does the hard work for us via [pad_sequence](https://pytorch.org/docs/stable/nn.html?highlight=pad%20_sequence#torch.nn.utils.rnn.pad_sequence). Given a list of $N$ 2-dimensional tensors, each of shape (seq_len$_n$, input_dim), it will construct a 3-d tensor of shape ($max_{n \\in N}${seq_len$_n$}, N, input_dim).\n",
    "\n",
    "An example:"
   ]
  },
  {
   "cell_type": "code",
   "execution_count": 8,
   "metadata": {},
   "outputs": [
    {
     "name": "stdout",
     "output_type": "stream",
     "text": [
      "torch.Size([7, 3, 16])\n"
     ]
    }
   ],
   "source": [
    "x_1 = torch.rand(1, 16)  # a sequence of 1, 16-dimensional item\n",
    "x_2 = torch.rand(7, 16)  # a sequence of 7, 16-dimensional items\n",
    "x_3 = torch.rand(5, 16)  # a sequence of 5, 16-dimensional items\n",
    "\n",
    "X = torch.nn.utils.rnn.pad_sequence([x_1, x_2, x_3])  \n",
    "\n",
    "# Can you guess what the shape of X is?\n",
    "print(X.shape)"
   ]
  },
  {
   "cell_type": "code",
   "execution_count": 9,
   "metadata": {},
   "outputs": [],
   "source": [
    "del x_1, x_2, x_3, X"
   ]
  },
  {
   "cell_type": "markdown",
   "metadata": {},
   "source": [
    "## Pretrained Word Embeddings\n",
    "Moving on-- last assignment, we saw how to train our own word embeddings using a miniature toy corpus. Now, we will see how to easily employ high-quality pretrained word vectors and, later on, how to utilize them for further downstream tasks.\n",
    "\n",
    "We are going to use [spaCy](https://spacy.io/). SpaCy is a high-level NLP library that provides a ton of useful functionalities, but we will only focus on its pretrained embeddings for this assignment.\n",
    "\n",
    "Before proceeding, [install spacy](https://spacy.io/usage) using your python package manager (e.g. `pip install spacy`)."
   ]
  },
  {
   "cell_type": "code",
   "execution_count": 10,
   "metadata": {},
   "outputs": [],
   "source": [
    "import spacy"
   ]
  },
  {
   "cell_type": "markdown",
   "metadata": {},
   "source": [
    "SpaCy comes with a lot of different-size models for different languages. \n",
    "\n",
    "We will need to download the small english model for the exercises to follow. You can either do it on a new terminal window (optimal, if you are running this assignment through a virtual environment) or by simply running the magic command below. "
   ]
  },
  {
   "cell_type": "code",
   "execution_count": 11,
   "metadata": {},
   "outputs": [
    {
     "name": "stdout",
     "output_type": "stream",
     "text": [
      "Requirement already satisfied: en_core_web_lg==2.3.1 from https://github.com/explosion/spacy-models/releases/download/en_core_web_lg-2.3.1/en_core_web_lg-2.3.1.tar.gz#egg=en_core_web_lg==2.3.1 in /home/thomas/.local/lib/python3.8/site-packages (2.3.1)\n",
      "Requirement already satisfied: spacy<2.4.0,>=2.3.0 in /home/thomas/.local/lib/python3.8/site-packages (from en_core_web_lg==2.3.1) (2.3.2)\n",
      "Requirement already satisfied: murmurhash<1.1.0,>=0.28.0 in /home/thomas/.local/lib/python3.8/site-packages (from spacy<2.4.0,>=2.3.0->en_core_web_lg==2.3.1) (1.0.2)\n",
      "Requirement already satisfied: thinc==7.4.1 in /home/thomas/.local/lib/python3.8/site-packages (from spacy<2.4.0,>=2.3.0->en_core_web_lg==2.3.1) (7.4.1)\n",
      "Requirement already satisfied: setuptools in /home/thomas/anaconda3/lib/python3.8/site-packages (from spacy<2.4.0,>=2.3.0->en_core_web_lg==2.3.1) (49.2.0.post20200714)\n",
      "Requirement already satisfied: plac<1.2.0,>=0.9.6 in /home/thomas/.local/lib/python3.8/site-packages (from spacy<2.4.0,>=2.3.0->en_core_web_lg==2.3.1) (1.1.3)\n",
      "Requirement already satisfied: srsly<1.1.0,>=1.0.2 in /home/thomas/.local/lib/python3.8/site-packages (from spacy<2.4.0,>=2.3.0->en_core_web_lg==2.3.1) (1.0.2)\n",
      "Requirement already satisfied: numpy>=1.15.0 in /home/thomas/.local/lib/python3.8/site-packages (from spacy<2.4.0,>=2.3.0->en_core_web_lg==2.3.1) (1.18.5)\n",
      "Requirement already satisfied: requests<3.0.0,>=2.13.0 in /home/thomas/anaconda3/lib/python3.8/site-packages (from spacy<2.4.0,>=2.3.0->en_core_web_lg==2.3.1) (2.24.0)\n",
      "Requirement already satisfied: tqdm<5.0.0,>=4.38.0 in /home/thomas/.local/lib/python3.8/site-packages (from spacy<2.4.0,>=2.3.0->en_core_web_lg==2.3.1) (4.50.2)\n",
      "Requirement already satisfied: catalogue<1.1.0,>=0.0.7 in /home/thomas/.local/lib/python3.8/site-packages (from spacy<2.4.0,>=2.3.0->en_core_web_lg==2.3.1) (1.0.0)\n",
      "Requirement already satisfied: cymem<2.1.0,>=2.0.2 in /home/thomas/.local/lib/python3.8/site-packages (from spacy<2.4.0,>=2.3.0->en_core_web_lg==2.3.1) (2.0.3)\n",
      "Requirement already satisfied: wasabi<1.1.0,>=0.4.0 in /home/thomas/.local/lib/python3.8/site-packages (from spacy<2.4.0,>=2.3.0->en_core_web_lg==2.3.1) (0.8.0)\n",
      "Requirement already satisfied: blis<0.5.0,>=0.4.0 in /home/thomas/.local/lib/python3.8/site-packages (from spacy<2.4.0,>=2.3.0->en_core_web_lg==2.3.1) (0.4.1)\n",
      "Requirement already satisfied: preshed<3.1.0,>=3.0.2 in /home/thomas/.local/lib/python3.8/site-packages (from spacy<2.4.0,>=2.3.0->en_core_web_lg==2.3.1) (3.0.2)\n",
      "Requirement already satisfied: urllib3!=1.25.0,!=1.25.1,<1.26,>=1.21.1 in /home/thomas/anaconda3/lib/python3.8/site-packages (from requests<3.0.0,>=2.13.0->spacy<2.4.0,>=2.3.0->en_core_web_lg==2.3.1) (1.25.9)\n",
      "Requirement already satisfied: chardet<4,>=3.0.2 in /home/thomas/anaconda3/lib/python3.8/site-packages (from requests<3.0.0,>=2.13.0->spacy<2.4.0,>=2.3.0->en_core_web_lg==2.3.1) (3.0.4)\n",
      "Requirement already satisfied: certifi>=2017.4.17 in /home/thomas/anaconda3/lib/python3.8/site-packages (from requests<3.0.0,>=2.13.0->spacy<2.4.0,>=2.3.0->en_core_web_lg==2.3.1) (2020.6.20)\n",
      "Requirement already satisfied: idna<3,>=2.5 in /home/thomas/anaconda3/lib/python3.8/site-packages (from requests<3.0.0,>=2.13.0->spacy<2.4.0,>=2.3.0->en_core_web_lg==2.3.1) (2.10)\n",
      "\u001b[38;5;2m✔ Download and installation successful\u001b[0m\n",
      "You can now load the model via spacy.load('en_core_web_lg')\n"
     ]
    }
   ],
   "source": [
    "!python3 -m spacy download en_core_web_lg"
   ]
  },
  {
   "cell_type": "markdown",
   "metadata": {},
   "source": [
    "After having downloaded the model, we can load it as follows (you may need to restart your notebook after the download is complete):"
   ]
  },
  {
   "cell_type": "code",
   "execution_count": 12,
   "metadata": {},
   "outputs": [],
   "source": [
    "nlp = spacy.load('en_core_web_lg')"
   ]
  },
  {
   "cell_type": "markdown",
   "metadata": {},
   "source": [
    "We can then use the loaded model to process a sentence and obtain its word vectors, a List of 300-dimensional numpy arrays."
   ]
  },
  {
   "cell_type": "code",
   "execution_count": 13,
   "metadata": {},
   "outputs": [
    {
     "name": "stdout",
     "output_type": "stream",
     "text": [
      "We have 7 vectors..\n",
      "..each of shape (300,)\n"
     ]
    }
   ],
   "source": [
    "doc = nlp('this is a sentence of 7 words')  # the processed sentence\n",
    "vectors = list(map(lambda x: x.vector, doc))  # its vectors\n",
    "print('We have {} vectors..'.format(len(vectors)))\n",
    "print('..each of shape {}'.format(vectors[0].shape))"
   ]
  },
  {
   "cell_type": "markdown",
   "metadata": {},
   "source": [
    "And then finally convert them into torch tensors."
   ]
  },
  {
   "cell_type": "code",
   "execution_count": 14,
   "metadata": {},
   "outputs": [
    {
     "name": "stdout",
     "output_type": "stream",
     "text": [
      "torch.Size([7, 300])\n"
     ]
    }
   ],
   "source": [
    "torch_vectors = torch.tensor(vectors)\n",
    "print(torch_vectors.shape)"
   ]
  },
  {
   "cell_type": "markdown",
   "metadata": {},
   "source": [
    "Or, in the case of multiple sentences:"
   ]
  },
  {
   "cell_type": "code",
   "execution_count": 15,
   "metadata": {},
   "outputs": [],
   "source": [
    "# Example sentences\n",
    "sentences = ['This is a sentence', 'This is another sentence.']\n",
    "\n",
    "# Parallel processing with spacy\n",
    "docs = list(map(nlp, sentences))\n",
    "\n",
    "# Convert each processed sentence into a list of vectors\n",
    "vectors = map(lambda doc: [word.vector for word in doc], docs)\n",
    "\n",
    "# Convert each list of vectors into a 2-d torch tensor\n",
    "tensors = list(map(lambda sentence_vectors: torch.tensor(sentence_vectors), vectors))"
   ]
  },
  {
   "cell_type": "markdown",
   "metadata": {},
   "source": [
    "## POS Tagging\n",
    "Given our pretrained embeddings, we may represent sentences as _sequences of vectors_, which is exactly the format expected by an RNN.\n",
    "We will now try to train an SRN to iterate over a sentence and assign part of speech tags to each of its words."
   ]
  },
  {
   "cell_type": "markdown",
   "metadata": {},
   "source": [
    "### Assignment 2.2: Examining the data"
   ]
  },
  {
   "cell_type": "markdown",
   "metadata": {},
   "source": [
    "\n",
    "First, let's load and inspect our datafiles.\n",
    "\n",
    "The pickle file contains three items:\n",
    "1. `sentences`: a List of strings (-sentences)\n",
    "1. `postags`: a List of Lists of strings (-POS tags)\n",
    "2. `pos_to_int`: a Dictionary from strings to ints (mapping each POS tag to a unique identifier)\n",
    " "
   ]
  },
  {
   "cell_type": "code",
   "execution_count": 16,
   "metadata": {},
   "outputs": [],
   "source": [
    "import pickle\n",
    "with open('TRAIN.p', 'rb') as f:\n",
    "    sentences, postags, pos_to_int = pickle.load(f)"
   ]
  },
  {
   "cell_type": "code",
   "execution_count": 17,
   "metadata": {},
   "outputs": [],
   "source": [
    "assert all(list(map(lambda s, p: len(s.split()) == len(p), sentences, postags)))"
   ]
  },
  {
   "cell_type": "markdown",
   "metadata": {},
   "source": [
    "Now, let us take a moment to understand the data a bit more. \n",
    "The POS tags in this dataset are in the style of the Penn Treebank. Find the top 20 most common tags and plot a histogram of their frequencies. If you are curious, also find out what these tags mean linguisically! https://www.ling.upenn.edu/courses/Fall_2003/ling001/penn_treebank_pos.html"
   ]
  },
  {
   "cell_type": "code",
   "execution_count": 18,
   "metadata": {},
   "outputs": [
    {
     "data": {
      "image/png": "[encoded data removed]",
      "text/plain": [
       "<Figure size 576x288 with 1 Axes>"
      ]
     },
     "metadata": {
      "needs_background": "light"
     },
     "output_type": "display_data"
    }
   ],
   "source": [
    "#Your plot here\n",
    "from matplotlib import pyplot as plt\n",
    "from matplotlib.pyplot import figure\n",
    "from collections import Counter\n",
    "\n",
    "list1d = [tag for innerlist in postags for tag in innerlist]\n",
    "countdic = dict(Counter(list1d).most_common(20))\n",
    "\n",
    "figure(figsize=(8, 4))\n",
    "plt.bar(countdic.keys(), countdic.values(), 0.5)\n",
    "plt.legend([\"Tags\"])\n",
    "plt.show()"
   ]
  },
  {
   "cell_type": "markdown",
   "metadata": {},
   "source": [
    "Next, we need to convert our data to numeric form."
   ]
  },
  {
   "cell_type": "markdown",
   "metadata": {},
   "source": [
    "### Assignment 2.3: Tensorizing sentences\n",
    "Convert sentences to their tensor format, as done earlier (this may take a while). \n",
    "\n",
    "<div class=\"alert alert-block alert-warning\">\n",
    "<b>Important!</b>\n",
    "Since the sentences are pre-tokenized (i.e. they are provided as sequences of words rather than strings), we need to change the processing call to ensure the output vectors are aligned with our tokenization.\n",
    "</div>"
   ]
  },
  {
   "cell_type": "code",
   "execution_count": 19,
   "metadata": {},
   "outputs": [],
   "source": [
    "docs = list(map(lambda sentence: \n",
    "                spacy.tokens.doc.Doc(nlp.vocab, words=sentence.split()), \n",
    "            sentences))\n",
    "\n",
    "doc_vectors = map(lambda doc: [word.vector for word in doc], docs)\n",
    "doc_tensors = list(map(lambda sentence_vectors: torch.tensor(sentence_vectors), doc_vectors))\n",
    "\n",
    "# We no longer need the docs and numpy arrays\n",
    "del doc_vectors, docs"
   ]
  },
  {
   "cell_type": "markdown",
   "metadata": {},
   "source": [
    "Similarly, we will use `pos_to_int` to convert the POS sequences into tensors."
   ]
  },
  {
   "cell_type": "code",
   "execution_count": 20,
   "metadata": {},
   "outputs": [],
   "source": [
    "pos_numeric = list(map(lambda pos_sequence: [pos_to_int[pos] for pos in pos_sequence], postags))\n",
    "pos_tensors =  list(map(lambda pos_num_sequence: torch.tensor(pos_num_sequence), pos_numeric))\n"
   ]
  },
  {
   "cell_type": "markdown",
   "metadata": {},
   "source": [
    "In the first assignment, we saw how to split our dataset into a training and a validation set. \n",
    "\n",
    "Do the same here, splitting the sentences, postags and their corresponding tensors into a training and a validation set."
   ]
  },
  {
   "cell_type": "code",
   "execution_count": 21,
   "metadata": {},
   "outputs": [],
   "source": [
    "from sklearn.model_selection import train_test_split\n",
    "sentences_train, sentences_val, postags_train, postags_val, X_train, X_val, Y_train, Y_val \\\n",
    "    = train_test_split(sentences, postags, doc_tensors, pos_tensors, test_size=0.2)\n",
    "assert len(X_train) == len(Y_train) == len(sentences_train)\n",
    "assert len(X_val) == len(Y_val) == len(sentences_val)"
   ]
  },
  {
   "cell_type": "markdown",
   "metadata": {},
   "source": [
    "Again, following along the first assignment, we will wrap our tensors into a `Dataset` and a `DataLoader`.\n",
    "\n",
    "Since our data are not Tensors but rather Lists of Tensors of uneven lengths, we need to write our own Dataset wrapper.\n",
    "The wrapper only needs to implement two functions; `__len__`, which expects no arguments and returns the number of samples in the dataset, and `__getitem__`, which accepts an index `idx` and returns the input-output pair `X[idx]`, `Y[idx]`.\n",
    "\n",
    "Similarly, the Dataloader needs to process the list of input-output pairs produced by the Dataset using `pad_sequence`, as seen earlier."
   ]
  },
  {
   "cell_type": "markdown",
   "metadata": {},
   "source": [
    "### Assignment 2.4: Padding\n",
    "#### a) What is the advantage to applying padding on the batch rather than the entire dataset?"
   ]
  },
  {
   "cell_type": "markdown",
   "metadata": {},
   "source": [
    "The method of padding per batch allows you to specify the pad shape for each component of the batch e.g. not padding your labels"
   ]
  },
  {
   "cell_type": "markdown",
   "metadata": {},
   "source": [
    "#### b) Fill in the code for `UnevenLengthDataset` class, implementing its two core functions.\n",
    "\n",
    "Then, complete the function `pad_batch` which takes a list of \n",
    "(x$_i$, y$_i$) pairs and produces the pair of their paddings: (X, Y).\n",
    "\n",
    "Given the two, the `DataLoader` object defined can iterate over the Dataset yielding uniform batches ready to be consumed by an RNN."
   ]
  },
  {
   "cell_type": "code",
   "execution_count": 22,
   "metadata": {},
   "outputs": [],
   "source": [
    "from torch.nn.utils.rnn import pad_sequence\n",
    "from torch.utils.data import Dataset, DataLoader\n",
    "\n",
    "\n",
    "class UnevenLengthDataset(Dataset):\n",
    "    def __init__(self, X: List[FloatTensor], Y: List[LongTensor]) -> None:\n",
    "        self.dataset = list(zip(X, Y))\n",
    "        \n",
    "    def __len__(self) -> int:\n",
    "        return len(self.dataset)\n",
    "        \n",
    "    def __getitem__(self, idx: int) -> Tuple[FloatTensor, LongTensor]:\n",
    "        return self.dataset[idx]\n",
    "    \n",
    "    \n",
    "def pad_batch(batch: List[Tuple[FloatTensor, LongTensor]]) -> Tuple[FloatTensor, LongTensor]:\n",
    "    x = [i[0] for i in batch]\n",
    "    y = [i[1] for i in batch]\n",
    "    pad_x = pad_sequence(x)\n",
    "    pad_y = pad_sequence(y)\n",
    "    result = (pad_x, pad_y)\n",
    "    return result\n",
    "        \n",
    "train_dataset = UnevenLengthDataset(X_train, Y_train)\n",
    "train_dataloader = DataLoader(train_dataset, \n",
    "                              collate_fn=pad_batch,\n",
    "                              shuffle=True,\n",
    "                              batch_size=32)\n",
    "\n",
    "val_dataset = UnevenLengthDataset(X_val, Y_val)\n",
    "val_dataloader = DataLoader(val_dataset,\n",
    "                            collate_fn=pad_batch,\n",
    "                            shuffle=False,\n",
    "                            batch_size=32)"
   ]
  },
  {
   "cell_type": "markdown",
   "metadata": {},
   "source": [
    "What does a batch look like, shape-wise?"
   ]
  },
  {
   "cell_type": "code",
   "execution_count": 23,
   "metadata": {},
   "outputs": [
    {
     "name": "stdout",
     "output_type": "stream",
     "text": [
      "batch_result[0](x): torch.Size([50, 32, 300])\n",
      "batch_result[1](y): torch.Size([50, 32])\n"
     ]
    }
   ],
   "source": [
    "batch_result = next(iter(train_dataloader))\n",
    "print(\"batch_result[0](x): {}\".format(batch_result[0].shape))\n",
    "print(\"batch_result[1](y): {}\".format(batch_result[1].shape))"
   ]
  },
  {
   "cell_type": "markdown",
   "metadata": {},
   "source": [
    "So far so good. On to the network.\n",
    "\n",
    "### Assignment 2.5: Utility Functions\n",
    "Remember how we defined our training and validation functions for the first assignment?\n",
    "\n",
    "You will need to do the same here.\n",
    "Note that while you can use the given code as a guideline, just copying it won't do the trick; unlike a feedforward net, a recurrent network produces a 3rd order output tensor, of shape (max_seq_len, batch_size, num_output_classes).\n",
    "\n",
    "Similarly, our target Y is a 2nd order tensor of shape (max_seq_len, batch_size).\n",
    "\n",
    "You will need to properly treat the extra dimensional of both the output and the target, since loss functions expect an order 2 output tensor and an order 1 target tensor. \n",
    "\n",
    "Complete the functions `train_batch`, `train_epoch`, `eval_batch` and `eval_epoch`."
   ]
  },
  {
   "cell_type": "code",
   "execution_count": 24,
   "metadata": {},
   "outputs": [],
   "source": [
    "def accuracy(predictions: LongTensor, truth: LongTensor, ignore_idx: int) -> Tuple[int, int]:\n",
    "    \"\"\"\n",
    "        Given a tensor containing the network's predictions and a tensor containing the true values, as well\n",
    "        as an output value to ignore (e.g. the padding value), computes and returns the total count of non-\n",
    "        ignored values as well the total count of correctly predicted values.\n",
    "        \n",
    "        predictions: The network's predictions.\n",
    "        truth: The true output labels.\n",
    "        ignore_idx: The output padding value, to be ignored in accuracy calculation.\n",
    "    \"\"\"\n",
    "    \n",
    "    correct_words = torch.ones(predictions.size())\n",
    "    correct_words[predictions != truth] = 0\n",
    "    correct_words[truth == ignore_idx] = 1\n",
    "\n",
    "    num_correct_words = correct_words.sum().item()\n",
    "    num_masked_words = len(truth[truth == ignore_idx])\n",
    "\n",
    "    return predictions.shape[0] * predictions.shape[1] - num_masked_words, num_correct_words - num_masked_words\n",
    "\n",
    "\n",
    "def measure_accuracy(network: torch.nn.Module,\n",
    "                    dataloader: DataLoader,\n",
    "                    device: str) -> float:\n",
    "    \"\"\"\n",
    "        Given a network, a dataloader and a device, iterates over the dataset and returns the network's accuracy.\n",
    "    \"\"\"\n",
    "    correct = 0\n",
    "    total = 0\n",
    "    for x_batch, y_batch in dataloader:\n",
    "        pred = network(x_batch.to(device))\n",
    "        local_total, local_correct = accuracy(pred.argmax(dim=-1), y_batch.to(device), ignore_idx=0)\n",
    "        correct += local_correct\n",
    "        total += local_total\n",
    "    return correct/total\n",
    "    \n",
    "\n",
    "def train_batch(network: torch.nn.Module,\n",
    "                X_batch: FloatTensor,\n",
    "                Y_batch: LongTensor,\n",
    "                loss_fn: Callable[[FloatTensor, FloatTensor], FloatTensor],  \n",
    "                optimizer: torch.optim.Optimizer) -> float:\n",
    "    network.train()\n",
    "    prediction_batch = network(X_batch)  # forward pass\n",
    "    prediction_batch_reshape = prediction_batch.view(-1, prediction_batch.shape[2])\n",
    "    y_batch_reshape = Y_batch.view(-1)\n",
    "    batch_loss = loss_fn(prediction_batch_reshape, y_batch_reshape)  # loss calculation\n",
    "    batch_loss.backward()  # gradient computation\n",
    "    optimizer.step()  # back-propagation\n",
    "    optimizer.zero_grad()  # gradient reset\n",
    "    return batch_loss.item()\n",
    "\n",
    "def train_epoch(network: torch.nn.Module, \n",
    "                dataloader: DataLoader,\n",
    "                loss_fn: Callable[[FloatTensor, FloatTensor], FloatTensor],\n",
    "                optimizer: torch.optim.Optimizer, \n",
    "                device: str) -> float:\n",
    "    loss = 0.0\n",
    "    for i, (x_batch, y_batch) in enumerate(dataloader):\n",
    "        x_batch = x_batch.to(device)  # convert back to your chosen device\n",
    "        y_batch = y_batch.to(device)\n",
    "        loss += train_batch(network=network, X_batch=x_batch, Y_batch=y_batch, loss_fn=loss_fn, optimizer=optimizer)\n",
    "    loss /= (i+1) # divide loss by number of batches for consistency \n",
    "    return loss\n",
    "\n",
    "def eval_batch(network: torch.nn.Module,\n",
    "                X_batch: FloatTensor,\n",
    "                Y_batch: LongTensor,\n",
    "                loss_fn: Callable[[FloatTensor, LongTensor], FloatTensor]) -> float:\n",
    "    network.eval()    \n",
    "    with torch.no_grad():\n",
    "        prediction_batch = network(X_batch)  # forward pass\n",
    "        prediction_batch_reshape = prediction_batch.view(-1, prediction_batch.shape[2])\n",
    "        y_batch_reshape = Y_batch.view(-1)\n",
    "        batch_loss = loss_fn(prediction_batch_reshape, y_batch_reshape)  # loss calculation\n",
    "    return batch_loss\n",
    "\n",
    "def eval_epoch(network: torch.nn.Module, \n",
    "                # a list of data points x\n",
    "                dataloader: DataLoader,\n",
    "                loss_fn: Callable[[FloatTensor, LongTensor], FloatTensor],\n",
    "                device: str) -> float:\n",
    "    loss = 0.0    \n",
    "    for i, (x_batch, y_batch) in enumerate(dataloader):\n",
    "        x_batch = x_batch.to(device)  # convert back to your chosen device\n",
    "        y_batch = y_batch.to(device)\n",
    "        loss += eval_batch(network=network, X_batch=x_batch, Y_batch=y_batch, loss_fn=loss_fn)\n",
    "    loss /= (i+1) # divide loss by number of batches for consistency \n",
    "        \n",
    "    return loss"
   ]
  },
  {
   "cell_type": "markdown",
   "metadata": {},
   "source": [
    "### Assignment 2.6: SRN POS tagging\n",
    "Define a simple recurrent network, with input size compatible with the vector dimensionality, output size compatible with the number of output classes (the number of different POS tags + 1) and a hidden size of your own choice. What is a reasonale choice?"
   ]
  },
  {
   "cell_type": "markdown",
   "metadata": {},
   "source": [
    "#### a) Why do we need to add 1 to the number of output classes?"
   ]
  },
  {
   "cell_type": "markdown",
   "metadata": {},
   "source": [
    "By padding you introduce a new word_vector 0.0, for these new vectors there should be a new classification tag.\n",
    "This tag is not already in the postags, therefore len(pos_to_int) + 1"
   ]
  },
  {
   "cell_type": "markdown",
   "metadata": {},
   "source": [
    "#### b) Implementation\n",
    "\n",
    "Use `\"tanh\"` as your hidden layer activation, and choose **an appropriate combination of output activation and loss function** (consider the task at hand, and refer to the documentation if in doubt- refer to tutorial as well!).\n",
    "\n",
    "Then instantiate an optimizer over your network, and train it for a number of epochs, measuring and printing all metrics in the process (train and validation loss and accuracy).\n",
    "\n",
    "_Hint_: Use `measure_accuracy` (defined earlier) to obtain accuracy.\n",
    "\n",
    "Plot the loss curves over the training process."
   ]
  },
  {
   "cell_type": "code",
   "execution_count": 47,
   "metadata": {},
   "outputs": [],
   "source": [
    "device = \"cuda\"\n",
    "srn = fastSRN(input_dim = 300, hidden_dim = 300, output_dim = len(pos_to_int) + 1, \n",
    "                 hidden_activation = \"tanh\",\n",
    "                 output_activation = torch.nn.LogSoftmax(dim=-1),\n",
    "                 device = device)\n",
    "opt = torch.optim.Adam(srn.parameters(), lr=1e-05)\n",
    "loss_fn = torch.nn.NLLLoss(reduction='mean')"
   ]
  },
  {
   "cell_type": "code",
   "execution_count": 48,
   "metadata": {},
   "outputs": [
    {
     "name": "stdout",
     "output_type": "stream",
     "text": [
      "Epoch 0\n",
      "Training Loss: 2.3856847350960537\n",
      "Validation Loss: 1.644905686378479\n",
      "Accuracy: 0.18169845018008998\n",
      "Epoch 1\n",
      "Training Loss: 1.4655239731270746\n",
      "Validation Loss: 1.2809529304504395\n",
      "Accuracy: 0.416284317974623\n",
      "Epoch 2\n",
      "Training Loss: 1.2093838285136695\n",
      "Validation Loss: 1.0737624168395996\n",
      "Accuracy: 0.4851649952922539\n",
      "Epoch 3\n",
      "Training Loss: 1.0138647322228413\n",
      "Validation Loss: 0.8953847289085388\n",
      "Accuracy: 0.5382429645349793\n",
      "Epoch 4\n",
      "Training Loss: 0.8421342883678462\n",
      "Validation Loss: 0.7510666251182556\n",
      "Accuracy: 0.6176917846094065\n",
      "Epoch 5\n",
      "Training Loss: 0.7095833286149612\n",
      "Validation Loss: 0.6384069919586182\n",
      "Accuracy: 0.6761705848066835\n",
      "Epoch 6\n",
      "Training Loss: 0.6083105778852046\n",
      "Validation Loss: 0.5498538017272949\n",
      "Accuracy: 0.7209894486706222\n",
      "Epoch 7\n",
      "Training Loss: 0.526824987092555\n",
      "Validation Loss: 0.4804303050041199\n",
      "Accuracy: 0.7532487184468921\n",
      "Epoch 8\n",
      "Training Loss: 0.4644749061753418\n",
      "Validation Loss: 0.42540138959884644\n",
      "Accuracy: 0.777140529957705\n",
      "Epoch 9\n",
      "Training Loss: 0.4125104164445637\n",
      "Validation Loss: 0.3813532590866089\n",
      "Accuracy: 0.8014227854911748\n",
      "Epoch 10\n",
      "Training Loss: 0.3711902613079311\n",
      "Validation Loss: 0.3454737365245819\n",
      "Accuracy: 0.8202425610138842\n",
      "Epoch 11\n",
      "Training Loss: 0.33731826545781646\n",
      "Validation Loss: 0.31589001417160034\n",
      "Accuracy: 0.8330450150199519\n",
      "Epoch 12\n",
      "Training Loss: 0.30936282608682747\n",
      "Validation Loss: 0.29128575325012207\n",
      "Accuracy: 0.843908325985264\n",
      "Epoch 13\n",
      "Training Loss: 0.2858538374403455\n",
      "Validation Loss: 0.27073201537132263\n",
      "Accuracy: 0.8530305181509766\n",
      "Epoch 14\n",
      "Training Loss: 0.26633081376947315\n",
      "Validation Loss: 0.2534230053424835\n",
      "Accuracy: 0.8611906114091853\n",
      "Epoch 15\n",
      "Training Loss: 0.25008077056992134\n",
      "Validation Loss: 0.2387622445821762\n",
      "Accuracy: 0.8676394763192898\n",
      "Epoch 16\n",
      "Training Loss: 0.2363669242586521\n",
      "Validation Loss: 0.226352721452713\n",
      "Accuracy: 0.8734625099012121\n",
      "Epoch 17\n",
      "Training Loss: 0.2237806914361897\n",
      "Validation Loss: 0.2156270146369934\n",
      "Accuracy: 0.8774715667080151\n",
      "Epoch 18\n",
      "Training Loss: 0.2135199602866015\n",
      "Validation Loss: 0.20642565190792084\n",
      "Accuracy: 0.8812022686852685\n",
      "Epoch 19\n",
      "Training Loss: 0.20575708354151012\n",
      "Validation Loss: 0.19835084676742554\n",
      "Accuracy: 0.8845967030832\n",
      "Epoch 20\n",
      "Training Loss: 0.19850480925563155\n",
      "Validation Loss: 0.19131065905094147\n",
      "Accuracy: 0.887466186426746\n",
      "Epoch 21\n",
      "Training Loss: 0.19146525114774704\n",
      "Validation Loss: 0.18510599434375763\n",
      "Accuracy: 0.8898480817802753\n",
      "Epoch 22\n",
      "Training Loss: 0.18453913623134033\n",
      "Validation Loss: 0.17952509224414825\n",
      "Accuracy: 0.8930725142353275\n",
      "Epoch 23\n",
      "Training Loss: 0.17833945332773474\n",
      "Validation Loss: 0.17465972900390625\n",
      "Accuracy: 0.8959027663612859\n",
      "Epoch 24\n",
      "Training Loss: 0.17415741592250913\n",
      "Validation Loss: 0.17018847167491913\n",
      "Accuracy: 0.8985275216332143\n",
      "Epoch 25\n",
      "Training Loss: 0.16964095468750062\n",
      "Validation Loss: 0.16615597903728485\n",
      "Accuracy: 0.9007917233339809\n",
      "Epoch 26\n",
      "Training Loss: 0.1652058223718839\n",
      "Validation Loss: 0.16253067553043365\n",
      "Accuracy: 0.9027047122296782\n",
      "Epoch 27\n",
      "Training Loss: 0.16161650188316573\n",
      "Validation Loss: 0.15918780863285065\n",
      "Accuracy: 0.9045915469803172\n",
      "Epoch 28\n",
      "Training Loss: 0.15818379903273866\n",
      "Validation Loss: 0.15615954995155334\n",
      "Accuracy: 0.9060785969422068\n",
      "Epoch 29\n",
      "Training Loss: 0.1558901890816278\n",
      "Validation Loss: 0.15334096550941467\n",
      "Accuracy: 0.9080382896683654\n",
      "Epoch 30\n",
      "Training Loss: 0.15293563205674784\n",
      "Validation Loss: 0.1507532149553299\n",
      "Accuracy: 0.9100110594670533\n",
      "Epoch 31\n",
      "Training Loss: 0.14963823714793123\n",
      "Validation Loss: 0.14841148257255554\n",
      "Accuracy: 0.9112963488813498\n",
      "Epoch 32\n",
      "Training Loss: 0.1472287296558058\n",
      "Validation Loss: 0.14616674184799194\n",
      "Accuracy: 0.912706804561283\n",
      "Epoch 33\n",
      "Training Loss: 0.145648747731913\n",
      "Validation Loss: 0.14416031539440155\n",
      "Accuracy: 0.9137585748232727\n",
      "Epoch 34\n",
      "Training Loss: 0.14277423409041978\n",
      "Validation Loss: 0.1423153430223465\n",
      "Accuracy: 0.9145431991750236\n",
      "Epoch 35\n",
      "Training Loss: 0.14171861074618156\n",
      "Validation Loss: 0.14050443470478058\n",
      "Accuracy: 0.9155127706954014\n",
      "Epoch 36\n",
      "Training Loss: 0.1393172952710398\n",
      "Validation Loss: 0.13880054652690887\n",
      "Accuracy: 0.9165084963608375\n",
      "Epoch 37\n",
      "Training Loss: 0.13774111304456824\n",
      "Validation Loss: 0.1372150480747223\n",
      "Accuracy: 0.9174463092765016\n",
      "Epoch 38\n",
      "Training Loss: 0.13583129397685953\n",
      "Validation Loss: 0.13575224578380585\n",
      "Accuracy: 0.9182533514668739\n",
      "Epoch 39\n",
      "Training Loss: 0.13459340019139232\n",
      "Validation Loss: 0.13440392911434174\n",
      "Accuracy: 0.9189539089237942\n",
      "Epoch 40\n",
      "Training Loss: 0.13269358296070669\n",
      "Validation Loss: 0.1330859363079071\n",
      "Accuracy: 0.9194022656962233\n",
      "Epoch 41\n",
      "Training Loss: 0.13163302749000638\n",
      "Validation Loss: 0.13182809948921204\n",
      "Accuracy: 0.9201420543707313\n",
      "Epoch 42\n",
      "Training Loss: 0.130430258588483\n",
      "Validation Loss: 0.13070063292980194\n",
      "Accuracy: 0.9207081047959229\n",
      "Epoch 43\n",
      "Training Loss: 0.12904488906165623\n",
      "Validation Loss: 0.12961208820343018\n",
      "Accuracy: 0.9209976685447834\n",
      "Epoch 44\n",
      "Training Loss: 0.12818509560843178\n",
      "Validation Loss: 0.12851256132125854\n",
      "Accuracy: 0.9216944896952668\n",
      "Epoch 45\n",
      "Training Loss: 0.12743921391419227\n",
      "Validation Loss: 0.1274944245815277\n",
      "Accuracy: 0.9222866942655169\n",
      "Epoch 46\n",
      "Training Loss: 0.12608840728536347\n",
      "Validation Loss: 0.12660901248455048\n",
      "Accuracy: 0.9226173573851834\n",
      "Epoch 47\n",
      "Training Loss: 0.12538999147367794\n",
      "Validation Loss: 0.1257113218307495\n",
      "Accuracy: 0.9231180224477291\n",
      "Epoch 48\n",
      "Training Loss: 0.12363735291835488\n",
      "Validation Loss: 0.1247999370098114\n",
      "Accuracy: 0.9237195677840714\n",
      "Epoch 49\n",
      "Training Loss: 0.12236137611680473\n",
      "Validation Loss: 0.12418277561664581\n",
      "Accuracy: 0.9236747321068285\n"
     ]
    }
   ],
   "source": [
    "# Your training script here\n",
    "\n",
    "NUM_EPOCHS = 50\n",
    "\n",
    "train_losses = []\n",
    "val_losses = []\n",
    "network_acc = []\n",
    "\n",
    "for t in range(NUM_EPOCHS):\n",
    "    train_loss = train_epoch(srn, train_dataloader, optimizer=opt, loss_fn=loss_fn, device=device)\n",
    "    val_loss = eval_epoch(srn, val_dataloader, loss_fn, device=device)\n",
    "    epoch_acc = measure_accuracy(srn, train_dataloader, device)\n",
    "    \n",
    "    print('Epoch {}'.format(t))\n",
    "    print('Training Loss: {}'.format(train_loss))\n",
    "    print('Validation Loss: {}'.format(val_loss))\n",
    "    print('Accuracy: {}'.format(epoch_acc))\n",
    "    \n",
    "    train_losses.append(train_loss)\n",
    "    val_losses.append(val_loss)\n",
    "    network_acc.append(epoch_acc)"
   ]
  },
  {
   "cell_type": "code",
   "execution_count": 61,
   "metadata": {},
   "outputs": [
    {
     "data": {
      "image/png": "[encoded data removed]",
      "text/plain": [
       "<Figure size 432x288 with 1 Axes>"
      ]
     },
     "metadata": {
      "needs_background": "light"
     },
     "output_type": "display_data"
    }
   ],
   "source": [
    "# Your plotting here\n",
    "\n",
    "from matplotlib import pyplot as plt\n",
    "plt.plot(train_losses)\n",
    "plt.plot(val_losses)\n",
    "plt.plot(network_acc)\n",
    "plt.legend([\"Training\", \"Validation\", \"Accuracy\"])\n",
    "plt.show()"
   ]
  },
  {
   "cell_type": "markdown",
   "metadata": {},
   "source": [
    "The test accuracy on this task should be well over 90%. If you are getting an accuracy much below this, check your code, play with your hyperparameters and try to improve. \n",
    "\n",
    "#### c) What is your final accuracy?"
   ]
  },
  {
   "cell_type": "markdown",
   "metadata": {},
   "source": [
    "For 50 epochs and 300 hidden dimensions we get:\n",
    "Training Loss: 0.12236137611680473\n",
    "Validation Loss: 0.12418277561664581\n",
    "Accuracy: 0.9236747321068285"
   ]
  },
  {
   "cell_type": "markdown",
   "metadata": {},
   "source": [
    "#### d) A little error analysis\n",
    "Find 2-4 sentences with wrong tags. Can you say why these mistakes are made?\n",
    "Optionally, feel free is do a full error analysis. What are the most commonly confused tags for an English POS tagger?"
   ]
  },
  {
   "cell_type": "code",
   "execution_count": 90,
   "metadata": {},
   "outputs": [
    {
     "name": "stdout",
     "output_type": "stream",
     "text": [
      "tensor(-24.0487, device='cuda:0')\n",
      "tensor([-2.0266e-06, -1.6747e+01, -2.1182e+01, -2.2122e+01, -2.2962e+01,\n",
      "        -2.0255e+01, -2.2853e+01, -2.1534e+01, -1.3253e+01, -2.3741e+01,\n",
      "        -2.3765e+01, -2.3599e+01, -1.7025e+01, -2.3305e+01, -1.7989e+01,\n",
      "        -1.5578e+01, -2.0180e+01, -2.2233e+01, -2.3355e+01, -2.3374e+01,\n",
      "        -2.1640e+01, -2.2397e+01, -2.0543e+01, -2.0553e+01, -2.3355e+01,\n",
      "        -1.8015e+01, -2.1787e+01, -2.1154e+01, -2.2633e+01, -2.2659e+01,\n",
      "        -2.0385e+01, -2.1977e+01, -1.8946e+01, -2.2160e+01, -2.4480e+01,\n",
      "        -1.8947e+01, -2.3057e+01, -2.0026e+01, -1.9251e+01, -2.4041e+01,\n",
      "        -2.3802e+01, -2.1239e+01, -2.4362e+01, -2.3028e+01, -2.3492e+01,\n",
      "        -2.4084e+01, -2.1451e+01, -2.2433e+01, -2.4049e+01], device='cuda:0')\n",
      "tensor(0.0970, device='cuda:0')\n"
     ]
    }
   ],
   "source": [
    "network = srn\n",
    "max_pred_48 = 0\n",
    "max_pred = 0\n",
    "used_batch = None\n",
    "for i, (x_batch, y_batch) in enumerate(train_dataloader):\n",
    "    x_batch = x_batch.to(device)  # convert back to your chosen device\n",
    "    y_batch = y_batch.to(device)\n",
    "    network.eval()    \n",
    "    with torch.no_grad():\n",
    "        prediction_batch = network(x_batch)  # forward pass\n",
    "        prediction_batch_reshape = prediction_batch.view(-1, prediction_batch.shape[2])\n",
    "        y_batch_reshape = y_batch.view(-1)\n",
    "        #print(prediction_batch_reshape)\n",
    "        #print(y_batch_reshape)\n",
    "        #print(prediction_batch_reshape.shape)\n",
    "        #print(y_batch_reshape.shape)\n",
    "        for i in range(len(prediction_batch_reshape)):\n",
    "            if max_pred_48 > prediction_batch_reshape[i][48]:\n",
    "                max_pred_48 = prediction_batch_reshape[i][48]\n",
    "                max_pred = prediction_batch_reshape[i] \n",
    "                used_batch = x_batch.view(-1)[i]\n",
    "        #print(prediction_batch_reshape[0][48])\n",
    "        #print(y_batch_reshape)\n",
    "\n",
    "print(max_pred_48)\n",
    "print(max_pred)\n",
    "print(used_batch)"
   ]
  },
  {
   "cell_type": "markdown",
   "metadata": {},
   "source": [
    "The luxury auto maker last year sold 1,214 cars in the U.S. \n",
    "['DT', 'NN', 'NN', 'NN', 'JJ', 'NN', 'VBD', 'CD', 'NNS', 'IN', 'DT', 'NNP'] \n",
    " \n",
    "This is one example of a sentence with a wrong tag. Luxury is taged as a noun, however, in this sentence it is a adjective. This mistake is made because predictions are made based on previous words. The mistake in then made, because at this stage it is not yet know that a noun comes after luxury, making it an adjective. \n",
    " \n",
    "Bell , based in Los Angeles , makes and distributes electronic , computer and building products . \n",
    "['NNP', ',', 'VBN', 'IN', 'NNP', 'NNP', ',', 'VBZ', 'CC', 'VBZ', 'JJ', ',', 'NN', 'CC', 'NN', 'NNS', '.']\n",
    " \n",
    "In this second example 'computer' and 'building' are predicted as nouns, however, these words are adjectives for the word 'products'. This mistake is made, because the words on itself could be nouns, based of the previous words, but when the prediction is made (without knowing what comes after) the systems predicts it wrong. \n",
    " \n",
    "Both examples make mistakes based on the same reason. The system makes tag predictions based on the previous words, not knowing what will come after. The actual tags of words can also be based on the words that come after it, such as in these examples. In those cases a tag can not be predicted well, just based on the previous words. Humans are capable of backpropogating, tagging correctly, even when you already passed the word, the model is not. "
   ]
  },
  {
   "cell_type": "markdown",
   "metadata": {},
   "source": [
    "**Congratulations!** 🎉 You are done with the required part! "
   ]
  },
  {
   "cell_type": "markdown",
   "metadata": {},
   "source": [
    "### Optional\n",
    "\n",
    "RNNs have limited expressive capacity that can be surpassed by more complicated variants such as [Gated Recurrent Units](https://en.wikipedia.org/wiki/Gated_recurrent_unit) and [Long Short-Term Memory Units](https://en.wikipedia.org/wiki/Long_short-term_memory); replacing your RNN with those could easily improve its performance.\n",
    "\n",
    "If you found the previous part easy and are already done, you can use other neural architectures to do the same task on the same dataset, and compare their performance.  (There will not be support provided for this, or points, but you are welcome to explore this for your own understanding :))\n",
    "\n",
    "Whatever your design choices are, keep the torch documentation close at all times! Do not reinvent the wheel, use existing abstractions whenever possible (but make sure you use them the right way!). Take measures against overfitting: regularize with dropout and/or weight decay and keep track of the validation set performance to stop training early if needed."
   ]
  },
  {
   "cell_type": "code",
   "execution_count": null,
   "metadata": {},
   "outputs": [],
   "source": []
  }
 ],
 "metadata": {
  "kernelspec": {
   "display_name": "Python 3",
   "language": "python",
   "name": "python3"
  },
  "language_info": {
   "codemirror_mode": {
    "name": "ipython",
    "version": 3
   },
   "file_extension": ".py",
   "mimetype": "text/x-python",
   "name": "python",
   "nbconvert_exporter": "python",
   "pygments_lexer": "ipython3",
   "version": "3.8.3"
  }
 },
 "nbformat": 4,
 "nbformat_minor": 2
}
