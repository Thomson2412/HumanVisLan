{
 "cells": [
  {
   "cell_type": "markdown",
   "metadata": {},
   "source": [
    "# 🔥 Torch Intro 🔥\n",
    "\n",
    "## What is PyTorch?\n",
    "PyTorch (or just torch) is a python deep learning library, by now getting widely adopted both in research and industry. Like most deep learning libraries it employs GPU accelaration; unlike most deep learning libraries, it supports dynamic computational graphs and deep python integration, enabling easy experimentation and code inspection. It provides high-level abstractions but also allows for low-level access to its primitives. You can read more about PyTorch at the official [site](https://pytorch.org/).\n",
    "\n",
    "## Installing PyTorch on your machine\n",
    "Install PyTorch by following the guidelines here [here](https://pytorch.org/get-started/locally/).\n",
    "\n",
    "<div class=\"alert alert-block alert-info\">\n",
    "<b>Note:</b> If you have an nVidia GPU, installing a CUDA version of PyTorch will allow you to utilize it, significantly speeding up computation.\n",
    "</div>\n",
    "\n",
    "# This Tutorial\n",
    "This tutorial will take you through PyTorch's main functionalities. It only aims to give you some insight on how to use PyTorch and is by no means a full tutorial on neural networks. Prior knowledge of neural netowrks and their inner workings (i.e. linear algebra, gradient-based optimization, back-propagation, etc.) will certainly prove useful. You are assumed to be largely fluent in python.\n",
    "\n",
    "# Table of Contents\n",
    "1. [Tensors](#1)\n",
    "    1. [Tensor Types](#1a)\n",
    "    2. [Instantiating Tensors](#1b)\n",
    "    3. [Basic Tensor Operations](#1c)\n",
    "    4. [Exercises](#1d)\n",
    "2. [Automatic Differentation](#2)\n",
    "    1. [Autograd](#2a)\n",
    "    2. [Exercises](#2b)\n",
    "3. [Neural Networks](#3)\n",
    "    1. [Custom Neural Networks](#3a)\n",
    "    2. [Loss Functions](#3b)\n",
    "    3. [Optimizers](#3c)\n",
    "    4. [Exercises](#3d)\n",
    "4. [Putting Everything Together](#4)\n",
    "\n",
    "\n",
    "For a more in-depth overview of PyTorch's capabilities, refer to the [official documentation](https://pytorch.org/docs/stable/index.html) (this link will prove handy for your assignments-- keep it close and use it often).\n",
    "\n",
    "---"
   ]
  },
  {
   "cell_type": "markdown",
   "metadata": {},
   "source": [
    "#### Getting started\n",
    "Let's verify your torch installation is working by trying to import it."
   ]
  },
  {
   "cell_type": "code",
   "execution_count": 1,
   "metadata": {},
   "outputs": [],
   "source": [
    "import torch"
   ]
  },
  {
   "cell_type": "markdown",
   "metadata": {},
   "source": [
    "<a id='1'></a>\n",
    "## 1. Tensors\n",
    "\n",
    "A [Tensor](https://pytorch.org/docs/stable/tensors.html) is the building block of any PyTorch program; it is the abstraction that stores n-ary arrays of numbers (i.e. tensors) and provides various functionalities for processing them. \n",
    "\n",
    "<a id='1a'></a>\n",
    "### A. Tensor Types\n",
    "\n",
    "There are 16 types of Tensors, distinguished by their `dtypes` (the sort of numbers stored within them) and the `device` they can be accessed by (either GPU or CPU).\n",
    "\n",
    "The different Tensor types and their corresponding classes are shown below:\n",
    "\n",
    "|  | dtype | CPU Tensor Class | GPU Tensor Class |\n",
    "| --- | --- | --- | --- |\n",
    "| Full precision float | `torch.float32` | `torch.FloatTensor` | `torch.cuda.FloatTensor`| \n",
    "| Half precision float | `torch.float16` | `torch.HalfTensor` | `torch.cuda.HalfTensor` |\n",
    "| Double precision float | `torch.float64` | `torch.DoubleTensor` | `torch.cuda.DoubleTensor` |\n",
    "| 8-bit unsigned integer | `torch.uint8` | `torch.ByteTensor` | `torch.cuda.ByteTensor` |\n",
    "| 8-bit signed integer | `torch.int8` | `torch.CharTensor` | `torch.CharTensor` |\n",
    "| 16-bit signed integer | `torch.int16` | `torch.ShortTensor` | `torch.cuda.ShortTensor` |\n",
    "| 32-bit signed integer | `torch.int32` | `torch.IntTensor` | `torch.cuda.IntTensor` |\n",
    "| 64-bit signed integer | `torch.int64` | `torch.LongTensor` | `torch.cuda.LongTensor` |\n",
    "\n",
    "<div class=\"alert alert-block alert-warning\">\n",
    "<b>Warning:</b>\n",
    "Interaction between Tensors of different devices or dtypes is not permitted (so make sure you are consistent). \n",
    "</div>\n",
    "\n",
    "We are mostly interested in full precision floats and long integers (on either device), so we can forget about the rest of them for now."
   ]
  },
  {
   "cell_type": "markdown",
   "metadata": {},
   "source": [
    "<a id='1b'></a>\n",
    "### B. Instantiating Tensors\n",
    "Tensors can be instantiated in a number of ways. When we want to construct a placeholder tensor of fixed dimensionality, we may simply call the appropriate class constructor."
   ]
  },
  {
   "cell_type": "code",
   "execution_count": 2,
   "metadata": {},
   "outputs": [],
   "source": [
    "my_first_long_tensor = torch.LongTensor(5)  # a vector of 5 longs\n",
    "my_first_float_tensor = torch.FloatTensor(5,5)  # a 5 by 5 matrix of floats"
   ]
  },
  {
   "cell_type": "markdown",
   "metadata": {},
   "source": [
    "Alternatively, we may use the abstract constructor `torch.tensor` and use the `dtype` and `device` arguments to specify its type (these default to torch.float and cpu, in the general case)."
   ]
  },
  {
   "cell_type": "code",
   "execution_count": 3,
   "metadata": {},
   "outputs": [],
   "source": [
    "my_second_long_tensor = torch.tensor(5, device='cpu', dtype=torch.long) # another vector of 5 longs\n",
    "my_second_float_tensor = torch.tensor((5, 5), device='cpu', dtype=torch.float)"
   ]
  },
  {
   "cell_type": "markdown",
   "metadata": {},
   "source": [
    "For the sake of convenience, we will now specify the device used by the rest of the tutorial. If you have the cuda version installed but would rather not use it, change the snippet below."
   ]
  },
  {
   "cell_type": "code",
   "execution_count": 2,
   "metadata": {},
   "outputs": [
    {
     "name": "stdout",
     "output_type": "stream",
     "text": [
      "Using cuda\n"
     ]
    }
   ],
   "source": [
    "if torch.cuda.is_available():\n",
    "    device = 'cuda'\n",
    "else:\n",
    "    device = 'cpu'\n",
    "\n",
    "print('Using {}'.format(device))"
   ]
  },
  {
   "cell_type": "markdown",
   "metadata": {},
   "source": [
    "There are a few useful short-hands for constructing tensors with commonly used values. Let's use some of them."
   ]
  },
  {
   "cell_type": "code",
   "execution_count": 5,
   "metadata": {},
   "outputs": [],
   "source": [
    "a = torch.zeros((2,3,4), device=device)  # a 2 by 3 by 4 tensor of zeroes\n",
    "b = torch.ones(42, device=device)  # a vector of 42 ones\n",
    "c = torch.eye(3, device=device)  # the 3 by 3 identity matrix\n",
    "d = torch.rand((32,10,300), device=device)  # a 32 by 10 by 300 tensor of randoms\n",
    "e = torch.randint(low=0, high=10, size=(3,3), device=device)  # a 3 by 3 matrix of random integers between 0 and 10\n",
    "f = torch.arange(10, device=device)  # a vector containing the numbers 0 to 9 in ascending order"
   ]
  },
  {
   "cell_type": "markdown",
   "metadata": {},
   "source": [
    "We can always query a tensor's contents, shape, dtype and device."
   ]
  },
  {
   "cell_type": "code",
   "execution_count": 6,
   "metadata": {},
   "outputs": [
    {
     "name": "stdout",
     "output_type": "stream",
     "text": [
      "torch.Size([2, 3, 4])\n",
      "cuda:0\n",
      "\n",
      "\n",
      "torch.Size([42])\n",
      "cuda:0\n",
      "\n",
      "\n",
      "torch.Size([3, 3])\n",
      "cuda:0\n",
      "\n",
      "\n",
      "torch.Size([32, 10, 300])\n",
      "cuda:0\n",
      "\n",
      "\n",
      "torch.Size([3, 3])\n",
      "cuda:0\n",
      "\n",
      "\n",
      "torch.Size([10])\n",
      "cuda:0\n",
      "\n",
      "\n"
     ]
    }
   ],
   "source": [
    "for te in [a, b, c, d, e, f]:\n",
    "    print(te.shape)\n",
    "    print(te.device)\n",
    "    # print(te)\n",
    "    print('\\n')"
   ]
  },
  {
   "cell_type": "markdown",
   "metadata": {},
   "source": [
    "We can also specify the values of a tensor by passing a list (of lists*) of values during its construction."
   ]
  },
  {
   "cell_type": "code",
   "execution_count": 7,
   "metadata": {},
   "outputs": [
    {
     "name": "stdout",
     "output_type": "stream",
     "text": [
      "tensor([[1, 2, 3],\n",
      "        [4, 5, 6],\n",
      "        [7, 8, 9]], device='cuda:0')\n",
      "torch.Size([3, 3])\n",
      "torch.int64\n"
     ]
    }
   ],
   "source": [
    "a = torch.tensor([[1,2,3], [4,5,6], [7,8,9]], device=device)\n",
    "print(a)\n",
    "print(a.shape)\n",
    "print(a.dtype)"
   ]
  },
  {
   "cell_type": "markdown",
   "metadata": {},
   "source": [
    "Notice that PyTorch automatically assumed that the tensor we specified should be of type long (because we only provided integers as the tensor's contents). We could of course avoid this by manually specifying the dtype. Alternatively, we can alter the dtype and/or device post-construction."
   ]
  },
  {
   "cell_type": "code",
   "execution_count": 8,
   "metadata": {},
   "outputs": [
    {
     "name": "stdout",
     "output_type": "stream",
     "text": [
      "torch.float32\n",
      "cpu\n"
     ]
    }
   ],
   "source": [
    "a = a \n",
    "print(a.dtype)\n",
    "a = a.to('cpu')  # or alternatively, a = a.cpu()\n",
    "print(a.device)"
   ]
  },
  {
   "cell_type": "markdown",
   "metadata": {},
   "source": [
    "Finally, a torch tensor can also be directy constructed by (or converted to) a numpy array. Converting to a numpy array only works for _cpu_ tensors."
   ]
  },
  {
   "cell_type": "code",
   "execution_count": 9,
   "metadata": {},
   "outputs": [
    {
     "name": "stdout",
     "output_type": "stream",
     "text": [
      "[[0.99586459 0.07941193]\n",
      " [0.10422223 0.31771432]]\n",
      "tensor([[0.9959, 0.0794],\n",
      "        [0.1042, 0.3177]], device='cuda:0', dtype=torch.float64)\n",
      "[[0.99586459 0.07941193]\n",
      " [0.10422223 0.31771432]]\n"
     ]
    }
   ],
   "source": [
    "import numpy as np\n",
    "a_np = np.random.random((2,2))\n",
    "a_torch = torch.tensor(a_np, device=device)\n",
    "print(a_np)\n",
    "print(a_torch)\n",
    "a_np_2 = a_torch.cpu().numpy()\n",
    "print(a_np_2)"
   ]
  },
  {
   "cell_type": "code",
   "execution_count": 10,
   "metadata": {},
   "outputs": [],
   "source": [
    "del a_np, a_torch, a_np_2, b, c, d, my_first_long_tensor, my_first_float_tensor, my_second_long_tensor, my_second_float_tensor, e, f"
   ]
  },
  {
   "cell_type": "markdown",
   "metadata": {},
   "source": [
    "<a id='1c'></a>\n",
    "### C. Basic Tensor Operations\n",
    "Tensors and their contents' are not hidden by the framework-- they are immediatelly accessible to us and we can interact with them in many ways, while being able to inspect the results of our actions. Let's walk through some of the most common usecases."
   ]
  },
  {
   "cell_type": "markdown",
   "metadata": {},
   "source": [
    "#### Indexing and Slicing\n",
    "Standard python indexing and slicing applies to torch tensors. Let's remember how that works-- first we will need a random matrix to experiment with."
   ]
  },
  {
   "cell_type": "code",
   "execution_count": 110,
   "metadata": {},
   "outputs": [
    {
     "name": "stdout",
     "output_type": "stream",
     "text": [
      "tensor([[7.1651e-01, 6.2365e-04, 9.9171e-01],\n",
      "        [2.4405e-01, 3.9190e-01, 4.9812e-01],\n",
      "        [8.9944e-01, 7.3905e-01, 2.9933e-01],\n",
      "        [5.8509e-01, 4.1313e-02, 5.9364e-02],\n",
      "        [2.4917e-01, 7.9703e-01, 3.9457e-01]], device='cuda:0')\n"
     ]
    }
   ],
   "source": [
    "a = torch.rand((5,3), device=device)  \n",
    "print(a)"
   ]
  },
  {
   "cell_type": "markdown",
   "metadata": {},
   "source": [
    "<div class=\"alert alert-block alert-warning\">\n",
    "<b>Remember!</b>\n",
    "Indexing starts from zero\n",
    "</div>\n",
    "\n",
    "Now let's try retrieving the 3rd item of the 1st row."
   ]
  },
  {
   "cell_type": "code",
   "execution_count": 12,
   "metadata": {},
   "outputs": [
    {
     "name": "stdout",
     "output_type": "stream",
     "text": [
      "tensor(0.8602, device='cuda:0')\n"
     ]
    }
   ],
   "source": [
    "b = a[0][2]\n",
    "print(b)"
   ]
  },
  {
   "cell_type": "markdown",
   "metadata": {},
   "source": [
    "What if we wanted the first three rows of the matrix instead?"
   ]
  },
  {
   "cell_type": "code",
   "execution_count": 131,
   "metadata": {},
   "outputs": [
    {
     "name": "stdout",
     "output_type": "stream",
     "text": [
      "tensor([[7.1651e-01, 6.2365e-04, 9.9171e-01],\n",
      "        [2.4405e-01, 3.9190e-01, 4.9812e-01],\n",
      "        [8.9944e-01, 7.3905e-01, 2.9933e-01]], device='cuda:0')\n"
     ]
    }
   ],
   "source": [
    "c = a[:3]\n",
    "print(c)"
   ]
  },
  {
   "cell_type": "markdown",
   "metadata": {},
   "source": [
    "Or its third column?"
   ]
  },
  {
   "cell_type": "code",
   "execution_count": 14,
   "metadata": {},
   "outputs": [
    {
     "name": "stdout",
     "output_type": "stream",
     "text": [
      "tensor([0.8602, 0.1415, 0.7173, 0.4353, 0.6606], device='cuda:0')\n"
     ]
    }
   ],
   "source": [
    "c = a[:, 2]\n",
    "print(c)"
   ]
  },
  {
   "cell_type": "markdown",
   "metadata": {},
   "source": [
    "Or every second element of the first column, starting from the second?"
   ]
  },
  {
   "cell_type": "code",
   "execution_count": 15,
   "metadata": {},
   "outputs": [
    {
     "name": "stdout",
     "output_type": "stream",
     "text": [
      "tensor([0.1249, 0.7134], device='cuda:0')\n"
     ]
    }
   ],
   "source": [
    "c = a[1::2, 0]\n",
    "print(c)"
   ]
  },
  {
   "cell_type": "markdown",
   "metadata": {},
   "source": [
    "But now in reverse, starting from the last?!"
   ]
  },
  {
   "cell_type": "code",
   "execution_count": 16,
   "metadata": {},
   "outputs": [
    {
     "ename": "ValueError",
     "evalue": "step must be greater than zero",
     "output_type": "error",
     "traceback": [
      "\u001b[0;31m---------------------------------------------------------------------------\u001b[0m",
      "\u001b[0;31mValueError\u001b[0m                                Traceback (most recent call last)",
      "\u001b[0;32m<ipython-input-16-750cb89b0dfc>\u001b[0m in \u001b[0;36m<module>\u001b[0;34m\u001b[0m\n\u001b[0;32m----> 1\u001b[0;31m \u001b[0mc\u001b[0m \u001b[0;34m=\u001b[0m \u001b[0ma\u001b[0m\u001b[0;34m[\u001b[0m\u001b[0;34m-\u001b[0m\u001b[0;36m1\u001b[0m\u001b[0;34m:\u001b[0m\u001b[0;34m:\u001b[0m\u001b[0;34m-\u001b[0m\u001b[0;36m2\u001b[0m\u001b[0;34m,\u001b[0m \u001b[0;36m0\u001b[0m\u001b[0;34m]\u001b[0m\u001b[0;34m\u001b[0m\u001b[0;34m\u001b[0m\u001b[0m\n\u001b[0m\u001b[1;32m      2\u001b[0m \u001b[0mprint\u001b[0m\u001b[0;34m(\u001b[0m\u001b[0mc\u001b[0m\u001b[0;34m)\u001b[0m\u001b[0;34m\u001b[0m\u001b[0;34m\u001b[0m\u001b[0m\n",
      "\u001b[0;31mValueError\u001b[0m: step must be greater than zero"
     ]
    }
   ],
   "source": [
    "c = a[-1::-2, 0]\n",
    "print(c)"
   ]
  },
  {
   "cell_type": "markdown",
   "metadata": {},
   "source": [
    "Well, perhaps not.."
   ]
  },
  {
   "cell_type": "markdown",
   "metadata": {},
   "source": [
    "#### Value Assignment\n",
    "We can use the exact same scheme to assign values to tensors."
   ]
  },
  {
   "cell_type": "code",
   "execution_count": 17,
   "metadata": {},
   "outputs": [
    {
     "name": "stdout",
     "output_type": "stream",
     "text": [
      "tensor([[0.0000, 0.5347, 0.8602],\n",
      "        [0.1249, 0.5938, 0.1415],\n",
      "        [0.0291, 0.3970, 0.7173],\n",
      "        [0.7134, 0.8620, 0.4353],\n",
      "        [0.3186, 0.0885, 0.6606]], device='cuda:0')\n",
      "tensor([[0.1373, 0.2419, 0.1735],\n",
      "        [0.4844, 0.5630, 0.7471],\n",
      "        [0.8730, 0.6858, 0.8542],\n",
      "        [0.5588, 0.0533, 0.5826],\n",
      "        [0.8036, 0.1391, 0.3961]], device='cuda:0')\n",
      "tensor([[0.0000, 0.5347, 0.8602],\n",
      "        [0.8730, 0.6858, 0.8542],\n",
      "        [0.0291, 0.3970, 0.7173],\n",
      "        [0.7134, 0.8620, 0.4353],\n",
      "        [0.3186, 0.0885, 0.6606]], device='cuda:0')\n"
     ]
    }
   ],
   "source": [
    "# Set the top left item of the matrix to zero.\n",
    "a[0,0] = 0\n",
    "print(a)\n",
    "\n",
    "# Construct another random matrix of the same shape\n",
    "b = torch.rand_like(a, device=device)\n",
    "print(b)\n",
    "\n",
    "# Set the second row of matrix a to be the third row of matrix b\n",
    "a[1] = b[2]\n",
    "print(a)"
   ]
  },
  {
   "cell_type": "markdown",
   "metadata": {},
   "source": [
    "#### Element-wise Arithmetic\n",
    "Element-wise operations (most importantly comparison, addition, subtraction, multiplication and division) can be applied on tensors of compatible shapes (i.e. shapes that can be [broadcasted](https://pytorch.org/docs/stable/notes/broadcasting.html)). \n",
    "\n",
    "Two tensors are compatible if any of the two below conditions hold:\n",
    "* their shapes are the same \n",
    "* their trailing (i.e. last) N dimensions are the same (possibly excluding missing dimensions and dimensions of size 1)\n",
    "\n",
    "Scalars (single values) are compatible with tensors of any shape. Let's see some examples."
   ]
  },
  {
   "cell_type": "markdown",
   "metadata": {},
   "source": [
    "First, some fresh tensors."
   ]
  },
  {
   "cell_type": "code",
   "execution_count": 18,
   "metadata": {},
   "outputs": [],
   "source": [
    "a = torch.zeros((2, 3, 4), device=device)  \n",
    "b = torch.ones((2, 3, 4), device=device)  \n",
    "c = torch.ones((3, 4), device=device)  \n",
    "d = torch.ones((2, 3, 1), device=device)\n",
    "e = torch.rand((4, 3, 2), device=device)"
   ]
  },
  {
   "cell_type": "markdown",
   "metadata": {},
   "source": [
    "We can add a scalar to tensor a "
   ]
  },
  {
   "cell_type": "code",
   "execution_count": 19,
   "metadata": {},
   "outputs": [
    {
     "name": "stdout",
     "output_type": "stream",
     "text": [
      "torch.Size([2, 3, 4])\n"
     ]
    }
   ],
   "source": [
    "a = a + 0.3\n",
    "print(a.shape)"
   ]
  },
  {
   "cell_type": "markdown",
   "metadata": {},
   "source": [
    "We can subtract b from a  (matching shapes)"
   ]
  },
  {
   "cell_type": "code",
   "execution_count": 20,
   "metadata": {},
   "outputs": [
    {
     "name": "stdout",
     "output_type": "stream",
     "text": [
      "torch.Size([2, 3, 4])\n"
     ]
    }
   ],
   "source": [
    "f = a - b\n",
    "print(f.shape)"
   ]
  },
  {
   "cell_type": "markdown",
   "metadata": {},
   "source": [
    "We can elementwise multiply a with c  (dimensions of c are the same as last dimensions of a)"
   ]
  },
  {
   "cell_type": "code",
   "execution_count": 21,
   "metadata": {},
   "outputs": [
    {
     "name": "stdout",
     "output_type": "stream",
     "text": [
      "torch.Size([2, 3, 4])\n"
     ]
    }
   ],
   "source": [
    "g =  a * c\n",
    "print(g.shape)"
   ]
  },
  {
   "cell_type": "markdown",
   "metadata": {},
   "source": [
    "We can elementwise divide a by d  (last dimension is 1, the rest of the dimensions match)"
   ]
  },
  {
   "cell_type": "code",
   "execution_count": 22,
   "metadata": {},
   "outputs": [
    {
     "name": "stdout",
     "output_type": "stream",
     "text": [
      "torch.Size([2, 3, 4])\n"
     ]
    }
   ],
   "source": [
    "h = a / d\n",
    "print(h.shape)"
   ]
  },
  {
   "cell_type": "markdown",
   "metadata": {},
   "source": [
    "We can elementwise raise a to d  (last dimension of d is 1, the rest of the dimensions match)"
   ]
  },
  {
   "cell_type": "code",
   "execution_count": 23,
   "metadata": {},
   "outputs": [
    {
     "name": "stdout",
     "output_type": "stream",
     "text": [
      "torch.Size([2, 3, 4])\n"
     ]
    }
   ],
   "source": [
    "i = a**d\n",
    "print(i.shape)"
   ]
  },
  {
   "cell_type": "markdown",
   "metadata": {},
   "source": [
    "And we can compare a with any of f, g, h"
   ]
  },
  {
   "cell_type": "code",
   "execution_count": 24,
   "metadata": {},
   "outputs": [
    {
     "name": "stdout",
     "output_type": "stream",
     "text": [
      "torch.Size([2, 3, 4])\n"
     ]
    }
   ],
   "source": [
    "j = a == f\n",
    "print(j.shape)"
   ]
  },
  {
   "cell_type": "markdown",
   "metadata": {},
   "source": [
    ".. but torch complains when we try to do that with e (shapes are incompatible)"
   ]
  },
  {
   "cell_type": "code",
   "execution_count": 25,
   "metadata": {},
   "outputs": [
    {
     "ename": "RuntimeError",
     "evalue": "The size of tensor a (2) must match the size of tensor b (4) at non-singleton dimension 2",
     "output_type": "error",
     "traceback": [
      "\u001b[0;31m---------------------------------------------------------------------------\u001b[0m",
      "\u001b[0;31mRuntimeError\u001b[0m                              Traceback (most recent call last)",
      "\u001b[0;32m<ipython-input-25-a2c3e750b318>\u001b[0m in \u001b[0;36m<module>\u001b[0;34m\u001b[0m\n\u001b[0;32m----> 1\u001b[0;31m \u001b[0me\u001b[0m \u001b[0;34m==\u001b[0m \u001b[0ma\u001b[0m\u001b[0;34m\u001b[0m\u001b[0;34m\u001b[0m\u001b[0m\n\u001b[0m",
      "\u001b[0;32m~/anaconda3/lib/python3.8/site-packages/torch/tensor.py\u001b[0m in \u001b[0;36mwrapped\u001b[0;34m(*args, **kwargs)\u001b[0m\n\u001b[1;32m     20\u001b[0m     \u001b[0;32mdef\u001b[0m \u001b[0mwrapped\u001b[0m\u001b[0;34m(\u001b[0m\u001b[0;34m*\u001b[0m\u001b[0margs\u001b[0m\u001b[0;34m,\u001b[0m \u001b[0;34m**\u001b[0m\u001b[0mkwargs\u001b[0m\u001b[0;34m)\u001b[0m\u001b[0;34m:\u001b[0m\u001b[0;34m\u001b[0m\u001b[0;34m\u001b[0m\u001b[0m\n\u001b[1;32m     21\u001b[0m         \u001b[0;32mtry\u001b[0m\u001b[0;34m:\u001b[0m\u001b[0;34m\u001b[0m\u001b[0;34m\u001b[0m\u001b[0m\n\u001b[0;32m---> 22\u001b[0;31m             \u001b[0;32mreturn\u001b[0m \u001b[0mf\u001b[0m\u001b[0;34m(\u001b[0m\u001b[0;34m*\u001b[0m\u001b[0margs\u001b[0m\u001b[0;34m,\u001b[0m \u001b[0;34m**\u001b[0m\u001b[0mkwargs\u001b[0m\u001b[0;34m)\u001b[0m\u001b[0;34m\u001b[0m\u001b[0;34m\u001b[0m\u001b[0m\n\u001b[0m\u001b[1;32m     23\u001b[0m         \u001b[0;32mexcept\u001b[0m \u001b[0mTypeError\u001b[0m\u001b[0;34m:\u001b[0m\u001b[0;34m\u001b[0m\u001b[0;34m\u001b[0m\u001b[0m\n\u001b[1;32m     24\u001b[0m             \u001b[0;32mreturn\u001b[0m \u001b[0mNotImplemented\u001b[0m\u001b[0;34m\u001b[0m\u001b[0;34m\u001b[0m\u001b[0m\n",
      "\u001b[0;31mRuntimeError\u001b[0m: The size of tensor a (2) must match the size of tensor b (4) at non-singleton dimension 2"
     ]
    }
   ],
   "source": [
    "e == a"
   ]
  },
  {
   "cell_type": "code",
   "execution_count": 132,
   "metadata": {},
   "outputs": [
    {
     "ename": "NameError",
     "evalue": "name 'b' is not defined",
     "output_type": "error",
     "traceback": [
      "\u001b[0;31m---------------------------------------------------------------------------\u001b[0m",
      "\u001b[0;31mNameError\u001b[0m                                 Traceback (most recent call last)",
      "\u001b[0;32m<ipython-input-132-6bc90f7a934f>\u001b[0m in \u001b[0;36m<module>\u001b[0;34m\u001b[0m\n\u001b[0;32m----> 1\u001b[0;31m \u001b[0;32mdel\u001b[0m \u001b[0ma\u001b[0m\u001b[0;34m,\u001b[0m \u001b[0mb\u001b[0m\u001b[0;34m,\u001b[0m \u001b[0mc\u001b[0m\u001b[0;34m,\u001b[0m \u001b[0md\u001b[0m\u001b[0;34m,\u001b[0m \u001b[0me\u001b[0m\u001b[0;34m,\u001b[0m \u001b[0mf\u001b[0m\u001b[0;34m,\u001b[0m \u001b[0mg\u001b[0m\u001b[0;34m,\u001b[0m \u001b[0mh\u001b[0m\u001b[0;34m,\u001b[0m \u001b[0mi\u001b[0m\u001b[0;34m,\u001b[0m \u001b[0mj\u001b[0m\u001b[0;34m\u001b[0m\u001b[0;34m\u001b[0m\u001b[0m\n\u001b[0m",
      "\u001b[0;31mNameError\u001b[0m: name 'b' is not defined"
     ]
    }
   ],
   "source": [
    "del a, b, c, d, e, f, g, h, i, j"
   ]
  },
  {
   "cell_type": "markdown",
   "metadata": {},
   "source": [
    "If in doubt for what any of the element-wise operators actually do, try them out below on some tensors of your own making."
   ]
  },
  {
   "cell_type": "code",
   "execution_count": null,
   "metadata": {},
   "outputs": [],
   "source": []
  },
  {
   "cell_type": "markdown",
   "metadata": {},
   "source": [
    "#### Linear Algebra\n",
    "Tensor algebra of course goes well beyond elementwise operations- matrix multiplication is the bread and butter of machine learning, so we better get familiar with how torch does it."
   ]
  },
  {
   "cell_type": "markdown",
   "metadata": {},
   "source": [
    "As usual, we begin by instantiating our matrices. Matrix multiplication is defined between matrices A and B of shapes [M, N] and [N, O] respectively and yields a matrix C of shape [M, O]. The torch function that implements matrix multiplication is `torch.mm`."
   ]
  },
  {
   "cell_type": "code",
   "execution_count": 27,
   "metadata": {},
   "outputs": [
    {
     "name": "stdout",
     "output_type": "stream",
     "text": [
      "torch.Size([5, 8])\n"
     ]
    }
   ],
   "source": [
    "A = torch.rand([5,3], device=device)\n",
    "B = torch.rand([3,8], device=device)\n",
    "C = torch.mm(A, B)  # or alternatively, C = A @ B\n",
    "print(C.shape)"
   ]
  },
  {
   "cell_type": "markdown",
   "metadata": {},
   "source": [
    "What if we had a large numbers (i.e. a batch) of matrices A to each be multiplied with a matching B? We can use `torch.bmm` for efficient batch matrix multiplication.\n",
    "\n",
    "<div class=\"alert alert-block alert-info\">\n",
    "<b>Tip:</b> Rather than writing slow and ugly `for` loops, employ array programming to write your machine learning code. This will make it much more concise and dramatically more efficient.\n",
    "</div>"
   ]
  },
  {
   "cell_type": "code",
   "execution_count": 28,
   "metadata": {},
   "outputs": [
    {
     "name": "stdout",
     "output_type": "stream",
     "text": [
      "torch.Size([128, 5, 8])\n"
     ]
    }
   ],
   "source": [
    "bA = torch.rand([128, 5, 3], device=device)\n",
    "bB = torch.rand([128, 3, 8], device=device)\n",
    "bC = torch.bmm(bA, bB)  # bC = bA @ bC also works here!\n",
    "print(bC.shape)"
   ]
  },
  {
   "cell_type": "markdown",
   "metadata": {},
   "source": [
    "<div class=\"alert alert-block alert-warning\">\n",
    "<b>Warning:</b>\n",
    "Be careful not to confuse matrix multiplication `A@B` with the [Hadamard product](https://en.wikipedia.org/wiki/Hadamard_product_%28matrices%29) `A*B`\n",
    "\n",
    "</div>"
   ]
  },
  {
   "cell_type": "markdown",
   "metadata": {},
   "source": [
    "#### Shape Manipulation\n",
    "As we have seen, what we can do with tensors is largely dictated by their shapes. Adjusting a tensor's shape to allow for broadcasting or batching is therefore often necessary. The following functions should suffice for the bulk of shape manipulation tasks you might encounter."
   ]
  },
  {
   "cell_type": "markdown",
   "metadata": {},
   "source": [
    "Tensor tansposition is the generalization of matrix transposition. Since there are now more than 2 dimensions, we additionally need to specify the transposed dimensions. Take for instance a tensor of shape [M, N, O]. Converting it to a tensor of shape [N, M, O] requires transposing the first and second dimensions."
   ]
  },
  {
   "cell_type": "code",
   "execution_count": 29,
   "metadata": {},
   "outputs": [
    {
     "name": "stdout",
     "output_type": "stream",
     "text": [
      "torch.Size([5, 128, 3])\n"
     ]
    }
   ],
   "source": [
    "A = torch.rand([128, 5, 3], device=device)\n",
    "A = A.transpose(0, 1)\n",
    "print(A.shape)"
   ]
  },
  {
   "cell_type": "markdown",
   "metadata": {},
   "source": [
    "We may also choose to create a reshaped view of a tensor; for instance we may collapse two or more tensor dimensions into one.."
   ]
  },
  {
   "cell_type": "code",
   "execution_count": 31,
   "metadata": {},
   "outputs": [
    {
     "name": "stdout",
     "output_type": "stream",
     "text": [
      "torch.Size([640, 3])\n"
     ]
    }
   ],
   "source": [
    "A = torch.rand([128, 5, 3], device=device)\n",
    "A_collapsed = A.view(A.shape[0]*A.shape[1], A.shape[-1])\n",
    "print(A_collapsed.shape)"
   ]
  },
  {
   "cell_type": "markdown",
   "metadata": {},
   "source": [
    ".. or expand one dimension into two or more"
   ]
  },
  {
   "cell_type": "code",
   "execution_count": 32,
   "metadata": {},
   "outputs": [
    {
     "name": "stdout",
     "output_type": "stream",
     "text": [
      "torch.Size([128, 5, 3])\n"
     ]
    }
   ],
   "source": [
    "A_expanded = A_collapsed.view(128, 5, 3)\n",
    "print(A_expanded.shape)"
   ]
  },
  {
   "cell_type": "markdown",
   "metadata": {},
   "source": [
    "Let's convince ourselves that the back and forth between dimensions has left our tensor unaffected. First let's elementwise compare A with A_expanded."
   ]
  },
  {
   "cell_type": "code",
   "execution_count": 33,
   "metadata": {},
   "outputs": [
    {
     "name": "stdout",
     "output_type": "stream",
     "text": [
      "tensor([[[True, True, True],\n",
      "         [True, True, True],\n",
      "         [True, True, True],\n",
      "         [True, True, True],\n",
      "         [True, True, True]],\n",
      "\n",
      "        [[True, True, True],\n",
      "         [True, True, True],\n",
      "         [True, True, True],\n",
      "         [True, True, True],\n",
      "         [True, True, True]],\n",
      "\n",
      "        [[True, True, True],\n",
      "         [True, True, True],\n",
      "         [True, True, True],\n",
      "         [True, True, True],\n",
      "         [True, True, True]],\n",
      "\n",
      "        ...,\n",
      "\n",
      "        [[True, True, True],\n",
      "         [True, True, True],\n",
      "         [True, True, True],\n",
      "         [True, True, True],\n",
      "         [True, True, True]],\n",
      "\n",
      "        [[True, True, True],\n",
      "         [True, True, True],\n",
      "         [True, True, True],\n",
      "         [True, True, True],\n",
      "         [True, True, True]],\n",
      "\n",
      "        [[True, True, True],\n",
      "         [True, True, True],\n",
      "         [True, True, True],\n",
      "         [True, True, True],\n",
      "         [True, True, True]]], device='cuda:0')\n"
     ]
    }
   ],
   "source": [
    "comp = A == A_expanded\n",
    "print(comp)"
   ]
  },
  {
   "cell_type": "markdown",
   "metadata": {},
   "source": [
    "It seems to be okay! But what if there is a zero somewhere in there? Python's `all` and `any` may be used directly on torch bools to help us here."
   ]
  },
  {
   "cell_type": "code",
   "execution_count": 34,
   "metadata": {},
   "outputs": [
    {
     "name": "stdout",
     "output_type": "stream",
     "text": [
      "True\n"
     ]
    }
   ],
   "source": [
    "print(all([all(row) for matrix in comp for row in matrix]))"
   ]
  },
  {
   "cell_type": "markdown",
   "metadata": {},
   "source": [
    "Views are useful, but as the name suggests they only change our view of a tensor. Different views of a tensor have the same number of elements; the view is just changing in what order these are read.\n",
    "\n",
    "For cases where we would like to repeat a tensor across one or more of its axes (actually creating a larger tensor), we can use the function of the same name. Let's consider a tensor of shape [M, N] which we would like to turn into a tensor that repeats itself K times across the first dimension (i.e. a tensor of shape [K $\\cdot$ M, N]."
   ]
  },
  {
   "cell_type": "code",
   "execution_count": 35,
   "metadata": {},
   "outputs": [
    {
     "name": "stdout",
     "output_type": "stream",
     "text": [
      "torch.Size([15, 12])\n"
     ]
    }
   ],
   "source": [
    "A = torch.rand([5, 12], device=device)\n",
    "A_repeat = A.repeat(3, 1)  # note that we are specifying the number of repeats per dimension\n",
    "print(A_repeat.shape)"
   ]
  },
  {
   "cell_type": "markdown",
   "metadata": {},
   "source": [
    "#### Combining Tensors\n",
    "Sometimes we may want to construct a big tensor out of two small ones. There's a few ways to accomplish that, but the most reliable one is through `torch.cat` 🐈 (shorthand for concatenate).\n",
    "\n",
    "Two tensors may be concatenated if they agree on all their dimensions, except for the concatenation dimension."
   ]
  },
  {
   "cell_type": "code",
   "execution_count": 36,
   "metadata": {},
   "outputs": [
    {
     "name": "stdout",
     "output_type": "stream",
     "text": [
      "torch.Size([5, 2])\n"
     ]
    }
   ],
   "source": [
    "A = torch.rand([4,2], device=device)\n",
    "B = torch.rand([1,2], device=device)\n",
    "C = torch.cat((A, B), dim=0)\n",
    "print(C.shape)"
   ]
  },
  {
   "cell_type": "code",
   "execution_count": 37,
   "metadata": {},
   "outputs": [],
   "source": [
    "del A, B, C, comp, A_repeat, A_expanded, A_collapsed, bA, bB, bC"
   ]
  },
  {
   "cell_type": "markdown",
   "metadata": {},
   "source": [
    "---"
   ]
  },
  {
   "cell_type": "markdown",
   "metadata": {},
   "source": [
    "<a id='1d'></a>\n",
    "### Exercises\n",
    "It might be a good idea to take a short break here and recap on what we've seen before moving further. The mini-exercises below should help you test your grasp of this section."
   ]
  },
  {
   "cell_type": "markdown",
   "metadata": {},
   "source": [
    "Construct a tensor $A$ of shape [10, 10] containing random floats, and a tensor $B$ of the same shape where all its elements are equal to $\\pi$."
   ]
  },
  {
   "cell_type": "code",
   "execution_count": 54,
   "metadata": {},
   "outputs": [
    {
     "name": "stdout",
     "output_type": "stream",
     "text": [
      "tensor([[0.0559, 0.8095, 0.6858, 0.6628, 0.3337, 0.4109, 0.9776, 0.1930, 0.4402,\n",
      "         0.3106],\n",
      "        [0.1513, 0.1271, 0.8700, 0.4912, 0.1590, 0.6536, 0.0550, 0.3488, 0.1955,\n",
      "         0.5869],\n",
      "        [0.4471, 0.8961, 0.3633, 0.4871, 0.7961, 0.9030, 0.8730, 0.4380, 0.2541,\n",
      "         0.3294],\n",
      "        [0.5235, 0.5441, 0.8568, 0.7083, 0.3947, 0.3433, 0.5803, 0.4757, 0.9915,\n",
      "         0.9536],\n",
      "        [0.3352, 0.3867, 0.7197, 0.2463, 0.6814, 0.9441, 0.1746, 0.1386, 0.4083,\n",
      "         0.1184],\n",
      "        [0.3745, 0.3879, 0.9777, 0.4501, 0.7998, 0.0160, 0.7818, 0.3919, 0.8755,\n",
      "         0.7314],\n",
      "        [0.9047, 0.2198, 0.0461, 0.2739, 0.4506, 0.0875, 0.5014, 0.8240, 0.8419,\n",
      "         0.4035],\n",
      "        [0.9520, 0.6460, 0.9608, 0.0933, 0.5712, 0.9536, 0.9398, 0.0655, 0.3188,\n",
      "         0.2180],\n",
      "        [0.1116, 0.1011, 0.7664, 0.5935, 0.5568, 0.4221, 0.0805, 0.8355, 0.5691,\n",
      "         0.0859],\n",
      "        [0.5494, 0.1445, 0.2392, 0.2188, 0.9927, 0.1929, 0.4328, 0.1140, 0.2363,\n",
      "         0.2887]], device='cuda:0')\n",
      "tensor([[3.1416, 3.1416, 3.1416, 3.1416, 3.1416, 3.1416, 3.1416, 3.1416, 3.1416,\n",
      "         3.1416],\n",
      "        [3.1416, 3.1416, 3.1416, 3.1416, 3.1416, 3.1416, 3.1416, 3.1416, 3.1416,\n",
      "         3.1416],\n",
      "        [3.1416, 3.1416, 3.1416, 3.1416, 3.1416, 3.1416, 3.1416, 3.1416, 3.1416,\n",
      "         3.1416],\n",
      "        [3.1416, 3.1416, 3.1416, 3.1416, 3.1416, 3.1416, 3.1416, 3.1416, 3.1416,\n",
      "         3.1416],\n",
      "        [3.1416, 3.1416, 3.1416, 3.1416, 3.1416, 3.1416, 3.1416, 3.1416, 3.1416,\n",
      "         3.1416],\n",
      "        [3.1416, 3.1416, 3.1416, 3.1416, 3.1416, 3.1416, 3.1416, 3.1416, 3.1416,\n",
      "         3.1416],\n",
      "        [3.1416, 3.1416, 3.1416, 3.1416, 3.1416, 3.1416, 3.1416, 3.1416, 3.1416,\n",
      "         3.1416],\n",
      "        [3.1416, 3.1416, 3.1416, 3.1416, 3.1416, 3.1416, 3.1416, 3.1416, 3.1416,\n",
      "         3.1416],\n",
      "        [3.1416, 3.1416, 3.1416, 3.1416, 3.1416, 3.1416, 3.1416, 3.1416, 3.1416,\n",
      "         3.1416],\n",
      "        [3.1416, 3.1416, 3.1416, 3.1416, 3.1416, 3.1416, 3.1416, 3.1416, 3.1416,\n",
      "         3.1416]], device='cuda:0')\n"
     ]
    }
   ],
   "source": [
    "import math\n",
    "A = torch.rand([10,10], device=device)\n",
    "B = torch.empty([10,10], device=device).fill_(math.pi)\n",
    "print(A)\n",
    "print(B)"
   ]
  },
  {
   "cell_type": "markdown",
   "metadata": {},
   "source": [
    "Compute $C = AB^T$, the matrix multiplication of $A$ with the transpose of $B$ and $D = A\\cdot B$, their elementwise multiplication."
   ]
  },
  {
   "cell_type": "code",
   "execution_count": 137,
   "metadata": {},
   "outputs": [
    {
     "name": "stdout",
     "output_type": "stream",
     "text": [
      "tensor([[15.3313, 15.3313, 15.3313, 15.3313, 15.3313, 15.3313, 15.3313, 15.3313,\n",
      "         15.3313, 15.3313],\n",
      "        [11.4300, 11.4300, 11.4300, 11.4300, 11.4300, 11.4300, 11.4300, 11.4300,\n",
      "         11.4300, 11.4300],\n",
      "        [18.1813, 18.1813, 18.1813, 18.1813, 18.1813, 18.1813, 18.1813, 18.1813,\n",
      "         18.1813, 18.1813],\n",
      "        [20.0176, 20.0176, 20.0176, 20.0176, 20.0176, 20.0176, 20.0176, 20.0176,\n",
      "         20.0176, 20.0176],\n",
      "        [13.0486, 13.0486, 13.0486, 13.0486, 13.0486, 13.0486, 13.0486, 13.0486,\n",
      "         13.0486, 13.0486],\n",
      "        [18.1794, 18.1794, 18.1794, 18.1794, 18.1794, 18.1794, 18.1794, 18.1794,\n",
      "         18.1794, 18.1794],\n",
      "        [14.3050, 14.3050, 14.3050, 14.3050, 14.3050, 14.3050, 14.3050, 14.3050,\n",
      "         14.3050, 14.3050],\n",
      "        [17.9668, 17.9668, 17.9668, 17.9668, 17.9668, 17.9668, 17.9668, 17.9668,\n",
      "         17.9668, 17.9668],\n",
      "        [12.9513, 12.9513, 12.9513, 12.9513, 12.9513, 12.9513, 12.9513, 12.9513,\n",
      "         12.9513, 12.9513],\n",
      "        [10.7109, 10.7109, 10.7109, 10.7109, 10.7109, 10.7109, 10.7109, 10.7109,\n",
      "         10.7109, 10.7109]], device='cuda:0')\n",
      "tensor([[0.1756, 2.5431, 2.1544, 2.0823, 1.0485, 1.2908, 3.0712, 0.6065, 1.3831,\n",
      "         0.9759],\n",
      "        [0.4752, 0.3994, 2.7331, 1.5431, 0.4994, 2.0532, 0.1727, 1.0959, 0.6143,\n",
      "         1.8437],\n",
      "        [1.4045, 2.8153, 1.1415, 1.5302, 2.5012, 2.8368, 2.7427, 1.3760, 0.7982,\n",
      "         1.0350],\n",
      "        [1.6447, 1.7095, 2.6916, 2.2253, 1.2399, 1.0787, 1.8230, 1.4943, 3.1148,\n",
      "         2.9958],\n",
      "        [1.0530, 1.2149, 2.2611, 0.7739, 2.1408, 2.9661, 0.5484, 0.4355, 1.2827,\n",
      "         0.3721],\n",
      "        [1.1767, 1.2186, 3.0716, 1.4140, 2.5127, 0.0502, 2.4562, 1.2313, 2.7506,\n",
      "         2.2977],\n",
      "        [2.8423, 0.6906, 0.1449, 0.8605, 1.4155, 0.2749, 1.5751, 2.5886, 2.6449,\n",
      "         1.2677],\n",
      "        [2.9909, 2.0294, 3.0185, 0.2931, 1.7945, 2.9959, 2.9524, 0.2057, 1.0016,\n",
      "         0.6849],\n",
      "        [0.3507, 0.3177, 2.4076, 1.8646, 1.7491, 1.3260, 0.2529, 2.6247, 1.7879,\n",
      "         0.2700],\n",
      "        [1.7261, 0.4539, 0.7514, 0.6873, 3.1188, 0.6060, 1.3596, 0.3583, 0.7424,\n",
      "         0.9070]], device='cuda:0')\n"
     ]
    }
   ],
   "source": [
    "C = torch.mm(A, B.transpose(1,0))\n",
    "D = A*B\n",
    "print(C)\n",
    "print(D)"
   ]
  },
  {
   "cell_type": "markdown",
   "metadata": {},
   "source": [
    "Try comparing $C$ with $D$. Are they comparable? Are they equal? What is the dtype of their comparison?"
   ]
  },
  {
   "cell_type": "code",
   "execution_count": 138,
   "metadata": {},
   "outputs": [
    {
     "name": "stdout",
     "output_type": "stream",
     "text": [
      "tensor([[True, True, True, True, True, True, True, True, True, True],\n",
      "        [True, True, True, True, True, True, True, True, True, True],\n",
      "        [True, True, True, True, True, True, True, True, True, True],\n",
      "        [True, True, True, True, True, True, True, True, True, True],\n",
      "        [True, True, True, True, True, True, True, True, True, True],\n",
      "        [True, True, True, True, True, True, True, True, True, True],\n",
      "        [True, True, True, True, True, True, True, True, True, True],\n",
      "        [True, True, True, True, True, True, True, True, True, True],\n",
      "        [True, True, True, True, True, True, True, True, True, True],\n",
      "        [True, True, True, True, True, True, True, True, True, True]],\n",
      "       device='cuda:0')\n",
      "tensor([[False, False, False, False, False, False, False, False, False, False],\n",
      "        [False, False, False, False, False, False, False, False, False, False],\n",
      "        [False, False, False, False, False, False, False, False, False, False],\n",
      "        [False, False, False, False, False, False, False, False, False, False],\n",
      "        [False, False, False, False, False, False, False, False, False, False],\n",
      "        [False, False, False, False, False, False, False, False, False, False],\n",
      "        [False, False, False, False, False, False, False, False, False, False],\n",
      "        [False, False, False, False, False, False, False, False, False, False],\n",
      "        [False, False, False, False, False, False, False, False, False, False],\n",
      "        [False, False, False, False, False, False, False, False, False, False]],\n",
      "       device='cuda:0')\n",
      "torch.bool\n"
     ]
    }
   ],
   "source": [
    "comp = C == D\n",
    "print(comp)\n",
    "print(comp.dtype)"
   ]
  },
  {
   "cell_type": "markdown",
   "metadata": {},
   "source": [
    "Multiply $A$ by 4 to create $F$. Now set all elements of $F$ that are above $\\pi$ to zero.\n",
    "\n",
    "\n",
    "_Hint 1_: You can index a tensor with a boolean tensor of the same dimensionality\n",
    "\n",
    "_Hint 2_: You can set multiple indexed elements to a single value at once"
   ]
  },
  {
   "cell_type": "code",
   "execution_count": 94,
   "metadata": {},
   "outputs": [
    {
     "name": "stdout",
     "output_type": "stream",
     "text": [
      "tensor([3.2380, 3.9104, 3.4799, 3.5845, 3.1846, 3.6119, 3.4921, 3.4271, 3.9659,\n",
      "        3.8144, 3.7765, 3.9108, 3.1993, 3.5021, 3.6189, 3.2960, 3.3675, 3.8082,\n",
      "        3.8432, 3.8145, 3.7591, 3.3419, 3.9710], device='cuda:0')\n",
      "tensor([], device='cuda:0')\n",
      "tensor([0.2235, 0.0000, 2.7430, 2.6513, 1.3350, 1.6435, 0.0000, 0.7722, 1.7610,\n",
      "        1.2426, 0.6050, 0.5085, 0.0000, 1.9647, 0.6359, 2.6142, 0.2199, 1.3954,\n",
      "        0.7821, 2.3475, 1.7883, 0.0000, 1.4534, 1.9484, 0.0000, 0.0000, 0.0000,\n",
      "        1.7520, 1.0163, 1.3178, 2.0942, 2.1765, 0.0000, 2.8333, 1.5787, 1.3734,\n",
      "        2.3211, 1.9026, 0.0000, 0.0000, 1.3408, 1.5469, 2.8789, 0.9854, 2.7257,\n",
      "        0.0000, 0.6983, 0.5546, 1.6332, 0.4738, 1.4982, 1.5515, 0.0000, 1.8003,\n",
      "        0.0000, 0.0639, 3.1273, 1.5678, 0.0000, 2.9255, 0.0000, 0.8793, 0.1844,\n",
      "        1.0957, 1.8022, 0.3500, 2.0055, 0.0000, 0.0000, 1.6140, 0.0000, 2.5839,\n",
      "        0.0000, 0.3732, 2.2849, 0.0000, 0.0000, 0.2619, 1.2753, 0.8721, 0.4465,\n",
      "        0.4045, 3.0654, 2.3741, 2.2271, 1.6884, 0.3220, 0.0000, 2.2764, 0.3438,\n",
      "        2.1978, 0.5780, 0.9567, 0.8751, 0.0000, 0.7716, 1.7311, 0.4562, 0.9453,\n",
      "        1.1548], device='cuda:0')\n"
     ]
    }
   ],
   "source": [
    "F = A * 4\n",
    "print(F[F > math.pi])\n",
    "F[F > math.pi] = 0\n",
    "print(F[F > math.pi])\n",
    "print(F[F <= math.pi])"
   ]
  },
  {
   "cell_type": "markdown",
   "metadata": {},
   "source": [
    "The incomplete function below implements matrix multiplication with a for loop. Complete the function and call it with your $A$ and $B^T$ matrices as its arguments. The result should be the same as the matrix $C$ you computed before (with room for some numerical inaccuraccy)\n",
    "\n",
    "Note: You can use `torch.sum()` to compute the sum of a tensor (optionally specifying across which dimension)\n",
    "\n",
    "<div class=\"alert alert-block alert-info\">\n",
    "<b>Note:</b> [Type Hints](https://www.python.org/dev/peps/pep-0484/#rationale-and-goals) may be used in python function and variable declarations to give them a type signature. These type signatures are not strict (you can still bypass them), but they can help you organize your code. Type hints of incomplete functions given during assignments will inform you of what we expect your function to accept and return.\n",
    "</div>"
   ]
  },
  {
   "cell_type": "code",
   "execution_count": 141,
   "metadata": {},
   "outputs": [],
   "source": [
    "def my_mm(A: torch.FloatTensor, B: torch.FloatTensor) -> torch.FloatTensor:\n",
    "    assert A.shape[1] == B.shape[0]\n",
    "    assert (len(A.shape) == len(B.shape) == 2)\n",
    "    C = torch.zeros((A.shape[0], B.shape[1]), device=device)\n",
    "    for i in range(A.shape[0]):\n",
    "        for j in range(B.shape[1]):\n",
    "            C[i, j] =   sum(A[i,:] * B[:,j])\n",
    "    return C\n",
    "    \n",
    "E = my_mm(A, B.transpose(1,0))\n",
    "\n",
    "# make sure the mean absolute difference between the two results is below 0.0001\n",
    "assert torch.sum(torch.abs(E - C))/(E.shape[0]*E.shape[1]) < 1e-4 "
   ]
  },
  {
   "cell_type": "markdown",
   "metadata": {},
   "source": [
    "Create a 2-dimensional tensor $S$ that consists by an instance of $A$ followed by two instances of $B$ followed by an instance of $A$ across its first dimension. What is the shape of $S$?"
   ]
  },
  {
   "cell_type": "code",
   "execution_count": 147,
   "metadata": {},
   "outputs": [
    {
     "name": "stdout",
     "output_type": "stream",
     "text": [
      "torch.Size([40, 10])\n"
     ]
    }
   ],
   "source": [
    "S = torch.cat((A, B, B, A), dim=0)\n",
    "print(S.shape)"
   ]
  },
  {
   "cell_type": "markdown",
   "metadata": {},
   "source": [
    "Reshape $S$ into a tensor of shape [20, 2, 10]. \n",
    "Then transpose this into a tensor of shape [2, 10, 20]."
   ]
  },
  {
   "cell_type": "code",
   "execution_count": 148,
   "metadata": {},
   "outputs": [
    {
     "name": "stdout",
     "output_type": "stream",
     "text": [
      "torch.Size([20, 2, 10])\n",
      "torch.Size([2, 10, 20])\n"
     ]
    }
   ],
   "source": [
    "S_r = S.view(20, 2, 10)\n",
    "print(S_r.shape)\n",
    "S_t = S_r.transpose(0, 1)\n",
    "S_t = S_t.transpose(1, 2)\n",
    "print(S_t.shape)"
   ]
  },
  {
   "cell_type": "code",
   "execution_count": 149,
   "metadata": {},
   "outputs": [],
   "source": [
    "del A, B, C, D, E, F, S"
   ]
  },
  {
   "cell_type": "markdown",
   "metadata": {},
   "source": [
    "---"
   ]
  },
  {
   "cell_type": "markdown",
   "metadata": {},
   "source": [
    "<a id='2'></a>\n",
    "## 2. Automatic Differentation and Neural Networks\n",
    "We have so far seen some of torch's computational capabilities; its GPU accelaration and multitude of high level functions make it suitable for array processing and vector arithmetic. But torch is more than a faster numpy; its key components, and where most of the magic happens, are in its automatic differentiation mechanics and neural network libraries.\n",
    "\n",
    "<a id='2a'></a>\n",
    "### A. Autograd\n",
    "Each torch tensor carries a flag around with it, `requires_grad`, which establishes whether that tensor requires gradient computation. \n",
    "\n",
    "By default, tensors do not require grad unless specified to. Whenever a tensor that requires grad assumes a role in the construction of another tensor, the new tensor also requires grad.\n",
    "By dynamically tracking dependencies in the evolving computation graph, and utilizing this flag, torch is able to inform itself on which tensors need to be updated by gradient descent, and which do not (naturally, only tensors for which gradients are computed will be updated).\n",
    "\n",
    "Practically, by setting `requires_grad` to `False` we can _freeze_ (parts of) our functions, making them static.\n",
    "\n",
    "Let's see this in action by modeling a simple linear transformation $f(x): Ax$ from $x \\in \\mathbb{R}^5$  to $y \\in \\mathbb{R}^7$:\n",
    "\n",
    "<div class=\"alert alert-block alert-info\">\n",
    "<b>Note:</b> Recall that a matrix of shape [M, N] is a linear map __from__ $\\mathbb{R}^N$ __to__ $\\mathbb{R}^M$.\n",
    "</div>"
   ]
  },
  {
   "cell_type": "code",
   "execution_count": 185,
   "metadata": {},
   "outputs": [],
   "source": [
    "A = torch.rand((7, 5), device=device) \n",
    "\n",
    "def f(x: torch.FloatTensor) -> torch.FloatTensor:\n",
    "    return A@x "
   ]
  },
  {
   "cell_type": "markdown",
   "metadata": {},
   "source": [
    "Let's test our function for some $x$, and check whether the result requires grad."
   ]
  },
  {
   "cell_type": "code",
   "execution_count": 186,
   "metadata": {},
   "outputs": [
    {
     "name": "stdout",
     "output_type": "stream",
     "text": [
      "tensor([1.2143, 0.8341, 0.9450, 1.0350, 1.0886, 1.0008, 0.7139],\n",
      "       device='cuda:0')\n",
      "False\n"
     ]
    }
   ],
   "source": [
    "x = torch.rand(5, device=device)\n",
    "y = f(x)\n",
    "print(y)\n",
    "print(y.requires_grad)"
   ]
  },
  {
   "cell_type": "markdown",
   "metadata": {},
   "source": [
    "It does not; what if the parameters of our function $f$ were trainable though?"
   ]
  },
  {
   "cell_type": "code",
   "execution_count": 152,
   "metadata": {},
   "outputs": [
    {
     "name": "stdout",
     "output_type": "stream",
     "text": [
      "True\n"
     ]
    }
   ],
   "source": [
    "A.requires_grad = True\n",
    "y = f(x)\n",
    "print(y.requires_grad)"
   ]
  },
  {
   "cell_type": "markdown",
   "metadata": {},
   "source": [
    "The output of our linear transformation is now also trainable!\n"
   ]
  },
  {
   "cell_type": "markdown",
   "metadata": {},
   "source": [
    "---"
   ]
  },
  {
   "cell_type": "markdown",
   "metadata": {},
   "source": [
    "<a id='2b'></a>\n",
    "### Exercises\n",
    "Answer the next questions before you proceed."
   ]
  },
  {
   "cell_type": "markdown",
   "metadata": {},
   "source": [
    "Model an affine transformation $g(x) = Ax + \\beta$ from $x \\in \\mathbb{R}^3$ to $y \\in \\mathbb{R}^{12}$ as the composition of two functions, $f_1(x) = Ax$, $f_2(x) = x + \\beta$, such that $A$ requires grad but $\\beta$ does not.\n",
    "\n",
    "<div class=\"alert alert-block alert-info\">\n",
    "<b>Note:</b> You can use `requires_grad: bool` as an optional argument during tensor construction. Can you guess its default value?\n",
    "</div>"
   ]
  },
  {
   "cell_type": "code",
   "execution_count": 184,
   "metadata": {},
   "outputs": [
    {
     "name": "stdout",
     "output_type": "stream",
     "text": [
      "tensor([[0.9106, 1.0019, 1.6713],\n",
      "        [0.7216, 1.1334, 2.2403],\n",
      "        [0.7615, 0.8673, 2.0386]], device='cuda:0', grad_fn=<MulBackward0>)\n"
     ]
    }
   ],
   "source": [
    "A = torch.rand((3, 3), device=device, requires_grad=True)\n",
    "beta = torch.rand((3, 3), device=device, requires_grad=False)\n",
    "\n",
    "\n",
    "def f_1(i: torch.FloatTensor) -> torch.FloatTensor:\n",
    "    return A@i\n",
    "\n",
    "def f_2(i: torch.FloatTensor) -> torch.FloatTensor:\n",
    "    return beta + i\n",
    "\n",
    "x = torch.rand(3, device=device)\n",
    "\n",
    "w = f_1(x)\n",
    "y = f_2(w)\n",
    "\n",
    "print(w*y)\n",
    "\n"
   ]
  },
  {
   "cell_type": "markdown",
   "metadata": {},
   "source": [
    "Try to figure out the answers on your own before checking the code.\n",
    "\n",
    "Let's assume $x$ is a fixed data sample, therefore does not require grad (we don't usually want to fit our data, but the function applied on the data!)\n",
    "\n",
    "* If $A$ requires grad but $\\beta$ doesn't, does $w$ require grad? Does $y$?\n",
    "\n",
    "* If $\\beta$ requires grad but $A$ doesn't, does $w$ require grad? Does $y$?\n",
    "\n",
    "What would that mean for $A$ and $\\beta$ during gradient descent?\n",
    "\n",
    "Verify your answers with code."
   ]
  },
  {
   "cell_type": "code",
   "execution_count": null,
   "metadata": {},
   "outputs": [],
   "source": []
  },
  {
   "cell_type": "code",
   "execution_count": null,
   "metadata": {},
   "outputs": [],
   "source": []
  },
  {
   "cell_type": "code",
   "execution_count": 2,
   "metadata": {},
   "outputs": [
    {
     "ename": "NameError",
     "evalue": "name 'A' is not defined",
     "output_type": "error",
     "traceback": [
      "\u001b[0;31m---------------------------------------------------------------------------\u001b[0m",
      "\u001b[0;31mNameError\u001b[0m                                 Traceback (most recent call last)",
      "\u001b[0;32m<ipython-input-2-9bca407052b1>\u001b[0m in \u001b[0;36m<module>\u001b[0;34m\u001b[0m\n\u001b[0;32m----> 1\u001b[0;31m \u001b[0;32mdel\u001b[0m \u001b[0mA\u001b[0m\u001b[0;34m,\u001b[0m \u001b[0mbeta\u001b[0m\u001b[0;34m,\u001b[0m \u001b[0mx\u001b[0m\u001b[0;34m,\u001b[0m \u001b[0my\u001b[0m\u001b[0;34m,\u001b[0m \u001b[0mw\u001b[0m\u001b[0;34m,\u001b[0m \u001b[0mf\u001b[0m\u001b[0;34m,\u001b[0m \u001b[0mf_1\u001b[0m\u001b[0;34m,\u001b[0m \u001b[0mf_2\u001b[0m\u001b[0;34m\u001b[0m\u001b[0;34m\u001b[0m\u001b[0m\n\u001b[0m",
      "\u001b[0;31mNameError\u001b[0m: name 'A' is not defined"
     ]
    }
   ],
   "source": [
    "del A, beta, x, y, w, f, f_1, f_2"
   ]
  },
  {
   "cell_type": "markdown",
   "metadata": {},
   "source": [
    "---"
   ]
  },
  {
   "cell_type": "markdown",
   "metadata": {},
   "source": [
    "<a id='3'></a>\n",
    "\n",
    "## 3. Neural Networks\n",
    "We are very close to defining our first neural network in torch. Torch includes a powerful neural network library, `torch.nn`, which allows us to create our own custom network flows, use highly optimized off-the-shelf implementations of most standard kinds of networks and compose different networks together.\n",
    "\n",
    "<a id='3a'></a>\n",
    "### A. Custom Neural Networks\n",
    "You have already implemented an affine transformation; a shallow feedforward network is simply such a transformation followed by a non-linearity. For the sake of familiarizing ourselves with custom torch networks, we will go through the process of defining such a network from scratch (you won't normally be doing this, but it's still beneficial to have an idea of what's happening at the low level before proceeding to the high level).\n",
    "\n",
    "The building block for a torch network is the `torch.nn.Module` class; we need to define our networks as objects inheriting that class. If we do so, we only need to implement two functions: `__init__()` and `forward()`. The first is responsible for registering the internal variables of our network, while the second specifies the kind of computation it actually performs.\n",
    "\n",
    "Let's see these in practice; we will define a shallow feedforward network implementing $f(x) = \\sigma(Wx + \\beta)$ from any input dimension to any output dimension, where $\\sigma$ the sigmoid activation."
   ]
  },
  {
   "cell_type": "code",
   "execution_count": 4,
   "metadata": {},
   "outputs": [],
   "source": [
    "class my_first_network(torch.nn.Module):\n",
    "    def __init__(self, in_features: int, out_features: int, device: str) -> None:\n",
    "        super(my_first_network, self).__init__()  # this is important! do not forget to call this\n",
    "        self.device = device\n",
    "        self.W = torch.nn.Parameter(torch.rand(out_features, in_features, device=self.device))\n",
    "        self.beta = torch.nn.Parameter(torch.rand(out_features, device=self.device))\n",
    "        \n",
    "    def forward(self, x: torch.FloatTensor) -> torch.FloatTensor:\n",
    "        return torch.sigmoid(self.W@x + self.beta)"
   ]
  },
  {
   "cell_type": "markdown",
   "metadata": {},
   "source": [
    "<div class=\"alert alert-block alert-info\">\n",
    "<b>Note:</b> Notice the use of torch.nn.Parameter. Wrapping the tensors that are parametric to our network's function in torch.nn.Parameter is crucial as it informs torch that these tensors need to be stored, updated and shared between different function calls.\n",
    "</div>"
   ]
  },
  {
   "cell_type": "markdown",
   "metadata": {},
   "source": [
    "We can now test our first network class by instatiating an actual network and passing a random tensor through it."
   ]
  },
  {
   "cell_type": "code",
   "execution_count": 7,
   "metadata": {},
   "outputs": [
    {
     "name": "stdout",
     "output_type": "stream",
     "text": [
      "tensor([0.7692, 0.7688, 0.8597, 0.8655, 0.8985, 0.8252, 0.6550, 0.8702, 0.8395,\n",
      "        0.7058, 0.7875, 0.7846], device='cuda:0', grad_fn=<SigmoidBackward>)\n"
     ]
    }
   ],
   "source": [
    "f = my_first_network(in_features=3, out_features=12, device=device)\n",
    "x = torch.rand(3, device=device)\n",
    "y = f(x)\n",
    "print(y)"
   ]
  },
  {
   "cell_type": "markdown",
   "metadata": {},
   "source": [
    "<div class=\"alert alert-block alert-info\">\n",
    "<b>Note:</b> Notice that we can use `f(x)` instead of `f.forward(x)` -- `forward` overloads the `__call__` method of the `torch.nn.Module` class, so the above statements are equivalent.\n",
    "</div>"
   ]
  },
  {
   "cell_type": "markdown",
   "metadata": {},
   "source": [
    "Since we have the abstraction for one layer, what's stopping us from instantiating a second network and composing the two into a deep network?"
   ]
  },
  {
   "cell_type": "code",
   "execution_count": 8,
   "metadata": {},
   "outputs": [
    {
     "name": "stdout",
     "output_type": "stream",
     "text": [
      "tensor([0.9891, 0.9981, 0.9985, 0.9981, 0.9976], device='cuda:0',\n",
      "       grad_fn=<SigmoidBackward>)\n"
     ]
    }
   ],
   "source": [
    "class my_first_deep_network(torch.nn.Module):\n",
    "    def __init__(self, in_features: int, intermediate_features: int, out_features: int, device: str) -> None:\n",
    "        super(my_first_deep_network, self).__init__()\n",
    "        self.device = device\n",
    "        self.n_1 = my_first_network(in_features=in_features, out_features=intermediate_features, device=self.device)\n",
    "        self.n_2 = my_first_network(in_features=intermediate_features, out_features=out_features, device=self.device)\n",
    "        \n",
    "    def forward(self, x: torch.FloatTensor) -> torch.FloatTensor:\n",
    "        return self.n_2(self.n_1(x))\n",
    "    \n",
    "g = my_first_deep_network(in_features=3, intermediate_features=12, out_features=5, device=device)\n",
    "y = g(x)\n",
    "print(y)"
   ]
  },
  {
   "cell_type": "markdown",
   "metadata": {},
   "source": [
    "Very easy, right?\n",
    "\n",
    "Except we just did it the hard way! We could have used torch's pre-made `torch.nn.Linear`, the existing abstraction for single feedforward layers, and `torch.nn.Sequential`, the abstraction for composing sequences of networks. `Sequential` is initiated by an iterable of neural modules (not functions!), which are applied in the order specified.\n",
    "\n",
    "How would that have looked like?"
   ]
  },
  {
   "cell_type": "code",
   "execution_count": 9,
   "metadata": {},
   "outputs": [
    {
     "name": "stdout",
     "output_type": "stream",
     "text": [
      "tensor([0.5164, 0.5598, 0.4283, 0.3594, 0.4376], device='cuda:0',\n",
      "       grad_fn=<SigmoidBackward>)\n"
     ]
    }
   ],
   "source": [
    "h = torch.nn.Sequential(\n",
    "    torch.nn.Linear(in_features=3, out_features=12),\n",
    "    torch.nn.Sigmoid(), \n",
    "    torch.nn.Linear(in_features=12, out_features=5), \n",
    "    torch.nn.Sigmoid()  \n",
    ").to(device) \n",
    "\n",
    "y = h(x)\n",
    "print(y)"
   ]
  },
  {
   "cell_type": "markdown",
   "metadata": {},
   "source": [
    "Even easier!\n",
    "\n",
    "<div class=\"alert alert-block alert-info\">\n",
    "<b>Note:</b> When composing networks using the `Sequential` abstraction, you should make sure that each network's expected input shape matches the output shape of the previous network. The device conversion is applied recursively to each sub-module within a module, ensuring that all components of the network live happily in the same device. 🏠 \n",
    "</div>\n",
    "\n",
    "So, why ever define our own networks if torch can do it for us? The answer is that very often (and very soon!) it might be the case that you'll need to write your own, potentially complex, computation flow, which won't necesserily be possible to rephrase as simple layer stacking."
   ]
  },
  {
   "cell_type": "code",
   "execution_count": 85,
   "metadata": {},
   "outputs": [
    {
     "ename": "NameError",
     "evalue": "name 'h' is not defined",
     "output_type": "error",
     "traceback": [
      "\u001b[0;31m---------------------------------------------------------------------------\u001b[0m",
      "\u001b[0;31mNameError\u001b[0m                                 Traceback (most recent call last)",
      "\u001b[0;32m<ipython-input-85-c49aeef1a8bf>\u001b[0m in \u001b[0;36m<module>\u001b[0;34m\u001b[0m\n\u001b[0;32m----> 1\u001b[0;31m \u001b[0;32mdel\u001b[0m \u001b[0mx\u001b[0m\u001b[0;34m,\u001b[0m \u001b[0my\u001b[0m\u001b[0;34m,\u001b[0m \u001b[0mh\u001b[0m\u001b[0;34m,\u001b[0m \u001b[0mg\u001b[0m\u001b[0;34m,\u001b[0m \u001b[0mf\u001b[0m\u001b[0;34m,\u001b[0m \u001b[0mmy_first_network\u001b[0m\u001b[0;34m,\u001b[0m \u001b[0mmy_first_deep_network\u001b[0m\u001b[0;34m\u001b[0m\u001b[0;34m\u001b[0m\u001b[0m\n\u001b[0m",
      "\u001b[0;31mNameError\u001b[0m: name 'h' is not defined"
     ]
    }
   ],
   "source": [
    "del x, y, h, g, f, my_first_network, my_first_deep_network"
   ]
  },
  {
   "cell_type": "markdown",
   "metadata": {},
   "source": [
    "<a id='3b'></a>\n",
    "### B.  Loss Functions\n",
    "\n",
    "We have seen how to construct parametric, trainable functions and networks. Requiring a gradient and having a gradient are two different things, however. To obtain the gradients of our trainable parameters we need a loss function. The loss function is an indicator of how far off the network's output (prediction) is from the actual truth. Applying the chain rule, we may differentiate the loss value w.r.t. the model's parameters, populating the tensors' gradients in the process. \n",
    "\n",
    "As with networks, torch provides implementations for the commonly used loss functions but also allows us to write our own (as another neural module!).\n",
    "\n",
    "We will only experiment with an existing loss function, but first we need to construct some data to play with-- we can create a synthetic data set of pairs $(x_i, y_i)$ where $x_i$ is a random number and $y_i = 3 \\cdot x_i - 2$"
   ]
  },
  {
   "cell_type": "code",
   "execution_count": 11,
   "metadata": {},
   "outputs": [],
   "source": [
    "# a tensor of shape 100, 1, i.e. 100 data points each of dimensionality 1\n",
    "x = torch.rand((100, 1), device=device) \n",
    "y = 3 * x - 2"
   ]
  },
  {
   "cell_type": "markdown",
   "metadata": {},
   "source": [
    "Time to employ a linear network.\n",
    "\n",
    "<div class=\"alert alert-block alert-warning\">\n",
    "<b>Warning:</b>\n",
    "Don't mix up input/output dimensionality and number of data samples! \n",
    "</div>"
   ]
  },
  {
   "cell_type": "code",
   "execution_count": 12,
   "metadata": {},
   "outputs": [],
   "source": [
    "f = torch.nn.Linear(in_features=1, out_features=1).to(device)\n",
    "prediction = f(x)"
   ]
  },
  {
   "cell_type": "markdown",
   "metadata": {},
   "source": [
    "Now to define our loss function:"
   ]
  },
  {
   "cell_type": "code",
   "execution_count": 13,
   "metadata": {},
   "outputs": [],
   "source": [
    "loss_fn = torch.nn.MSELoss()"
   ]
  },
  {
   "cell_type": "markdown",
   "metadata": {},
   "source": [
    "Note that each element of our batch (i.e. each of the 100 data samples) has its own MSE w.r.t. to its corresponding output. These unique losses are averaged into a single scalar by the loss function."
   ]
  },
  {
   "cell_type": "code",
   "execution_count": 14,
   "metadata": {},
   "outputs": [
    {
     "name": "stdout",
     "output_type": "stream",
     "text": [
      "tensor(0.6986, device='cuda:0', grad_fn=<MeanBackward0>)\n"
     ]
    }
   ],
   "source": [
    "loss = loss_fn(y, prediction)\n",
    "print(loss)"
   ]
  },
  {
   "cell_type": "markdown",
   "metadata": {},
   "source": [
    "Now that we have computed the loss, we may use it to populate the parameters' gradients via a backward pass. This is automagically done by a simple call of `backward`. 🧙"
   ]
  },
  {
   "cell_type": "code",
   "execution_count": 15,
   "metadata": {},
   "outputs": [],
   "source": [
    "loss.backward()"
   ]
  },
  {
   "cell_type": "markdown",
   "metadata": {},
   "source": [
    "Torch provides a few different loss functions, each for a particular usecase (the task and your output layer's activation function). Note that particular loss functions are already implementing the network's output activation internally. Refer to the [documentation](https://pytorch.org/docs/stable/nn.html#loss-functions) for a detailed overview. In most cases, the cheat-sheet below should contain the answer.\n",
    "\n",
    "<div class=\"alert alert-block alert-info\">\n",
    "<b>Tip:</b> At a loss on which loss to use? Use this cheat-sheet!\n",
    "</div>\n",
    "\n",
    "| Task | Activation | Loss Function |\n",
    "| --- | --- | --- | --- |\n",
    "| K-class Classification | - | CrossEntropyLoss |\n",
    "| K-class Classification | LogSoftmax | NLLLoss |\n",
    "| K-class, Multi-Label Classification | - | BCEWithLogitsLoss |\n",
    "| K-class, Multi-Label Classification | LogSigmoid | BCELoss |\n",
    "| Continuous Regression | - | MSELoss |\n",
    "| Probability Distribution Fitting | LogSoftmax / LogSigmoid | KLDivLoss |"
   ]
  },
  {
   "cell_type": "markdown",
   "metadata": {},
   "source": [
    "<a id='3c'></a>\n",
    "\n",
    "### C.  Optimizers\n",
    "Our struggles are slowly coming to an end. We have made a trainable network, we have computed the loss given the true output, and we have used the loss to populate the parameter gradients. The final thing to do is to use these gradients in order to update the parameter values. \n",
    "This is managed by an `Optimizer`. Gradient based optimizers are the norm for training neural networks; all of them are variants of stochastic gradient descent. Torch provides implementations of the classic optimizers. Regardless of which one of them is your favourite, the process always involves the same steps:\n",
    "1. Initiate the optimizer by letting it know which parameters it is going to be responsible for\n",
    "2. Iterate over your data, and:\n",
    "    2. Compute the loss\n",
    "    3. Back-propagate\n",
    "    4. Perform an optimization step\n",
    "    5. Zero out the gradients (so that they don't accumulate over optimization steps)\n",
    "\n",
    "Let's see them in action on our toy network and synthetic dataset."
   ]
  },
  {
   "cell_type": "code",
   "execution_count": 16,
   "metadata": {},
   "outputs": [
    {
     "name": "stdout",
     "output_type": "stream",
     "text": [
      "Iteration 0 loss: 0.6985610723495483\n",
      "Iteration 500 loss: 0.49053117632865906\n",
      "Iteration 1000 loss: 0.3311671018600464\n",
      "Iteration 1500 loss: 0.2124975174665451\n",
      "Iteration 2000 loss: 0.127750426530838\n",
      "Iteration 2500 loss: 0.07047846913337708\n",
      "Iteration 3000 loss: 0.034659985452890396\n",
      "Iteration 3500 loss: 0.014592360705137253\n",
      "Iteration 4000 loss: 0.004975155461579561\n",
      "Iteration 4500 loss: 0.0012750510359182954\n",
      "Iteration 5000 loss: 0.00022305747552309185\n"
     ]
    }
   ],
   "source": [
    "opt = torch.optim.Adam(f.parameters())  # initiate optimizer\n",
    "for t in range(5001):  # iterate\n",
    "    prediction = f(x)  # predict \n",
    "    loss = loss_fn(prediction, y)  # compute loss\n",
    "    loss.backward()  # backpropagate\n",
    "    opt.step()  # optimize\n",
    "    opt.zero_grad()  # reset gradients\n",
    "    if t%500 == 0:\n",
    "        print('Iteration {} loss: {}'.format(t, loss.item()))"
   ]
  },
  {
   "cell_type": "markdown",
   "metadata": {},
   "source": [
    "Congratulations! You have trained your first torch network! 🎉\n",
    "\n",
    "You can now probe its inner parameters to see to what extent it figured out the truth."
   ]
  },
  {
   "cell_type": "code",
   "execution_count": 17,
   "metadata": {},
   "outputs": [
    {
     "name": "stdout",
     "output_type": "stream",
     "text": [
      "Parameter containing:\n",
      "tensor([[2.9476]], device='cuda:0', requires_grad=True)\n",
      "Parameter containing:\n",
      "tensor([-1.9772], device='cuda:0', requires_grad=True)\n"
     ]
    }
   ],
   "source": [
    "print(f.weight)\n",
    "print(f.bias)"
   ]
  },
  {
   "cell_type": "markdown",
   "metadata": {},
   "source": [
    "---"
   ]
  },
  {
   "cell_type": "markdown",
   "metadata": {},
   "source": [
    "<a id='3d'></a>\n",
    "\n",
    "### D. Exercises"
   ]
  },
  {
   "cell_type": "markdown",
   "metadata": {},
   "source": [
    "Before we move on to a somewhat more realistic problem, it might be a good idea to get further acquainted with the basics. \n",
    "\n",
    "Let's take a quick look at a few different non-linear activations first."
   ]
  },
  {
   "cell_type": "markdown",
   "metadata": {},
   "source": [
    "Use `arange` to construct a float tensor $x$ of values $0 \\dots 1000$ in ascending order. Then element-wise subtract $500$ and divide by $100$ to get a tensor of values $-5 \\dots 5$."
   ]
  },
  {
   "cell_type": "code",
   "execution_count": 45,
   "metadata": {},
   "outputs": [],
   "source": [
    "x = torch.arange(0,1000, device=device)\n",
    "x = x - 500\n",
    "x = torch.true_divide(x, 100)"
   ]
  },
  {
   "cell_type": "markdown",
   "metadata": {},
   "source": [
    "Construct the tensors $s = \\sigma(x)$, $t = tanh(x)$ and $r = ReLU(x)$."
   ]
  },
  {
   "cell_type": "code",
   "execution_count": 47,
   "metadata": {},
   "outputs": [],
   "source": [
    "s = torch.sigmoid(x)\n",
    "t = torch.tanh(x)\n",
    "r = torch.relu(x)"
   ]
  },
  {
   "cell_type": "markdown",
   "metadata": {},
   "source": [
    "Now we can convert these to numpy arrays and plot the results. "
   ]
  },
  {
   "cell_type": "code",
   "execution_count": 48,
   "metadata": {},
   "outputs": [
    {
     "data": {
      "image/png": "[encoded data removed]",
      "text/plain": [
       "<Figure size 432x288 with 1 Axes>"
      ]
     },
     "metadata": {
      "needs_background": "light"
     },
     "output_type": "display_data"
    }
   ],
   "source": [
    "from matplotlib import pyplot as plt\n",
    "plt.plot(x.cpu().numpy(),s.cpu().numpy())\n",
    "plt.plot(x.cpu().numpy(),t.cpu().numpy())\n",
    "plt.plot(x.cpu().numpy(),r.cpu().numpy())\n",
    "plt.ylim((-2, 5))\n",
    "plt.legend(['sigmoid', 'tanh', 'relu'])\n",
    "plt.show()"
   ]
  },
  {
   "cell_type": "markdown",
   "metadata": {},
   "source": [
    "Let's practice some more by solving the infamous XOR problem with a small deep network. "
   ]
  },
  {
   "cell_type": "code",
   "execution_count": 10,
   "metadata": {},
   "outputs": [],
   "source": [
    "X = torch.tensor([[0, 0], [0, 1], [1, 0], [1, 1]], device=device, dtype=torch.float)\n",
    "Y = torch.tensor([0, 1, 1, 0], device=device, dtype=torch.float)"
   ]
  },
  {
   "cell_type": "markdown",
   "metadata": {},
   "source": [
    "Use `torch.nn.Sequential` to create a minimal deep network with 1 output dimension and 2 intermediate dimensions. Use ReLU as your intermediate layer activation. \n",
    "\n",
    "Picturing the problem as a classification over two classes, select an appropriate output activation and loss function (refer to the cheat-sheet for aid)."
   ]
  },
  {
   "cell_type": "code",
   "execution_count": 11,
   "metadata": {},
   "outputs": [],
   "source": [
    "input_size = 2\n",
    "intermediate_size = 4\n",
    "output_size = 1\n",
    "\n",
    "f = torch.nn.Sequential(\n",
    "    torch.nn.Linear(in_features=input_size, out_features=intermediate_size),\n",
    "    torch.nn.Linear(in_features=intermediate_size, out_features=intermediate_size),\n",
    "    torch.nn.ReLU(),\n",
    "    torch.nn.Linear(in_features=intermediate_size, out_features=output_size),\n",
    "    torch.nn.Sigmoid(),\n",
    ").to(device)\n",
    "\n",
    "loss_fn = torch.nn.MSELoss()"
   ]
  },
  {
   "cell_type": "markdown",
   "metadata": {},
   "source": [
    "Instantiate an optimizer for your network."
   ]
  },
  {
   "cell_type": "code",
   "execution_count": 12,
   "metadata": {},
   "outputs": [],
   "source": [
    "opt = torch.optim.Adam(f.parameters())"
   ]
  },
  {
   "cell_type": "markdown",
   "metadata": {},
   "source": [
    "Perform 5000 iterations of training, printing the loss as you go."
   ]
  },
  {
   "cell_type": "code",
   "execution_count": 13,
   "metadata": {},
   "outputs": [
    {
     "name": "stdout",
     "output_type": "stream",
     "text": [
      "Iteration 0 loss: 0.2656837999820709\n",
      "Iteration 500 loss: 0.10300502926111221\n",
      "Iteration 1000 loss: 0.025658201426267624\n",
      "Iteration 1500 loss: 0.013097519055008888\n",
      "Iteration 2000 loss: 0.007879750803112984\n",
      "Iteration 2500 loss: 0.005148480646312237\n",
      "Iteration 3000 loss: 0.0035396788734942675\n",
      "Iteration 3500 loss: 0.002518068067729473\n",
      "Iteration 4000 loss: 0.0018353809136897326\n",
      "Iteration 4500 loss: 0.0013603789266198874\n",
      "Iteration 5000 loss: 0.001021929900161922\n"
     ]
    }
   ],
   "source": [
    "for t in range(5001):             # iterate\n",
    "    P = f(X)                      # predict \n",
    "    loss = loss_fn(P, Y.view(4,1))# compute loss\n",
    "    loss.backward()               # backpropagate\n",
    "    opt.step()                    # optimize\n",
    "    opt.zero_grad()               # reset gradients\n",
    "    if t%500 == 0:\n",
    "        print('Iteration {} loss: {}'.format(t, loss.item()))"
   ]
  },
  {
   "cell_type": "markdown",
   "metadata": {},
   "source": [
    "You might encounter a shape error here. If you do, don't panic! Read it, understand what the problem is and remember `.view()`.\n",
    "\n",
    "Is the loss improving? If not, try toying around with the intermediate layer's width, the optimizer and its learning rate until your network can solve the problem."
   ]
  },
  {
   "cell_type": "code",
   "execution_count": null,
   "metadata": {},
   "outputs": [],
   "source": []
  },
  {
   "cell_type": "code",
   "execution_count": 15,
   "metadata": {},
   "outputs": [],
   "source": [
    "del f, loss_fn, opt, X, Y"
   ]
  },
  {
   "cell_type": "code",
   "execution_count": null,
   "metadata": {},
   "outputs": [],
   "source": []
  },
  {
   "cell_type": "markdown",
   "metadata": {},
   "source": [
    "<a id='3d'></a>\n",
    "## 4. Putting Everything Together\n",
    "Time to hone our newly acquired torch skills! \n",
    "\n",
    "We will now put everything together and write an actual network on a real task. The code below is mostly complete, but some parts here and there are missing. You will be asked to fill those in, so pay attention!"
   ]
  },
  {
   "cell_type": "markdown",
   "metadata": {},
   "source": [
    "First, construct a two-layer network that implements the function $f: \\mathbb{R}^{300} \\to \\mathbb{R}$, such that:\n",
    "\n",
    "$f(x) = W_2(ReLU(W_1x + \\beta_1) + \\beta_2$\n",
    "\n",
    "where:\n",
    "* $W_1 \\in \\mathbb{R}^{100, 300}$\n",
    "* $W_2 \\in \\mathbb{R}^{1, 100}$ \n",
    "* $ \\beta_1 \\in \\mathbb{R}^{100}$ \n",
    "* $\\beta_2 \\in \\mathbb{R}^1$\n",
    "\n",
    "\n",
    "using `torch.nn.Sequential` "
   ]
  },
  {
   "cell_type": "code",
   "execution_count": 3,
   "metadata": {},
   "outputs": [],
   "source": [
    "f = torch.nn.Sequential(\n",
    "    torch.nn.Linear(in_features=300, out_features=100),\n",
    "    torch.nn.ReLU(),\n",
    "    torch.nn.Linear(in_features=100, out_features=1),\n",
    "    torch.nn.Sigmoid(),\n",
    ").to(device)"
   ]
  },
  {
   "cell_type": "markdown",
   "metadata": {},
   "source": [
    "Let's make some use of this network on real data.\n",
    "We are going to open a data dump containing ~5500 baby names. Each name is associated with a label (either 0 for male, or 1 for female), but also a 300-dimensional vector. Representing words as dense vectors is standard practice in NLP; you will learn more about these vectors in your first assignment. For now, we will simply use them in an attempt to teach the network to distinguish between boy and girl babies given their names, while writing some useful code in the process. 👶 🍼"
   ]
  },
  {
   "cell_type": "code",
   "execution_count": 4,
   "metadata": {},
   "outputs": [],
   "source": [
    "import pickle\n",
    "with open('name_data.p', 'rb') as file:\n",
    "    names, vectors, labels = pickle.load(file)"
   ]
  },
  {
   "cell_type": "markdown",
   "metadata": {},
   "source": [
    "What do our data look like? Run the snippet below a couple of times to get an impression."
   ]
  },
  {
   "cell_type": "code",
   "execution_count": 5,
   "metadata": {},
   "outputs": [
    {
     "name": "stdout",
     "output_type": "stream",
     "text": [
      "[['Siobhan' '1']\n",
      " ['Paul' '0']\n",
      " ['Rania' '1']\n",
      " ['Gunner' '0']\n",
      " ['Brandy' '0']\n",
      " ['Say' '0']\n",
      " ['Skell' '0']\n",
      " ['Vale' '0']\n",
      " ['Mercedes' '1']\n",
      " ['Blake' '1']\n",
      " ['Francesco' '0']\n",
      " ['Forest' '0']\n",
      " ['Ritchie' '0']\n",
      " ['Ashely' '1']\n",
      " ['Madelaine' '1']\n",
      " ['Mattie' '1']\n",
      " ['Salim' '0']\n",
      " ['Sheppard' '0']\n",
      " ['Janel' '1']\n",
      " ['Daren' '0']]\n"
     ]
    }
   ],
   "source": [
    "import numpy as np\n",
    "print(np.random.permutation(list(zip(names, labels)))[0:20])"
   ]
  },
  {
   "cell_type": "markdown",
   "metadata": {},
   "source": [
    "`vectors` is a list of numpy arrays, and `labels` is a list of integers. We will need to convert them to lists of FloatTensors. Since that is a lot of data, it is unlikely for them to all fit in the GPU, so we will use the RAM as a temporary storage regardless of your currently used device."
   ]
  },
  {
   "cell_type": "code",
   "execution_count": 6,
   "metadata": {},
   "outputs": [],
   "source": [
    "# or alternatively, vectors = [torch.tensor(vector) for vector in vectors]\n",
    "vectors = list(map(lambda x: torch.tensor(x, dtype=torch.float), vectors))\n",
    "labels = list(map(lambda x: torch.tensor(x, dtype=torch.float), labels))  "
   ]
  },
  {
   "cell_type": "markdown",
   "metadata": {},
   "source": [
    "Training on your entire dataset is bad practice; we should split the data into a training set and a validation set. We could either do it manually, or let `sklearn` do it for us."
   ]
  },
  {
   "cell_type": "code",
   "execution_count": 7,
   "metadata": {},
   "outputs": [],
   "source": [
    "from sklearn.model_selection import train_test_split\n",
    "names_train, names_val, X_train, X_val, Y_train, Y_val = train_test_split(names, vectors, labels, test_size=0.2)\n",
    "assert len(X_train) == len(Y_train) == len(names_train)\n",
    "assert len(X_val) == len(Y_val) == len(names_val)"
   ]
  },
  {
   "cell_type": "code",
   "execution_count": null,
   "metadata": {},
   "outputs": [],
   "source": []
  },
  {
   "cell_type": "markdown",
   "metadata": {},
   "source": [
    "Now that we have split the data, we may convert them from a list of tensors onto a big tensor. We could do that by using `view()` to expand the first dimension of each vector and then `cat()` to merge them, but an easier shorthand is `stack()`."
   ]
  },
  {
   "cell_type": "code",
   "execution_count": 8,
   "metadata": {},
   "outputs": [
    {
     "name": "stdout",
     "output_type": "stream",
     "text": [
      "torch.Size([4310, 300])\n",
      "torch.Size([1078, 300])\n",
      "torch.Size([4310])\n",
      "torch.Size([1078])\n"
     ]
    }
   ],
   "source": [
    "X_train = torch.stack(X_train)\n",
    "X_val = torch.stack(X_val)\n",
    "Y_train = torch.tensor(Y_train)\n",
    "Y_val = torch.tensor(Y_val)\n",
    "print(X_train.shape)\n",
    "print(X_val.shape)\n",
    "print(Y_train.shape)\n",
    "print(Y_val.shape)"
   ]
  },
  {
   "cell_type": "markdown",
   "metadata": {},
   "source": [
    "Now that we have our tensors in a sensible format, we may construct a Dataset (a storage unit for our data) and a DataLoader (a wrapper responsible for shuffling the data, iterating through them and converting them to batches)."
   ]
  },
  {
   "cell_type": "code",
   "execution_count": 9,
   "metadata": {},
   "outputs": [],
   "source": [
    "from torch.utils.data import TensorDataset\n",
    "from torch.utils.data import DataLoader\n",
    "\n",
    "train_dataset = TensorDataset(X_train, Y_train)\n",
    "train_dataloader = DataLoader(train_dataset, batch_size=32, shuffle=True)\n",
    "val_dataset = TensorDataset(X_val, Y_val)\n",
    "val_dataloader = DataLoader(val_dataset, batch_size=32, shuffle=False)  # no need to shuffle the validation data"
   ]
  },
  {
   "cell_type": "markdown",
   "metadata": {},
   "source": [
    "Let's begin and immediately stop an iteration through the training dataloader to get an idea of what's going on."
   ]
  },
  {
   "cell_type": "code",
   "execution_count": 10,
   "metadata": {},
   "outputs": [
    {
     "name": "stdout",
     "output_type": "stream",
     "text": [
      "torch.Size([32, 300])\n",
      "torch.float32\n",
      "torch.Size([32])\n",
      "torch.float32\n"
     ]
    }
   ],
   "source": [
    "for batch_x, batch_y in train_dataloader:\n",
    "    print(batch_x.shape)\n",
    "    print(batch_x.dtype)\n",
    "    print(batch_y.shape)\n",
    "    print(batch_y.dtype)\n",
    "    break\n"
   ]
  },
  {
   "cell_type": "markdown",
   "metadata": {},
   "source": [
    "Looking good; batch_x is 32 300-dimensional vectors, and batch_y is 32 values."
   ]
  },
  {
   "cell_type": "markdown",
   "metadata": {},
   "source": [
    "`train_batch()` is a function that takes a network, a batch of inputs, a batch of outputs, a loss function and an optimizer, runs the training routine on that batch and returns the loss value of that batch"
   ]
  },
  {
   "cell_type": "code",
   "execution_count": 11,
   "metadata": {},
   "outputs": [],
   "source": [
    "from typing import Callable, List\n",
    "\n",
    "# Callable is typed as Callable[[i1, i2, ..], o]\n",
    "# where i1, i2, .. the input types and o the output type\n",
    "\n",
    "def train_batch(network: torch.nn.Module,  # the network\n",
    "                X_batch: torch.FloatTensor,  # the X batch\n",
    "                Y_batch: torch.LongTensor,   # the Y batch\n",
    "                # a function from a FloatTensor (prediction) and a FloatTensor (Y) to a FloatTensor (the loss)\n",
    "                loss_fn: Callable[[torch.FloatTensor, torch.FloatTensor], torch.FloatTensor],  \n",
    "                # the optimizer\n",
    "                optimizer: torch.optim.Optimizer) -> float:\n",
    "    \n",
    "    network.train()\n",
    "    \n",
    "    prediction_batch = network(X_batch)  # forward pass\n",
    "    batch_loss = loss_fn(prediction_batch.view(-1), Y_batch)  # loss calculation\n",
    "    batch_loss.backward()  # gradient computation\n",
    "    optimizer.step()  # back-propagation\n",
    "    optimizer.zero_grad()  # gradient reset\n",
    "    return batch_loss.item()"
   ]
  },
  {
   "cell_type": "markdown",
   "metadata": {},
   "source": [
    "<div class=\"alert alert-block alert-info\">\n",
    "<b>Note:</b> Several network components (e.g. dropout units) may behave differently during training and validation. We use `.train()` to inform the network that we are in training time.\n",
    "</div>\n",
    "\n",
    "<div class=\"alert alert-block alert-warning\">\n",
    "<b>Warning:</b>\n",
    "The `batch_loss` tensor requires gradient (why?). It is important to return its contents with `.item()` rather than the tensor itself, otherwise we risk memory leak because of the accumulated gradient tracking.\n",
    "</div>"
   ]
  },
  {
   "cell_type": "markdown",
   "metadata": {},
   "source": [
    "`train_epoch()` is a function that takes a network, the training dataloader, a loss function and an optimizer. It iterates through the dataloader and is responsible for calling `train_batch()`."
   ]
  },
  {
   "cell_type": "code",
   "execution_count": 12,
   "metadata": {},
   "outputs": [],
   "source": [
    "def train_epoch(network: torch.nn.Module, \n",
    "                # a list of data points x\n",
    "                dataloader: DataLoader,\n",
    "                loss_fn: Callable[[torch.FloatTensor, torch.FloatTensor], torch.FloatTensor],\n",
    "                optimizer: torch.optim.Optimizer, \n",
    "                device: str) -> float:\n",
    "    \n",
    "    loss = 0.\n",
    "    \n",
    "    for i, (x_batch, y_batch) in enumerate(dataloader):\n",
    "        x_batch = x_batch.to(device)  # convert back to your chosen device\n",
    "        y_batch = y_batch.to(device)\n",
    "        loss += train_batch(network=network, X_batch=x_batch, Y_batch=y_batch, loss_fn=loss_fn, optimizer=optimizer)\n",
    "    loss /= (i+1) # divide loss by number of batches for consistency \n",
    "        \n",
    "    return loss"
   ]
  },
  {
   "cell_type": "markdown",
   "metadata": {},
   "source": [
    "Your turn; fill in the missing parts of `eval_batch()`, a function that takes a network, a batch of inputs, a batch of outputs and a loss function, and computes the loss of that batch."
   ]
  },
  {
   "cell_type": "code",
   "execution_count": 13,
   "metadata": {},
   "outputs": [],
   "source": [
    "def eval_batch(network: torch.nn.Module,  # the network\n",
    "                X_batch: torch.FloatTensor,  # the X batch\n",
    "                Y_batch: torch.LongTensor,   # the Y batch\n",
    "                loss_fn: Callable[[torch.FloatTensor, torch.LongTensor], torch.FloatTensor]) -> float:\n",
    "    \n",
    "    network.eval()\n",
    "    \n",
    "    with torch.no_grad():\n",
    "        prediction_batch = network(X_batch)  # forward pass\n",
    "        batch_loss = loss_fn(prediction_batch.view(-1), Y_batch)  # loss calculation\n",
    "    \n",
    "    return batch_loss"
   ]
  },
  {
   "cell_type": "markdown",
   "metadata": {},
   "source": [
    "<div class=\"alert alert-block alert-info\">\n",
    "<b>Note:</b> Notice that we use `.eval()` to inform the network we are in validation time. Notice also the `no_grad()` context; this is telling torch that it doesn't need to bother with gradient tracking momentarily, providing a significant speed-up for the current session.\n",
    "</div>"
   ]
  },
  {
   "cell_type": "markdown",
   "metadata": {},
   "source": [
    "`eval_epoch()` is basically the same as `train_epoch()`, aside the lack of an optimizer. Fill it in."
   ]
  },
  {
   "cell_type": "code",
   "execution_count": 14,
   "metadata": {},
   "outputs": [],
   "source": [
    "def eval_epoch(network: torch.nn.Module, \n",
    "                # a list of data points x\n",
    "                dataloader: DataLoader,\n",
    "                loss_fn: Callable[[torch.FloatTensor, torch.LongTensor], torch.FloatTensor],\n",
    "                device: str) -> float:\n",
    "\n",
    "    loss = 0.\n",
    "    \n",
    "    for i, (x_batch, y_batch) in enumerate(dataloader):\n",
    "        x_batch = x_batch.to(device)  # convert back to your chosen device\n",
    "        y_batch = y_batch.to(device)\n",
    "        loss += eval_batch(network=network, X_batch=x_batch, Y_batch=y_batch, loss_fn=loss_fn)\n",
    "    loss /= (i+1) # divide loss by number of batches for consistency \n",
    "        \n",
    "    return loss"
   ]
  },
  {
   "cell_type": "markdown",
   "metadata": {},
   "source": [
    "We can also make an auxilliary `infer_batch()` function; the forward pass gives us the final layer's output, but we might just be interested in the predicted class rather than its probability."
   ]
  },
  {
   "cell_type": "code",
   "execution_count": 15,
   "metadata": {},
   "outputs": [],
   "source": [
    "def infer_batch(network: torch.nn.Module, \n",
    "                batch_x: torch.FloatTensor, \n",
    "                device: str) -> torch.LongTensor:\n",
    "    \n",
    "    # first apply the sigmoid activation (since it is implemented by the loss function rather than the network itself)\n",
    "    sigm = torch.sigmoid(network(batch_x.to(device)))\n",
    "    # round the result\n",
    "    classes = torch.round(sigm)\n",
    "    # detach it from the computation graph (we no longer care about its gradients)\n",
    "    classes = classes.detach()\n",
    "    # cast the result into a LongTensor and return\n",
    "    return classes.to(torch.long)"
   ]
  },
  {
   "cell_type": "markdown",
   "metadata": {},
   "source": [
    "One last thing before we can finally train; we need a loss function and an optimizer. "
   ]
  },
  {
   "cell_type": "code",
   "execution_count": 16,
   "metadata": {},
   "outputs": [],
   "source": [
    "opt = torch.optim.Adam(f.parameters(), lr=1e-05)\n",
    "loss_fn = torch.nn.BCEWithLogitsLoss(reduction='mean')"
   ]
  },
  {
   "cell_type": "code",
   "execution_count": 17,
   "metadata": {},
   "outputs": [
    {
     "name": "stdout",
     "output_type": "stream",
     "text": [
      "Epoch 0\n",
      " Training Loss: 0.7018592132462396\n",
      " Validation Loss: 0.7143403887748718\n",
      "Epoch 1\n",
      " Training Loss: 0.6989122770450733\n",
      " Validation Loss: 0.7110252380371094\n",
      "Epoch 2\n",
      " Training Loss: 0.695981796141024\n",
      " Validation Loss: 0.7076538801193237\n",
      "Epoch 3\n",
      " Training Loss: 0.6927790001586631\n",
      " Validation Loss: 0.7042823433876038\n",
      "Epoch 4\n",
      " Training Loss: 0.6898858383849815\n",
      " Validation Loss: 0.7007747292518616\n",
      "Epoch 5\n",
      " Training Loss: 0.686467237384231\n",
      " Validation Loss: 0.6972695589065552\n",
      "Epoch 6\n",
      " Training Loss: 0.683338702166522\n",
      " Validation Loss: 0.6937175393104553\n",
      "Epoch 7\n",
      " Training Loss: 0.6799577090475294\n",
      " Validation Loss: 0.6900795102119446\n",
      "Epoch 8\n",
      " Training Loss: 0.6764523731337653\n",
      " Validation Loss: 0.686509907245636\n",
      "Epoch 9\n",
      " Training Loss: 0.6730414337582058\n",
      " Validation Loss: 0.6829731464385986\n",
      "Epoch 10\n",
      " Training Loss: 0.6698405111277544\n",
      " Validation Loss: 0.679419755935669\n",
      "Epoch 11\n",
      " Training Loss: 0.6661862448409751\n",
      " Validation Loss: 0.6758992671966553\n",
      "Epoch 12\n",
      " Training Loss: 0.662607615965384\n",
      " Validation Loss: 0.6724475622177124\n",
      "Epoch 13\n",
      " Training Loss: 0.6591846192324603\n",
      " Validation Loss: 0.6690148115158081\n",
      "Epoch 14\n",
      " Training Loss: 0.6557318298904984\n",
      " Validation Loss: 0.6656460762023926\n",
      "Epoch 15\n",
      " Training Loss: 0.6521885395050049\n",
      " Validation Loss: 0.6622752547264099\n",
      "Epoch 16\n",
      " Training Loss: 0.6487277066266095\n",
      " Validation Loss: 0.6589595675468445\n",
      "Epoch 17\n",
      " Training Loss: 0.6452151042443734\n",
      " Validation Loss: 0.6557193398475647\n",
      "Epoch 18\n",
      " Training Loss: 0.6416342638157032\n",
      " Validation Loss: 0.652535617351532\n",
      "Epoch 19\n",
      " Training Loss: 0.6382408707230179\n",
      " Validation Loss: 0.649435818195343\n",
      "Epoch 20\n",
      " Training Loss: 0.6350305429211369\n",
      " Validation Loss: 0.6464181542396545\n",
      "Epoch 21\n",
      " Training Loss: 0.6318049633944476\n",
      " Validation Loss: 0.6434827446937561\n",
      "Epoch 22\n",
      " Training Loss: 0.6287433284300344\n",
      " Validation Loss: 0.640626847743988\n",
      "Epoch 23\n",
      " Training Loss: 0.6258444922941703\n",
      " Validation Loss: 0.6379274725914001\n",
      "Epoch 24\n",
      " Training Loss: 0.6228741473621793\n",
      " Validation Loss: 0.6352860927581787\n",
      "Epoch 25\n",
      " Training Loss: 0.6202322664084258\n",
      " Validation Loss: 0.6327632665634155\n",
      "Epoch 26\n",
      " Training Loss: 0.6177004822978267\n",
      " Validation Loss: 0.630361020565033\n",
      "Epoch 27\n",
      " Training Loss: 0.6151821957694159\n",
      " Validation Loss: 0.6280496716499329\n",
      "Epoch 28\n",
      " Training Loss: 0.6126617630322774\n",
      " Validation Loss: 0.6258398294448853\n",
      "Epoch 29\n",
      " Training Loss: 0.6102746248245239\n",
      " Validation Loss: 0.6237601637840271\n",
      "Epoch 30\n",
      " Training Loss: 0.6082717332575056\n",
      " Validation Loss: 0.6217478513717651\n",
      "Epoch 31\n",
      " Training Loss: 0.6061601214938693\n",
      " Validation Loss: 0.6198652386665344\n",
      "Epoch 32\n",
      " Training Loss: 0.6042574087778727\n",
      " Validation Loss: 0.6180625557899475\n",
      "Epoch 33\n",
      " Training Loss: 0.6023288188157259\n",
      " Validation Loss: 0.6163585186004639\n",
      "Epoch 34\n",
      " Training Loss: 0.6005737022117332\n",
      " Validation Loss: 0.6147096753120422\n",
      "Epoch 35\n",
      " Training Loss: 0.5990966999972308\n",
      " Validation Loss: 0.613128125667572\n",
      "Epoch 36\n",
      " Training Loss: 0.5973218140778718\n",
      " Validation Loss: 0.6116571426391602\n",
      "Epoch 37\n",
      " Training Loss: 0.5956725687892349\n",
      " Validation Loss: 0.6102408170700073\n",
      "Epoch 38\n",
      " Training Loss: 0.5941341982947456\n",
      " Validation Loss: 0.6088913679122925\n",
      "Epoch 39\n",
      " Training Loss: 0.5927043239275614\n",
      " Validation Loss: 0.6076131463050842\n",
      "Epoch 40\n",
      " Training Loss: 0.5914987438254886\n",
      " Validation Loss: 0.6063695549964905\n",
      "Epoch 41\n",
      " Training Loss: 0.5902258210712009\n",
      " Validation Loss: 0.6051964163780212\n",
      "Epoch 42\n",
      " Training Loss: 0.5890952264821088\n",
      " Validation Loss: 0.6040746569633484\n",
      "Epoch 43\n",
      " Training Loss: 0.587678239080641\n",
      " Validation Loss: 0.6030099391937256\n",
      "Epoch 44\n",
      " Training Loss: 0.5867455862186574\n",
      " Validation Loss: 0.6020020246505737\n",
      "Epoch 45\n",
      " Training Loss: 0.5856140315532684\n",
      " Validation Loss: 0.6010165810585022\n",
      "Epoch 46\n",
      " Training Loss: 0.5846327967113919\n",
      " Validation Loss: 0.6000924110412598\n",
      "Epoch 47\n",
      " Training Loss: 0.5837509417975391\n",
      " Validation Loss: 0.5991998314857483\n",
      "Epoch 48\n",
      " Training Loss: 0.5828919821315341\n",
      " Validation Loss: 0.5983596444129944\n",
      "Epoch 49\n",
      " Training Loss: 0.5818335745069716\n",
      " Validation Loss: 0.5975526571273804\n",
      "Epoch 50\n",
      " Training Loss: 0.5808269023895264\n",
      " Validation Loss: 0.5967772603034973\n",
      "Epoch 51\n",
      " Training Loss: 0.5800020127384751\n",
      " Validation Loss: 0.5960378050804138\n",
      "Epoch 52\n",
      " Training Loss: 0.5794605409657514\n",
      " Validation Loss: 0.595321774482727\n",
      "Epoch 53\n",
      " Training Loss: 0.5787084888528895\n",
      " Validation Loss: 0.5946364998817444\n",
      "Epoch 54\n",
      " Training Loss: 0.5777401279520106\n",
      " Validation Loss: 0.5939881801605225\n",
      "Epoch 55\n",
      " Training Loss: 0.5772133041311194\n",
      " Validation Loss: 0.5933603048324585\n",
      "Epoch 56\n",
      " Training Loss: 0.5762594905164506\n",
      " Validation Loss: 0.5927563905715942\n",
      "Epoch 57\n",
      " Training Loss: 0.5760737163049203\n",
      " Validation Loss: 0.5921750664710999\n",
      "Epoch 58\n",
      " Training Loss: 0.5752464903725518\n",
      " Validation Loss: 0.5916231274604797\n",
      "Epoch 59\n",
      " Training Loss: 0.5744992421733008\n",
      " Validation Loss: 0.5910846590995789\n",
      "Epoch 60\n",
      " Training Loss: 0.5739821877744463\n",
      " Validation Loss: 0.5905725359916687\n",
      "Epoch 61\n",
      " Training Loss: 0.5734452976120843\n",
      " Validation Loss: 0.5900778770446777\n",
      "Epoch 62\n",
      " Training Loss: 0.572979513141844\n",
      " Validation Loss: 0.5896120071411133\n",
      "Epoch 63\n",
      " Training Loss: 0.5723970596437101\n",
      " Validation Loss: 0.5891483426094055\n",
      "Epoch 64\n",
      " Training Loss: 0.5720455476531277\n",
      " Validation Loss: 0.5887166857719421\n",
      "Epoch 65\n",
      " Training Loss: 0.5714993152353499\n",
      " Validation Loss: 0.5882869362831116\n",
      "Epoch 66\n",
      " Training Loss: 0.5708486786595097\n",
      " Validation Loss: 0.5878787636756897\n",
      "Epoch 67\n",
      " Training Loss: 0.5706365088621775\n",
      " Validation Loss: 0.5874825119972229\n",
      "Epoch 68\n",
      " Training Loss: 0.5700190076121577\n",
      " Validation Loss: 0.5871015191078186\n",
      "Epoch 69\n",
      " Training Loss: 0.5695572371836062\n",
      " Validation Loss: 0.5867409706115723\n",
      "Epoch 70\n",
      " Training Loss: 0.5691590947133524\n",
      " Validation Loss: 0.5863869786262512\n",
      "Epoch 71\n",
      " Training Loss: 0.5690548830562168\n",
      " Validation Loss: 0.5860257148742676\n",
      "Epoch 72\n",
      " Training Loss: 0.568594957281042\n",
      " Validation Loss: 0.5857002139091492\n",
      "Epoch 73\n",
      " Training Loss: 0.5680466484140467\n",
      " Validation Loss: 0.5853790044784546\n",
      "Epoch 74\n",
      " Training Loss: 0.5676975161940964\n",
      " Validation Loss: 0.5850648283958435\n",
      "Epoch 75\n",
      " Training Loss: 0.5674620842492138\n",
      " Validation Loss: 0.5847761034965515\n",
      "Epoch 76\n",
      " Training Loss: 0.5669660786787669\n",
      " Validation Loss: 0.584491491317749\n",
      "Epoch 77\n",
      " Training Loss: 0.5667495116039559\n",
      " Validation Loss: 0.5842007398605347\n",
      "Epoch 78\n",
      " Training Loss: 0.566451597434503\n",
      " Validation Loss: 0.5839352011680603\n",
      "Epoch 79\n",
      " Training Loss: 0.5659590023535269\n",
      " Validation Loss: 0.5836737155914307\n",
      "Epoch 80\n",
      " Training Loss: 0.565830628518705\n",
      " Validation Loss: 0.5834136009216309\n",
      "Epoch 81\n",
      " Training Loss: 0.5654685287563889\n",
      " Validation Loss: 0.5831740498542786\n",
      "Epoch 82\n",
      " Training Loss: 0.565108487561897\n",
      " Validation Loss: 0.5829259753227234\n",
      "Epoch 83\n",
      " Training Loss: 0.5649114858221125\n",
      " Validation Loss: 0.5826992392539978\n",
      "Epoch 84\n",
      " Training Loss: 0.56480424757357\n",
      " Validation Loss: 0.5824753046035767\n",
      "Epoch 85\n",
      " Training Loss: 0.564331563755318\n",
      " Validation Loss: 0.5822582244873047\n",
      "Epoch 86\n",
      " Training Loss: 0.5640699205575166\n",
      " Validation Loss: 0.5820536613464355\n",
      "Epoch 87\n",
      " Training Loss: 0.5638642450173695\n",
      " Validation Loss: 0.5818474888801575\n",
      "Epoch 88\n",
      " Training Loss: 0.5635979056358338\n",
      " Validation Loss: 0.5816587209701538\n",
      "Epoch 89\n",
      " Training Loss: 0.563315463286859\n",
      " Validation Loss: 0.5814656019210815\n",
      "Epoch 90\n",
      " Training Loss: 0.5633076912826962\n",
      " Validation Loss: 0.5812774300575256\n",
      "Epoch 91\n",
      " Training Loss: 0.5627760728200276\n",
      " Validation Loss: 0.5811068415641785\n",
      "Epoch 92\n",
      " Training Loss: 0.5626495637275555\n",
      " Validation Loss: 0.5809216499328613\n",
      "Epoch 93\n",
      " Training Loss: 0.5625058732650898\n",
      " Validation Loss: 0.5807392001152039\n",
      "Epoch 94\n",
      " Training Loss: 0.5624364667468601\n",
      " Validation Loss: 0.5805776119232178\n",
      "Epoch 95\n",
      " Training Loss: 0.5620622910835125\n",
      " Validation Loss: 0.5804241895675659\n",
      "Epoch 96\n",
      " Training Loss: 0.5617967930104998\n",
      " Validation Loss: 0.5802698731422424\n",
      "Epoch 97\n",
      " Training Loss: 0.5616478836094891\n",
      " Validation Loss: 0.580118715763092\n",
      "Epoch 98\n",
      " Training Loss: 0.5614071488380432\n",
      " Validation Loss: 0.5799599885940552\n",
      "Epoch 99\n",
      " Training Loss: 0.5612542518862972\n",
      " Validation Loss: 0.5798168182373047\n"
     ]
    }
   ],
   "source": [
    "NUM_EPOCHS = 100\n",
    "\n",
    "train_losses = []\n",
    "val_losses = []\n",
    "\n",
    "for t in range(NUM_EPOCHS):\n",
    "    train_loss = train_epoch(f, train_dataloader, optimizer=opt, loss_fn=loss_fn, device=device)\n",
    "    val_loss = eval_epoch(f, val_dataloader, loss_fn, device=device)\n",
    "    \n",
    "    print('Epoch {}'.format(t))\n",
    "    print(' Training Loss: {}'.format(train_loss))\n",
    "    print(' Validation Loss: {}'.format(val_loss))\n",
    "    \n",
    "    train_losses.append(train_loss)\n",
    "    val_losses.append(val_loss)"
   ]
  },
  {
   "cell_type": "markdown",
   "metadata": {},
   "source": [
    "We may plot the losses to get an idea of what the learning curve looks like."
   ]
  },
  {
   "cell_type": "code",
   "execution_count": 18,
   "metadata": {},
   "outputs": [
    {
     "data": {
      "image/png": "[encoded data removed]",
      "text/plain": [
       "<Figure size 432x288 with 1 Axes>"
      ]
     },
     "metadata": {
      "needs_background": "light"
     },
     "output_type": "display_data"
    }
   ],
   "source": [
    "from matplotlib import pyplot as plt\n",
    "plt.plot(train_losses)\n",
    "plt.plot(val_losses)\n",
    "plt.legend(['Training', 'Validation'])\n",
    "plt.show()"
   ]
  },
  {
   "cell_type": "markdown",
   "metadata": {},
   "source": [
    "And let's bring this to an end by labeling all of our validation data and printing the results."
   ]
  },
  {
   "cell_type": "code",
   "execution_count": 19,
   "metadata": {},
   "outputs": [
    {
     "name": "stdout",
     "output_type": "stream",
     "text": [
      "[('Reg', [1]),\n",
      " ('Yard', [1]),\n",
      " ('Karmen', [1]),\n",
      " ('Garp', [1]),\n",
      " ('Val', [1]),\n",
      " ('Alla', [1]),\n",
      " ('Tommi', [1]),\n",
      " ('Ikey', [1]),\n",
      " ('Bertha', [1]),\n",
      " ('Adrien', [1]),\n",
      " ('Cristin', [1]),\n",
      " ('Orlando', [1]),\n",
      " ('Micki', [1]),\n",
      " ('Shaun', [1]),\n",
      " ('Wynn', [1]),\n",
      " ('Kiri', [1]),\n",
      " ('Laetitia', [1]),\n",
      " ('Sky', [1]),\n",
      " ('Casandra', [1]),\n",
      " ('Chriss', [1]),\n",
      " ('Denis', [1]),\n",
      " ('Alix', [1]),\n",
      " ('Carie', [1]),\n",
      " ('Broderick', [1]),\n",
      " ('Corey', [1]),\n",
      " ('Darby', [1]),\n",
      " ('Carrol', [1]),\n",
      " ('Goldy', [1]),\n",
      " ('Melvyn', [1]),\n",
      " ('Thom', [1]),\n",
      " ('Meryl', [1]),\n",
      " ('Cat', [1]),\n",
      " ('Aimee', [1]),\n",
      " ('French', [1]),\n",
      " ('Ula', [1]),\n",
      " ('Carissa', [1]),\n",
      " ('Joselyn', [1]),\n",
      " ('Oriana', [1]),\n",
      " ('Jacquie', [1]),\n",
      " ('Aveline', [1]),\n",
      " ('Hastings', [1]),\n",
      " ('Davon', [1]),\n",
      " ('Elysee', [1]),\n",
      " ('Joe', [1]),\n",
      " ('Sax', [1]),\n",
      " ('Lorain', [1]),\n",
      " ('Petunia', [1]),\n",
      " ('Marielle', [1]),\n",
      " ('Nichole', [1]),\n",
      " ('Illa', [1]),\n",
      " ('Ismail', [1]),\n",
      " ('Murray', [1]),\n",
      " ('Denny', [1]),\n",
      " ('Rafa', [1]),\n",
      " ('Mariam', [1]),\n",
      " ('Mead', [1]),\n",
      " ('Mika', [1]),\n",
      " ('Nellie', [1]),\n",
      " ('Hiro', [1]),\n",
      " ('Sergio', [1]),\n",
      " ('Erica', [1]),\n",
      " ('Minette', [1]),\n",
      " ('Patience', [1]),\n",
      " ('Barbara', [1]),\n",
      " ('Myles', [1]),\n",
      " ('Claudius', [1]),\n",
      " ('Mirabella', [1]),\n",
      " ('Owen', [1]),\n",
      " ('Saxon', [1]),\n",
      " ('Thurston', [1]),\n",
      " ('Aurea', [1]),\n",
      " ('Kendra', [1]),\n",
      " ('Ingram', [1]),\n",
      " ('Christal', [1]),\n",
      " ('Mandy', [1]),\n",
      " ('Bria', [1]),\n",
      " ('Raina', [1]),\n",
      " ('Harriet', [1]),\n",
      " ('Sheree', [1]),\n",
      " ('Goddard', [1]),\n",
      " ('Shina', [1]),\n",
      " ('Muriel', [1]),\n",
      " ('Ez', [1]),\n",
      " ('Spence', [1]),\n",
      " ('Aurelia', [1]),\n",
      " ('Kareem', [1]),\n",
      " ('Steffen', [1]),\n",
      " ('Odie', [1]),\n",
      " ('Faye', [1]),\n",
      " ('Ashton', [1]),\n",
      " ('Gilligan', [1]),\n",
      " ('Jameson', [1]),\n",
      " ('Rabbi', [1]),\n",
      " ('Urban', [1]),\n",
      " ('Julia', [1]),\n",
      " ('Constantine', [1]),\n",
      " ('Florance', [1]),\n",
      " ('Stanislaw', [1]),\n",
      " ('Meryl', [1]),\n",
      " ('Sapphire', [1]),\n",
      " ('Dexter', [1]),\n",
      " ('Elwood', [1]),\n",
      " ('Annamarie', [1]),\n",
      " ('Marys', [1]),\n",
      " ('Hezekiah', [1]),\n",
      " ('Boyce', [1]),\n",
      " ('Loren', [1]),\n",
      " ('Emory', [1]),\n",
      " ('Ruddy', [1]),\n",
      " ('Amie', [1]),\n",
      " ('Joey', [1]),\n",
      " ('Russ', [1]),\n",
      " ('Georgia', [1]),\n",
      " ('Filipe', [1]),\n",
      " ('Daryle', [1]),\n",
      " ('Bambi', [1]),\n",
      " ('Stefan', [1]),\n",
      " ('Dickey', [1]),\n",
      " ('Trev', [1]),\n",
      " ('Ugo', [1]),\n",
      " ('Loni', [1]),\n",
      " ('Yancey', [1]),\n",
      " ('Luci', [1]),\n",
      " ('Shawnee', [1]),\n",
      " ('Barney', [1]),\n",
      " ('Ginni', [1]),\n",
      " ('Sophie', [1]),\n",
      " ('Denise', [1]),\n",
      " ('Alonso', [1]),\n",
      " ('Abe', [1]),\n",
      " ('Waleed', [1]),\n",
      " ('Vi', [1]),\n",
      " ('Che', [1]),\n",
      " ('Lydia', [1]),\n",
      " ('Myrna', [1]),\n",
      " ('Mohamad', [1]),\n",
      " ('Jean-Pierre', [1]),\n",
      " ('Pansy', [1]),\n",
      " ('Tia', [1]),\n",
      " ('Evita', [1]),\n",
      " ('Tulley', [1]),\n",
      " ('Merrill', [1]),\n",
      " ('Holly', [1]),\n",
      " ('Allie', [1]),\n",
      " ('Skip', [1]),\n",
      " ('Delores', [1]),\n",
      " ('Fabio', [1]),\n",
      " ('Drea', [1]),\n",
      " ('Baron', [1]),\n",
      " ('Lemmie', [1]),\n",
      " ('Thea', [1]),\n",
      " ('Amory', [1]),\n",
      " ('Lizbeth', [1]),\n",
      " ('Tabitha', [1]),\n",
      " ('Reynard', [1]),\n",
      " ('Marybeth', [1]),\n",
      " ('Seth', [1]),\n",
      " ('Prince', [1]),\n",
      " ('Avery', [1]),\n",
      " ('Adolphus', [1]),\n",
      " ('Dominica', [1]),\n",
      " ('Andee', [1]),\n",
      " ('Lindsey', [1]),\n",
      " ('Georgette', [1]),\n",
      " ('Brent', [1]),\n",
      " ('Maribeth', [1]),\n",
      " ('Eduard', [1]),\n",
      " ('Hercule', [1]),\n",
      " ('Em', [1]),\n",
      " ('Kermit', [1]),\n",
      " ('Berri', [1]),\n",
      " ('Evan', [1]),\n",
      " ('Abby', [1]),\n",
      " ('Misti', [1]),\n",
      " ('Tatum', [1]),\n",
      " ('Claude', [1]),\n",
      " ('Sibyl', [1]),\n",
      " ('Rudolph', [1]),\n",
      " ('Norrie', [1]),\n",
      " ('Carolyn', [1]),\n",
      " ('Bab', [1]),\n",
      " ('Carita', [1]),\n",
      " ('Becca', [1]),\n",
      " ('Edy', [1]),\n",
      " ('Davina', [1]),\n",
      " ('Liliane', [1]),\n",
      " ('Adnan', [1]),\n",
      " ('Sholom', [1]),\n",
      " ('Marty', [1]),\n",
      " ('Julianna', [1]),\n",
      " ('Evelina', [1]),\n",
      " ('Goose', [1]),\n",
      " ('Bradly', [1]),\n",
      " ('Erinn', [1]),\n",
      " ('Thorn', [1]),\n",
      " ('Kerstin', [1]),\n",
      " ('Drake', [1]),\n",
      " ('Lilla', [1]),\n",
      " ('Vincents', [1]),\n",
      " ('Netty', [1]),\n",
      " ('Ailey', [1]),\n",
      " ('Katey', [1]),\n",
      " ('Joye', [1]),\n",
      " ('Gen', [1]),\n",
      " ('Raoul', [1]),\n",
      " ('Otis', [1]),\n",
      " ('Tracie', [1]),\n",
      " ('Antonius', [1]),\n",
      " ('Markos', [1]),\n",
      " ('Heath', [1]),\n",
      " ('Lorne', [1]),\n",
      " ('Glen', [1]),\n",
      " ('Izaak', [1]),\n",
      " ('Loraine', [1]),\n",
      " ('Rubia', [1]),\n",
      " ('Ron', [1]),\n",
      " ('Colleen', [1]),\n",
      " ('Constantine', [1]),\n",
      " ('Uriah', [1]),\n",
      " ('Maryann', [1]),\n",
      " ('Dallas', [1]),\n",
      " ('Calley', [1]),\n",
      " ('Marcello', [1]),\n",
      " ('Zak', [1]),\n",
      " ('Johannes', [1]),\n",
      " ('Edouard', [1]),\n",
      " ('Lucian', [1]),\n",
      " ('Joanna', [1]),\n",
      " ('Reba', [1]),\n",
      " ('Worth', [1]),\n",
      " ('Teressa', [1]),\n",
      " ('Danica', [1]),\n",
      " ('Berti', [1]),\n",
      " ('Hannibal', [1]),\n",
      " ('Nickie', [1]),\n",
      " ('Michele', [1]),\n",
      " ('Spiros', [1]),\n",
      " ('Gav', [1]),\n",
      " ('Maddalena', [1]),\n",
      " ('Herschel', [1]),\n",
      " ('Elijah', [1]),\n",
      " ('Caryl', [1]),\n",
      " ('Bradley', [1]),\n",
      " ('Nevil', [1]),\n",
      " ('Whitney', [1]),\n",
      " ('Hillard', [1]),\n",
      " ('Stinky', [1]),\n",
      " ('Jules', [1]),\n",
      " ('Barby', [1]),\n",
      " ('Margret', [1]),\n",
      " ('Hakeem', [1]),\n",
      " ('Nadia', [1]),\n",
      " ('Karissa', [1]),\n",
      " ('Bernhard', [1]),\n",
      " ('Renaud', [1]),\n",
      " ('Charla', [1]),\n",
      " ('Carlita', [1]),\n",
      " ('Roberta', [1]),\n",
      " ('Noel', [1]),\n",
      " ('Secunda', [1]),\n",
      " ('Othello', [1]),\n",
      " ('Margy', [1]),\n",
      " ('Baxter', [1]),\n",
      " ('Marvin', [1]),\n",
      " ('Rex', [1]),\n",
      " ('Karl', [1]),\n",
      " ('Fabian', [1]),\n",
      " ('Arturo', [1]),\n",
      " ('Erik', [1]),\n",
      " ('Jennette', [1]),\n",
      " ('Thor', [1]),\n",
      " ('Edin', [1]),\n",
      " ('Kai', [1]),\n",
      " ('Lucas', [1]),\n",
      " ('Quinlan', [1]),\n",
      " ('Susie', [1]),\n",
      " ('Rosemary', [1]),\n",
      " ('Sofie', [1]),\n",
      " ('Sioux', [1]),\n",
      " ('Kevyn', [1]),\n",
      " ('Dominique', [1]),\n",
      " ('Godiva', [1]),\n",
      " ('Emmy', [1]),\n",
      " ('Manish', [1]),\n",
      " ('Christy', [1]),\n",
      " ('Rory', [1]),\n",
      " ('Gwynne', [1]),\n",
      " ('Kimmy', [1]),\n",
      " ('Alden', [1]),\n",
      " ('Ewan', [1]),\n",
      " ('Chase', [1]),\n",
      " ('Eben', [1]),\n",
      " ('Jaclyn', [1]),\n",
      " ('Malia', [1]),\n",
      " ('Stirling', [1]),\n",
      " ('Costa', [1]),\n",
      " ('Jeanine', [1]),\n",
      " ('Agatha', [1]),\n",
      " ('Sanson', [1]),\n",
      " ('Kyle', [1]),\n",
      " ('Cammy', [1]),\n",
      " ('Eileen', [1]),\n",
      " ('Esmeralda', [1]),\n",
      " ('Dorian', [1]),\n",
      " ('Catrina', [1]),\n",
      " ('Madona', [1]),\n",
      " ('Mel', [1]),\n",
      " ('Jerald', [1]),\n",
      " ('Tadd', [1]),\n",
      " ('Agustin', [1]),\n",
      " ('Wilburn', [1]),\n",
      " ('Jo-Ann', [1]),\n",
      " ('Emil', [1]),\n",
      " ('Cinderella', [1]),\n",
      " ('Kylie', [1]),\n",
      " ('Christophe', [1]),\n",
      " ('Lew', [1]),\n",
      " ('Marietta', [1]),\n",
      " ('Rhody', [1]),\n",
      " ('Ronda', [1]),\n",
      " ('Tera', [1]),\n",
      " ('Del', [1]),\n",
      " ('Giff', [1]),\n",
      " ('Marlie', [1]),\n",
      " ('Wilmette', [1]),\n",
      " ('Sumner', [1]),\n",
      " ('Tedi', [1]),\n",
      " ('Damara', [1]),\n",
      " ('Joana', [1]),\n",
      " ('Sarah', [1]),\n",
      " ('Dodie', [1]),\n",
      " ('Ashby', [1]),\n",
      " ('Alena', [1]),\n",
      " ('Maia', [1]),\n",
      " ('Becka', [1]),\n",
      " ('Werner', [1]),\n",
      " ('Shel', [1]),\n",
      " ('Shanon', [1]),\n",
      " ('Tonie', [1]),\n",
      " ('Elise', [1]),\n",
      " ('Bo', [1]),\n",
      " ('Marga', [1]),\n",
      " ('Britney', [1]),\n",
      " ('Rosalinda', [1]),\n",
      " ('Chandra', [1]),\n",
      " ('Adolph', [1]),\n",
      " ('Julienne', [1]),\n",
      " ('Ambrosius', [1]),\n",
      " ('Cloe', [1]),\n",
      " ('Gus', [1]),\n",
      " ('Abel', [1]),\n",
      " ('Valencia', [1]),\n",
      " ('Melodie', [1]),\n",
      " ('Stacy', [1]),\n",
      " ('Shimon', [1]),\n",
      " ('Hailey', [1]),\n",
      " ('Spenser', [1]),\n",
      " ('Barry', [1]),\n",
      " ('Rainer', [1]),\n",
      " ('Margaret', [1]),\n",
      " ('Nitin', [1]),\n",
      " ('Emanuel', [1]),\n",
      " ('Mark', [1]),\n",
      " ('Nadya', [1]),\n",
      " ('Ashli', [1]),\n",
      " ('Randy', [1]),\n",
      " ('Noelle', [1]),\n",
      " ('Lina', [1]),\n",
      " ('Teodoro', [1]),\n",
      " ('Almeria', [1]),\n",
      " ('Gretchen', [1]),\n",
      " ('Tod', [1]),\n",
      " ('Tiler', [1]),\n",
      " ('Marley', [1]),\n",
      " ('Micah', [1]),\n",
      " ('Giuseppe', [1]),\n",
      " ('Christoph', [1]),\n",
      " ('Doe', [1]),\n",
      " ('Bay', [1]),\n",
      " ('Grace', [1]),\n",
      " ('Randolph', [1]),\n",
      " ('Ilana', [1]),\n",
      " ('Levy', [1]),\n",
      " ('Lazar', [1]),\n",
      " ('Pen', [1]),\n",
      " ('Sheba', [1]),\n",
      " ('Barr', [1]),\n",
      " ('Brynn', [1]),\n",
      " ('Jason', [1]),\n",
      " ('Dara', [1]),\n",
      " ('Osgood', [1]),\n",
      " ('Andy', [1]),\n",
      " ('Wilma', [1]),\n",
      " ('Kenny', [1]),\n",
      " ('Herbie', [1]),\n",
      " ('Euclid', [1]),\n",
      " ('Calli', [1]),\n",
      " ('Magna', [1]),\n",
      " ('Bonnie', [1]),\n",
      " ('Chane', [1]),\n",
      " ('Hally', [1]),\n",
      " ('Baird', [1]),\n",
      " ('Amity', [1]),\n",
      " ('Scotti', [1]),\n",
      " ('Claire', [1]),\n",
      " ('Dannie', [1]),\n",
      " ('Travis', [1]),\n",
      " ('Alyse', [1]),\n",
      " ('Buck', [1]),\n",
      " ('Maryjane', [1]),\n",
      " ('Mella', [1]),\n",
      " ('Lucinda', [1]),\n",
      " ('Mara', [1]),\n",
      " ('Jeremy', [1]),\n",
      " ('Lindy', [1]),\n",
      " ('Harrison', [1]),\n",
      " ('Miriam', [1]),\n",
      " ('Sherlock', [1]),\n",
      " ('Marit', [1]),\n",
      " ('Gillan', [1]),\n",
      " ('Rosario', [1]),\n",
      " ('Abdel', [1]),\n",
      " ('Flynn', [1]),\n",
      " ('Alfie', [1]),\n",
      " ('Bridget', [1]),\n",
      " ('Matias', [1]),\n",
      " ('Georges', [1]),\n",
      " ('Pippa', [1]),\n",
      " ('Hogan', [1]),\n",
      " ('Pietro', [1]),\n",
      " ('Leta', [1]),\n",
      " ('Cristi', [1]),\n",
      " ('Doro', [1]),\n",
      " ('Jorge', [1]),\n",
      " ('Brant', [1]),\n",
      " ('Clea', [1]),\n",
      " ('Kayle', [1]),\n",
      " ('Lev', [1]),\n",
      " ('Dawson', [1]),\n",
      " ('Salvatore', [1]),\n",
      " ('Darci', [1]),\n",
      " ('Morna', [1]),\n",
      " ('Corey', [1]),\n",
      " ('Clifford', [1]),\n",
      " ('Claudio', [1]),\n",
      " ('Ellen', [1]),\n",
      " ('Hadrian', [1]),\n",
      " ('Brena', [1]),\n",
      " ('Lindi', [1]),\n",
      " ('Archibald', [1]),\n",
      " ('Kaitlin', [1]),\n",
      " ('Kellie', [1]),\n",
      " ('Rosamond', [1]),\n",
      " ('Carmella', [1]),\n",
      " ('Eleni', [1]),\n",
      " ('Lela', [1]),\n",
      " ('Cayla', [1]),\n",
      " ('Timmie', [1]),\n",
      " ('Cory', [1]),\n",
      " ('Melitta', [1]),\n",
      " ('Bess', [1]),\n",
      " ('Mike', [1]),\n",
      " ('Perry', [1]),\n",
      " ('Cherry', [1]),\n",
      " ('Wilson', [1]),\n",
      " ('Alphonso', [1]),\n",
      " ('Tarrant', [1]),\n",
      " ('Clovis', [1]),\n",
      " ('Ainsley', [1]),\n",
      " ('Jaimie', [1]),\n",
      " ('Kally', [1]),\n",
      " ('Whitby', [1]),\n",
      " ('Winona', [1]),\n",
      " ('Elora', [1]),\n",
      " ('Tyrone', [1]),\n",
      " ('Arlee', [1]),\n",
      " ('Clarke', [1]),\n",
      " ('Leese', [1]),\n",
      " ('Leigh', [1]),\n",
      " ('Keri', [1]),\n",
      " ('Kelsey', [1]),\n",
      " ('Sheldon', [1]),\n",
      " ('Gaspar', [1]),\n",
      " ('Munroe', [1]),\n",
      " ('Rosalie', [1]),\n",
      " ('Lawson', [1]),\n",
      " ('Lilia', [1]),\n",
      " ('Vijay', [1]),\n",
      " ('Berni', [1]),\n",
      " ('Ender', [1]),\n",
      " ('Kiersten', [1]),\n",
      " ('Kelly', [1]),\n",
      " ('Fitz', [1]),\n",
      " ('Nessie', [1]),\n",
      " ('Edwin', [1]),\n",
      " ('Stefanie', [1]),\n",
      " ('Sadie', [1]),\n",
      " ('Stefano', [1]),\n",
      " ('Kennedy', [1]),\n",
      " ('Jerri', [1]),\n",
      " ('Hillary', [1]),\n",
      " ('Curtis', [1]),\n",
      " ('Shay', [1]),\n",
      " ('Fleur', [1]),\n",
      " ('Mitchell', [1]),\n",
      " ('Dede', [1]),\n",
      " ('Noni', [1]),\n",
      " ('Dwight', [1]),\n",
      " ('Hope', [1]),\n",
      " ('Sloane', [1]),\n",
      " ('Karoline', [1]),\n",
      " ('Shane', [1]),\n",
      " ('Ginnifer', [1]),\n",
      " ('Horace', [1]),\n",
      " ('Shelby', [1]),\n",
      " ('Orrin', [1]),\n",
      " ('Richard', [1]),\n",
      " ('Phaedra', [1]),\n",
      " ('Jojo', [1]),\n",
      " ('Suzanna', [1]),\n",
      " ('John-Patrick', [1]),\n",
      " ('Barton', [1]),\n",
      " ('Evie', [1]),\n",
      " ('Clary', [1]),\n",
      " ('Frederik', [1]),\n",
      " ('Renate', [1]),\n",
      " ('Nanette', [1]),\n",
      " ('Shandy', [1]),\n",
      " ('Bettina', [1]),\n",
      " ('Ichabod', [1]),\n",
      " ('Rowe', [1]),\n",
      " ('Harman', [1]),\n",
      " ('Len', [1]),\n",
      " ('Charleton', [1]),\n",
      " ('Renato', [1]),\n",
      " ('Abbie', [1]),\n",
      " ('Frederico', [1]),\n",
      " ('Fleming', [1]),\n",
      " ('Phillipe', [1]),\n",
      " ('Valli', [1]),\n",
      " ('Jeremias', [1]),\n",
      " ('Demetri', [1]),\n",
      " ('Frederica', [1]),\n",
      " ('Nollie', [1]),\n",
      " ('Jazmin', [1]),\n",
      " ('Pierce', [1]),\n",
      " ('Marjorie', [1]),\n",
      " ('Aharon', [1]),\n",
      " ('Dania', [1]),\n",
      " ('Godard', [1]),\n",
      " ('Axel', [1]),\n",
      " ('Cole', [1]),\n",
      " ('Roth', [1]),\n",
      " ('Dianna', [1]),\n",
      " ('Aylmer', [1]),\n",
      " ('Nero', [1]),\n",
      " ('Jeannette', [1]),\n",
      " ('Iggy', [1]),\n",
      " ('Hali', [1]),\n",
      " ('Alli', [1]),\n",
      " ('Cecil', [1]),\n",
      " ('Nena', [1]),\n",
      " ('Rand', [1]),\n",
      " ('Bing', [1]),\n",
      " ('Emmet', [1]),\n",
      " ('Rudie', [1]),\n",
      " ('Avis', [1]),\n",
      " ('Vernon', [1]),\n",
      " ('Eliot', [1]),\n",
      " ('Jean', [1]),\n",
      " ('Gillie', [1]),\n",
      " ('Tabby', [1]),\n",
      " ('Karen', [1]),\n",
      " ('Vale', [1]),\n",
      " ('Anatoly', [1]),\n",
      " ('Sawyer', [1]),\n",
      " ('Elsa', [1]),\n",
      " ('Tyrus', [1]),\n",
      " ('Tuesday', [1]),\n",
      " ('Lothar', [1]),\n",
      " ('Hazel', [1]),\n",
      " ('Felicia', [1]),\n",
      " ('Esmerelda', [1]),\n",
      " ('Ricardo', [1]),\n",
      " ('Viv', [1]),\n",
      " ('Gui', [1]),\n",
      " ('Lanna', [1]),\n",
      " ('Sherry', [1]),\n",
      " ('Hilary', [1]),\n",
      " ('Dita', [1]),\n",
      " ('Rusty', [1]),\n",
      " ('Mattias', [1]),\n",
      " ('Flossy', [1]),\n",
      " ('Ishmael', [1]),\n",
      " ('Dante', [1]),\n",
      " ('Stanton', [1]),\n",
      " ('Peggy', [1]),\n",
      " ('Philly', [1]),\n",
      " ('Titos', [1]),\n",
      " ('Constance', [1]),\n",
      " ('Layne', [1]),\n",
      " ('Codi', [1]),\n",
      " ('Nealon', [1]),\n",
      " ('Rey', [1]),\n",
      " ('Cleopatra', [1]),\n",
      " ('Rikki', [1]),\n",
      " ('Mattie', [1]),\n",
      " ('Nick', [1]),\n",
      " ('Creighton', [1]),\n",
      " ('Leia', [1]),\n",
      " ('Gustaf', [1]),\n",
      " ('Audre', [1]),\n",
      " ('Brian', [1]),\n",
      " ('Caro', [1]),\n",
      " ('Ronen', [1]),\n",
      " ('Rayner', [1]),\n",
      " ('Hestia', [1]),\n",
      " ('Francine', [1]),\n",
      " ('Adrianne', [1]),\n",
      " ('Cristy', [1]),\n",
      " ('Fairfax', [1]),\n",
      " ('Norman', [1]),\n",
      " ('Karin', [1]),\n",
      " ('Kerry', [1]),\n",
      " ('Redmond', [1]),\n",
      " ('Milton', [1]),\n",
      " ('Thalia', [1]),\n",
      " ('Ashley', [1]),\n",
      " ('Hetty', [1]),\n",
      " ('Pamela', [1]),\n",
      " ('Dugan', [1]),\n",
      " ('Lane', [1]),\n",
      " ('Maudie', [1]),\n",
      " ('Monika', [1]),\n",
      " ('Elle', [1]),\n",
      " ('Hart', [1]),\n",
      " ('Umberto', [1]),\n",
      " ('Sonny', [1]),\n",
      " ('Daniele', [1]),\n",
      " ('Birdie', [1]),\n",
      " ('Anais', [1]),\n",
      " ('Elvis', [1]),\n",
      " ('Shannen', [1]),\n",
      " ('Cyril', [1]),\n",
      " ('Lennie', [1]),\n",
      " ('Sheri', [1]),\n",
      " ('Rufus', [1]),\n",
      " ('Alyson', [1]),\n",
      " ('Jean-Christophe', [1]),\n",
      " ('Debby', [1]),\n",
      " ('Thain', [1]),\n",
      " ('Cindy', [1]),\n",
      " ('Dov', [1]),\n",
      " ('Lara', [1]),\n",
      " ('Irene', [1]),\n",
      " ('Luella', [1]),\n",
      " ('Elissa', [1]),\n",
      " ('Jean', [1]),\n",
      " ('Meade', [1]),\n",
      " ('Evelyn', [1]),\n",
      " ('Ericka', [1]),\n",
      " ('Elmore', [1]),\n",
      " ('Paula-Grace', [1]),\n",
      " ('Xavier', [1]),\n",
      " ('Hilbert', [1]),\n",
      " ('Mina', [1]),\n",
      " ('Hilton', [1]),\n",
      " ('Skelly', [1]),\n",
      " ('Syd', [1]),\n",
      " ('Carry', [1]),\n",
      " ('Kee', [1]),\n",
      " ('Margarita', [1]),\n",
      " ('Giffy', [1]),\n",
      " ('Hadley', [1]),\n",
      " ('Berenice', [1]),\n",
      " ('Romain', [1]),\n",
      " ('Hermann', [1]),\n",
      " ('Quill', [1]),\n",
      " ('Vincent', [1]),\n",
      " ('Elena', [1]),\n",
      " ('Rani', [1]),\n",
      " ('Derrek', [1]),\n",
      " ('Zora', [1]),\n",
      " ('Hermia', [1]),\n",
      " ('Tull', [1]),\n",
      " ('Carolin', [1]),\n",
      " ('Jacky', [1]),\n",
      " ('Nolan', [1]),\n",
      " ('Kori', [1]),\n",
      " ('Ibby', [1]),\n",
      " ('Cobby', [1]),\n",
      " ('Devan', [1]),\n",
      " ('Mic', [1]),\n",
      " ('Juliette', [1]),\n",
      " ('Bear', [1]),\n",
      " ('Eartha', [1]),\n",
      " ('Starr', [1]),\n",
      " ('Ursa', [1]),\n",
      " ('Lauren', [1]),\n",
      " ('Kore', [1]),\n",
      " ('Nicole', [1]),\n",
      " ('Aida', [1]),\n",
      " ('Randi', [1]),\n",
      " ('Camila', [1]),\n",
      " ('Karly', [1]),\n",
      " ('Tully', [1]),\n",
      " ('Tamera', [1]),\n",
      " ('Margery', [1]),\n",
      " ('Ev', [1]),\n",
      " ('Dorian', [1]),\n",
      " ('Ciara', [1]),\n",
      " ('Gustave', [1]),\n",
      " ('Sim', [1]),\n",
      " ('Grover', [1]),\n",
      " ('Sullivan', [1]),\n",
      " ('Maynard', [1]),\n",
      " ('Milena', [1]),\n",
      " ('Peter', [1]),\n",
      " ('Raphael', [1]),\n",
      " ('Blanch', [1]),\n",
      " ('Mimi', [1]),\n",
      " ('Hannah', [1]),\n",
      " ('Moshe', [1]),\n",
      " ('Rubin', [1]),\n",
      " ('Andrew', [1]),\n",
      " ('Manny', [1]),\n",
      " ('Anni', [1]),\n",
      " ('Lawerence', [1]),\n",
      " ('Nike', [1]),\n",
      " ('Edith', [1]),\n",
      " ('Moses', [1]),\n",
      " ('Arlo', [1]),\n",
      " ('Aubry', [1]),\n",
      " ('Rona', [1]),\n",
      " ('Eddie', [1]),\n",
      " ('Sunshine', [1]),\n",
      " ('Fred', [1]),\n",
      " ('Alexei', [1]),\n",
      " ('Tait', [1]),\n",
      " ('Clemens', [1]),\n",
      " ('Carmel', [1]),\n",
      " ('Llewellyn', [1]),\n",
      " ('Nady', [1]),\n",
      " ('Desmond', [1]),\n",
      " ('Camellia', [1]),\n",
      " ('Oral', [1]),\n",
      " ('Shepard', [1]),\n",
      " ('Lem', [1]),\n",
      " ('Shayne', [1]),\n",
      " ('Allen', [1]),\n",
      " ('Maxine', [1]),\n",
      " ('Betty', [1]),\n",
      " ('Roseann', [1]),\n",
      " ('Flint', [1]),\n",
      " ('Birgit', [1]),\n",
      " ('Gustav', [1]),\n",
      " ('Winnah', [1]),\n",
      " ('Hagen', [1]),\n",
      " ('Erna', [1]),\n",
      " ('Mose', [1]),\n",
      " ('Wyndham', [1]),\n",
      " ('Vaughn', [1]),\n",
      " ('Gary', [1]),\n",
      " ('Vail', [1]),\n",
      " ('Marcelle', [1]),\n",
      " ('Mildred', [1]),\n",
      " ('Crista', [1]),\n",
      " ('Devin', [1]),\n",
      " ('Joaquin', [1]),\n",
      " ('Camel', [1]),\n",
      " ('Jewell', [1]),\n",
      " ('Windham', [1]),\n",
      " ('Ray', [1]),\n",
      " ('Monte', [1]),\n",
      " ('Sayre', [1]),\n",
      " ('Millicent', [1]),\n",
      " ('Mira', [1]),\n",
      " ('Adams', [1]),\n",
      " ('Abelard', [1]),\n",
      " ('Urbano', [1]),\n",
      " ('Morton', [1]),\n",
      " ('Mariann', [1]),\n",
      " ('Edita', [1]),\n",
      " ('Lanni', [1]),\n",
      " ('Lex', [1]),\n",
      " ('Kirstin', [1]),\n",
      " ('Meara', [1]),\n",
      " ('Lani', [1]),\n",
      " ('Gabi', [1]),\n",
      " ('Mitch', [1]),\n",
      " ('Dean', [1]),\n",
      " ('Jewel', [1]),\n",
      " ('Mordecai', [1]),\n",
      " ('Cyb', [1]),\n",
      " ('Shepperd', [1]),\n",
      " ('June', [1]),\n",
      " ('Roslyn', [1]),\n",
      " ('Hermine', [1]),\n",
      " ('Alanah', [1]),\n",
      " ('Cari', [1]),\n",
      " ('Lyndsay', [1]),\n",
      " ('Hussein', [1]),\n",
      " ('Noland', [1]),\n",
      " ('Neale', [1]),\n",
      " ('Torre', [1]),\n",
      " ('Susan', [1]),\n",
      " ('Kinna', [1]),\n",
      " ('Ira', [1]),\n",
      " ('Terese', [1]),\n",
      " ('Bette-Ann', [1]),\n",
      " ('Viva', [1]),\n",
      " ('Johnnie', [1]),\n",
      " ('Scarlet', [1]),\n",
      " ('Palmer', [1]),\n",
      " ('Jeb', [1]),\n",
      " ('Rea', [1]),\n",
      " ('Spud', [1]),\n",
      " ('Valerie', [1]),\n",
      " ('Daniel', [1]),\n",
      " ('Tella', [1]),\n",
      " ('Damon', [1]),\n",
      " ('Rajeev', [1]),\n",
      " ('Caroline', [1]),\n",
      " ('Denys', [1]),\n",
      " ('Teena', [1]),\n",
      " ('Sayers', [1]),\n",
      " ('Katie', [1]),\n",
      " ('Barn', [1]),\n",
      " ('Judi', [1]),\n",
      " ('Deb', [1]),\n",
      " ('Malcolm', [1]),\n",
      " ('Trish', [1]),\n",
      " ('Koo', [1]),\n",
      " ('Mercy', [1]),\n",
      " ('Patrick', [1]),\n",
      " ('Benton', [1]),\n",
      " ('Brook', [1]),\n",
      " ('Langston', [1]),\n",
      " ('Oberon', [1]),\n",
      " ('Andrea', [1]),\n",
      " ('Flower', [1]),\n",
      " ('Laurance', [1]),\n",
      " ('Germaine', [1]),\n",
      " ('Barrie', [1]),\n",
      " ('Roz', [1]),\n",
      " ('Norton', [1]),\n",
      " ('Reta', [1]),\n",
      " ('Katherine', [1]),\n",
      " ('Bell', [1]),\n",
      " ('Torey', [1]),\n",
      " ('Moira', [1]),\n",
      " ('Jesus', [1]),\n",
      " ('Wade', [1]),\n",
      " ('Leon', [1]),\n",
      " ('Judy', [1]),\n",
      " ('Althea', [1]),\n",
      " ('Mitra', [1]),\n",
      " ('Kippy', [1]),\n",
      " ('Haydon', [1]),\n",
      " ('Lemuel', [1]),\n",
      " ('Matthew', [1]),\n",
      " ('Rutledge', [1]),\n",
      " ('Egbert', [1]),\n",
      " ('Bettie', [1]),\n",
      " ('Katherina', [1]),\n",
      " ('Fonzie', [1]),\n",
      " ('Lucina', [1]),\n",
      " ('Lotta', [1]),\n",
      " ('Allison', [1]),\n",
      " ('Simona', [1]),\n",
      " ('Zonda', [1]),\n",
      " ('Milo', [1]),\n",
      " ('Tyler', [1]),\n",
      " ('Roseanne', [1]),\n",
      " ('Gunther', [1]),\n",
      " ('Rutter', [1]),\n",
      " ('Filippa', [1]),\n",
      " ('Guillermo', [1]),\n",
      " ('Gasper', [1]),\n",
      " ('Nessa', [1]),\n",
      " ('Jeni', [1]),\n",
      " ('Marylou', [1]),\n",
      " ('Scott', [1]),\n",
      " ('Ebenezer', [1]),\n",
      " ('Eugen', [1]),\n",
      " ('Tally', [1]),\n",
      " ('Yule', [1]),\n",
      " ('Flossie', [1]),\n",
      " ('Dorris', [1]),\n",
      " ('Anna-Diane', [1]),\n",
      " ('Thelma', [1]),\n",
      " ('Preston', [1]),\n",
      " ('Guillaume', [1]),\n",
      " ('Maryjo', [1]),\n",
      " ('Dory', [1]),\n",
      " ('Nancy', [1]),\n",
      " ('Chrystal', [1]),\n",
      " ('Shirl', [1]),\n",
      " ('Cass', [1]),\n",
      " ('Cass', [1]),\n",
      " ('Eustace', [1]),\n",
      " ('Sarge', [1]),\n",
      " ('Schuyler', [1]),\n",
      " ('Salim', [1]),\n",
      " ('Hortense', [1]),\n",
      " ('Phoebe', [1]),\n",
      " ('Darrell', [1]),\n",
      " ('Cody', [1]),\n",
      " ('Torie', [1]),\n",
      " ('Jourdan', [1]),\n",
      " ('Brenda', [1]),\n",
      " ('Leticia', [1]),\n",
      " ('Brett', [1]),\n",
      " ('Sydney', [1]),\n",
      " ('Elsie', [1]),\n",
      " ('Sandy', [1]),\n",
      " ('Morry', [1]),\n",
      " ('Ilene', [1]),\n",
      " ('Mel', [1]),\n",
      " ('Theresa-Marie', [1]),\n",
      " ('Fey', [1]),\n",
      " ('Kenna', [1]),\n",
      " ('Della', [1]),\n",
      " ('Levon', [1]),\n",
      " ('Ari', [1]),\n",
      " ('Rubie', [1]),\n",
      " ('Uli', [1]),\n",
      " ('Donovan', [1]),\n",
      " ('Mikey', [1]),\n",
      " ('Camile', [1]),\n",
      " ('Errol', [1]),\n",
      " ('Pate', [1]),\n",
      " ('Shea', [1]),\n",
      " ('Celeste', [1]),\n",
      " ('Skipton', [1]),\n",
      " ('Kimmi', [1]),\n",
      " ('Leann', [1]),\n",
      " ('Steven', [1]),\n",
      " ('Shira', [1]),\n",
      " ('Bartholomew', [1]),\n",
      " ('Babette', [1]),\n",
      " ('Glyn', [1]),\n",
      " ('Gustavo', [1]),\n",
      " ('Oliver', [1]),\n",
      " ('Saw', [1]),\n",
      " ('Ora', [1]),\n",
      " ('Issi', [1]),\n",
      " ('Giordano', [1]),\n",
      " ('Hailee', [1]),\n",
      " ('Anne', [1]),\n",
      " ('Kevin', [1]),\n",
      " ('Shir', [1]),\n",
      " ('Johan', [1]),\n",
      " ('Dotti', [1]),\n",
      " ('Sue-elle', [1]),\n",
      " ('Hank', [1]),\n",
      " ('Dana', [1]),\n",
      " ('Rodina', [1]),\n",
      " ('Margi', [1]),\n",
      " ('Leopold', [1]),\n",
      " ('Kittie', [1]),\n",
      " ('Wainwright', [1]),\n",
      " ('Zalman', [1]),\n",
      " ('Elie', [1]),\n",
      " ('Dino', [1]),\n",
      " ('Iona', [1]),\n",
      " ('Emmi', [1]),\n",
      " ('Hal', [1]),\n",
      " ('Luis', [1]),\n",
      " ('La', [1]),\n",
      " ('Douglas', [1]),\n",
      " ('Abdul', [1]),\n",
      " ('Rodney', [1]),\n",
      " ('Allyson', [1]),\n",
      " ('Erl', [1]),\n",
      " ('Maxwell', [1]),\n",
      " ('Jerry', [1]),\n",
      " ('Lazare', [1]),\n",
      " ('Roosevelt', [1]),\n",
      " ('Flo', [1]),\n",
      " ('Florian', [1]),\n",
      " ('Vinnie', [1]),\n",
      " ('Pearce', [1]),\n",
      " ('Flinn', [1]),\n",
      " ('Zach', [1]),\n",
      " ('Arron', [1]),\n",
      " ('Adlai', [1]),\n",
      " ('Frans', [1]),\n",
      " ('Flipper', [1]),\n",
      " ('Junie', [1]),\n",
      " ('Don', [1]),\n",
      " ('Lottie', [1]),\n",
      " ('Fredric', [1]),\n",
      " ('Nat', [1]),\n",
      " ('James', [1]),\n",
      " ('Marve', [1]),\n",
      " ('Loren', [1]),\n",
      " ('Claire', [1]),\n",
      " ('Hamlin', [1]),\n",
      " ('Merill', [1]),\n",
      " ('Forest', [1]),\n",
      " ('Wallie', [1]),\n",
      " ('Philippa', [1]),\n",
      " ('Rog', [1]),\n",
      " ('Brana', [1]),\n",
      " ('Izzi', [1]),\n",
      " ('Nadine', [1]),\n",
      " ('Mathias', [1]),\n",
      " ('Quintana', [1]),\n",
      " ('Rebeca', [1]),\n",
      " ('Ignacio', [1]),\n",
      " ('Karena', [1]),\n",
      " ('Stanfield', [1]),\n",
      " ('Hyatt', [1]),\n",
      " ('Marissa', [1]),\n",
      " ('Alberto', [1]),\n",
      " ('George', [1]),\n",
      " ('Ann-Mari', [1]),\n",
      " ('Tallie', [1]),\n",
      " ('Wit', [1]),\n",
      " ('Putnam', [1]),\n",
      " ('Wilber', [1]),\n",
      " ('Taryn', [1]),\n",
      " ('Rutger', [1]),\n",
      " ('Renee', [1]),\n",
      " ('Petrina', [1]),\n",
      " ('Eden', [1]),\n",
      " ('Geneva', [1]),\n",
      " ('Muhammad', [1]),\n",
      " ('Silvano', [1]),\n",
      " ('Barty', [1]),\n",
      " ('Cam', [1]),\n",
      " ('Paige', [1]),\n",
      " ('Kaylee', [1]),\n",
      " ('Abram', [1]),\n",
      " ('Dabney', [1]),\n",
      " ('Corliss', [1]),\n",
      " ('Stig', [1]),\n",
      " ('Nevin', [1]),\n",
      " ('Clara', [1]),\n",
      " ('Laurie', [1]),\n",
      " ('Cherish', [1]),\n",
      " ('Opaline', [1]),\n",
      " ('Adrian', [1]),\n",
      " ('Wayland', [1]),\n",
      " ('Nikita', [1]),\n",
      " ('Alley', [1]),\n",
      " ('Fiona', [1]),\n",
      " ('Viole', [1]),\n",
      " ('Edgardo', [1]),\n",
      " ('Garth', [1]),\n",
      " ('Euphemia', [1]),\n",
      " ('Marcy', [1]),\n",
      " ('Herb', [1]),\n",
      " ('Ritchie', [1]),\n",
      " ('Billie', [1]),\n",
      " ('Royce', [1]),\n",
      " ('Niels', [1]),\n",
      " ('Ham', [1]),\n",
      " ('Gina', [1]),\n",
      " ('Stormy', [1]),\n",
      " ('Jeniffer', [1]),\n",
      " ('Brooke', [1]),\n",
      " ('Leesa', [1]),\n",
      " ('Davy', [1]),\n",
      " ('Hana', [1]),\n",
      " ('Chevy', [1]),\n",
      " ('Beau', [1]),\n",
      " ('Sena', [1]),\n",
      " ('Liam', [1]),\n",
      " ('Doyle', [1]),\n",
      " ('Fina', [1]),\n",
      " ('Verena', [1]),\n",
      " ('Wendel', [1]),\n",
      " ('Robina', [1]),\n",
      " ('Adam', [1]),\n",
      " ('Claudia', [1]),\n",
      " ('Rhona', [1])]\n"
     ]
    }
   ],
   "source": [
    "predictions = []\n",
    "\n",
    "for x_batch, _ in val_dataloader:\n",
    "    p_batch = infer_batch(f, x_batch, device).cpu().numpy().tolist()\n",
    "    predictions.extend(p_batch)\n",
    "    \n",
    "from pprint import pprint\n",
    "pprint(list(zip(names_val, predictions)))"
   ]
  },
  {
   "cell_type": "markdown",
   "metadata": {},
   "source": [
    "Very convincing! What are these word vectors and how are they helping our network predict baby genders?  🤔\n",
    "\n",
    "Do the first assignment and find out!"
   ]
  },
  {
   "cell_type": "markdown",
   "metadata": {},
   "source": [
    "---"
   ]
  }
 ],
 "metadata": {
  "kernelspec": {
   "display_name": "Python 3",
   "language": "python",
   "name": "python3"
  },
  "language_info": {
   "codemirror_mode": {
    "name": "ipython",
    "version": 3
   },
   "file_extension": ".py",
   "mimetype": "text/x-python",
   "name": "python",
   "nbconvert_exporter": "python",
   "pygments_lexer": "ipython3",
   "version": "3.8.3"
  }
 },
 "nbformat": 4,
 "nbformat_minor": 2
}
