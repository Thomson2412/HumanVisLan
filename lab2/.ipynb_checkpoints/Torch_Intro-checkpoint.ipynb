{
 "cells": [
  {
   "cell_type": "markdown",
   "metadata": {},
   "source": [
    "# 🔥 Torch Intro 🔥\n",
    "\n",
    "## What is PyTorch?\n",
    "PyTorch (or just torch) is a python deep learning library, by now getting widely adopted both in research and industry. Like most deep learning libraries it employs GPU accelaration; unlike most deep learning libraries, it supports dynamic computational graphs and deep python integration, enabling easy experimentation and code inspection. It provides high-level abstractions but also allows for low-level access to its primitives. You can read more about PyTorch at the official [site](https://pytorch.org/).\n",
    "\n",
    "## Installing PyTorch on your machine\n",
    "Install PyTorch by following the guidelines here [here](https://pytorch.org/get-started/locally/).\n",
    "\n",
    "<div class=\"alert alert-block alert-info\">\n",
    "<b>Note:</b> If you have an nVidia GPU, installing a CUDA version of PyTorch will allow you to utilize it, significantly speeding up computation.\n",
    "</div>\n",
    "\n",
    "# This Tutorial\n",
    "This tutorial will take you through PyTorch's main functionalities. It only aims to give you some insight on how to use PyTorch and is by no means a full tutorial on neural networks. Prior knowledge of neural netowrks and their inner workings (i.e. linear algebra, gradient-based optimization, back-propagation, etc.) will certainly prove useful. You are assumed to be largely fluent in python.\n",
    "\n",
    "# Table of Contents\n",
    "1. [Tensors](#1)\n",
    "    1. [Tensor Types](#1a)\n",
    "    2. [Instantiating Tensors](#1b)\n",
    "    3. [Basic Tensor Operations](#1c)\n",
    "    4. [Exercises](#1d)\n",
    "2. [Automatic Differentation](#2)\n",
    "    1. [Autograd](#2a)\n",
    "    2. [Exercises](#2b)\n",
    "3. [Neural Networks](#3)\n",
    "    1. [Custom Neural Networks](#3a)\n",
    "    2. [Loss Functions](#3b)\n",
    "    3. [Optimizers](#3c)\n",
    "    4. [Exercises](#3d)\n",
    "4. [Putting Everything Together](#4)\n",
    "\n",
    "\n",
    "For a more in-depth overview of PyTorch's capabilities, refer to the [official documentation](https://pytorch.org/docs/stable/index.html) (this link will prove handy for your assignments-- keep it close and use it often).\n",
    "\n",
    "---"
   ]
  },
  {
   "cell_type": "markdown",
   "metadata": {},
   "source": [
    "#### Getting started\n",
    "Let's verify your torch installation is working by trying to import it."
   ]
  },
  {
   "cell_type": "code",
   "execution_count": 1,
   "metadata": {},
   "outputs": [],
   "source": [
    "import torch"
   ]
  },
  {
   "cell_type": "markdown",
   "metadata": {},
   "source": [
    "<a id='1'></a>\n",
    "## 1. Tensors\n",
    "\n",
    "A [Tensor](https://pytorch.org/docs/stable/tensors.html) is the building block of any PyTorch program; it is the abstraction that stores n-ary arrays of numbers (i.e. tensors) and provides various functionalities for processing them. \n",
    "\n",
    "<a id='1a'></a>\n",
    "### A. Tensor Types\n",
    "\n",
    "There are 16 types of Tensors, distinguished by their `dtypes` (the sort of numbers stored within them) and the `device` they can be accessed by (either GPU or CPU).\n",
    "\n",
    "The different Tensor types and their corresponding classes are shown below:\n",
    "\n",
    "|  | dtype | CPU Tensor Class | GPU Tensor Class |\n",
    "| --- | --- | --- | --- |\n",
    "| Full precision float | `torch.float32` | `torch.FloatTensor` | `torch.cuda.FloatTensor`| \n",
    "| Half precision float | `torch.float16` | `torch.HalfTensor` | `torch.cuda.HalfTensor` |\n",
    "| Double precision float | `torch.float64` | `torch.DoubleTensor` | `torch.cuda.DoubleTensor` |\n",
    "| 8-bit unsigned integer | `torch.uint8` | `torch.ByteTensor` | `torch.cuda.ByteTensor` |\n",
    "| 8-bit signed integer | `torch.int8` | `torch.CharTensor` | `torch.CharTensor` |\n",
    "| 16-bit signed integer | `torch.int16` | `torch.ShortTensor` | `torch.cuda.ShortTensor` |\n",
    "| 32-bit signed integer | `torch.int32` | `torch.IntTensor` | `torch.cuda.IntTensor` |\n",
    "| 64-bit signed integer | `torch.int64` | `torch.LongTensor` | `torch.cuda.LongTensor` |\n",
    "\n",
    "<div class=\"alert alert-block alert-warning\">\n",
    "<b>Warning:</b>\n",
    "Interaction between Tensors of different devices or dtypes is not permitted (so make sure you are consistent). \n",
    "</div>\n",
    "\n",
    "We are mostly interested in full precision floats and long integers (on either device), so we can forget about the rest of them for now."
   ]
  },
  {
   "cell_type": "markdown",
   "metadata": {},
   "source": [
    "<a id='1b'></a>\n",
    "### B. Instantiating Tensors\n",
    "Tensors can be instantiated in a number of ways. When we want to construct a placeholder tensor of fixed dimensionality, we may simply call the appropriate class constructor."
   ]
  },
  {
   "cell_type": "code",
   "execution_count": 2,
   "metadata": {},
   "outputs": [],
   "source": [
    "my_first_long_tensor = torch.LongTensor(5)  # a vector of 5 longs\n",
    "my_first_float_tensor = torch.FloatTensor(5,5)  # a 5 by 5 matrix of floats"
   ]
  },
  {
   "cell_type": "markdown",
   "metadata": {},
   "source": [
    "Alternatively, we may use the abstract constructor `torch.tensor` and use the `dtype` and `device` arguments to specify its type (these default to torch.float and cpu, in the general case)."
   ]
  },
  {
   "cell_type": "code",
   "execution_count": 3,
   "metadata": {},
   "outputs": [],
   "source": [
    "my_second_long_tensor = torch.tensor(5, device='cpu', dtype=torch.long) # another vector of 5 longs\n",
    "my_second_float_tensor = torch.tensor((5, 5), device='cpu', dtype=torch.float)"
   ]
  },
  {
   "cell_type": "markdown",
   "metadata": {},
   "source": [
    "For the sake of convenience, we will now specify the device used by the rest of the tutorial. If you have the cuda version installed but would rather not use it, change the snippet below."
   ]
  },
  {
   "cell_type": "code",
   "execution_count": 3,
   "metadata": {},
   "outputs": [
    {
     "name": "stdout",
     "output_type": "stream",
     "text": [
      "Using cuda\n"
     ]
    }
   ],
   "source": [
    "if torch.cuda.is_available():\n",
    "    device = 'cuda'\n",
    "else:\n",
    "    device = 'cpu'\n",
    "\n",
    "print('Using {}'.format(device))"
   ]
  },
  {
   "cell_type": "markdown",
   "metadata": {},
   "source": [
    "There are a few useful short-hands for constructing tensors with commonly used values. Let's use some of them."
   ]
  },
  {
   "cell_type": "code",
   "execution_count": 5,
   "metadata": {},
   "outputs": [],
   "source": [
    "a = torch.zeros((2,3,4), device=device)  # a 2 by 3 by 4 tensor of zeroes\n",
    "b = torch.ones(42, device=device)  # a vector of 42 ones\n",
    "c = torch.eye(3, device=device)  # the 3 by 3 identity matrix\n",
    "d = torch.rand((32,10,300), device=device)  # a 32 by 10 by 300 tensor of randoms\n",
    "e = torch.randint(low=0, high=10, size=(3,3), device=device)  # a 3 by 3 matrix of random integers between 0 and 10\n",
    "f = torch.arange(10, device=device)  # a vector containing the numbers 0 to 9 in ascending order"
   ]
  },
  {
   "cell_type": "markdown",
   "metadata": {},
   "source": [
    "We can always query a tensor's contents, shape, dtype and device."
   ]
  },
  {
   "cell_type": "code",
   "execution_count": 6,
   "metadata": {},
   "outputs": [
    {
     "name": "stdout",
     "output_type": "stream",
     "text": [
      "torch.Size([2, 3, 4])\n",
      "cuda:0\n",
      "\n",
      "\n",
      "torch.Size([42])\n",
      "cuda:0\n",
      "\n",
      "\n",
      "torch.Size([3, 3])\n",
      "cuda:0\n",
      "\n",
      "\n",
      "torch.Size([32, 10, 300])\n",
      "cuda:0\n",
      "\n",
      "\n",
      "torch.Size([3, 3])\n",
      "cuda:0\n",
      "\n",
      "\n",
      "torch.Size([10])\n",
      "cuda:0\n",
      "\n",
      "\n"
     ]
    }
   ],
   "source": [
    "for te in [a, b, c, d, e, f]:\n",
    "    print(te.shape)\n",
    "    print(te.device)\n",
    "    # print(te)\n",
    "    print('\\n')"
   ]
  },
  {
   "cell_type": "markdown",
   "metadata": {},
   "source": [
    "We can also specify the values of a tensor by passing a list (of lists*) of values during its construction."
   ]
  },
  {
   "cell_type": "code",
   "execution_count": 7,
   "metadata": {},
   "outputs": [
    {
     "name": "stdout",
     "output_type": "stream",
     "text": [
      "tensor([[1, 2, 3],\n",
      "        [4, 5, 6],\n",
      "        [7, 8, 9]], device='cuda:0')\n",
      "torch.Size([3, 3])\n",
      "torch.int64\n"
     ]
    }
   ],
   "source": [
    "a = torch.tensor([[1,2,3], [4,5,6], [7,8,9]], device=device)\n",
    "print(a)\n",
    "print(a.shape)\n",
    "print(a.dtype)"
   ]
  },
  {
   "cell_type": "markdown",
   "metadata": {},
   "source": [
    "Notice that PyTorch automatically assumed that the tensor we specified should be of type long (because we only provided integers as the tensor's contents). We could of course avoid this by manually specifying the dtype. Alternatively, we can alter the dtype and/or device post-construction."
   ]
  },
  {
   "cell_type": "code",
   "execution_count": 8,
   "metadata": {},
   "outputs": [
    {
     "name": "stdout",
     "output_type": "stream",
     "text": [
      "torch.float32\n",
      "cpu\n"
     ]
    }
   ],
   "source": [
    "a = a.to(torch.float)\n",
    "print(a.dtype)\n",
    "a = a.to('cpu')  # or alternatively, a = a.cpu()\n",
    "print(a.device)"
   ]
  },
  {
   "cell_type": "markdown",
   "metadata": {},
   "source": [
    "Finally, a torch tensor can also be directy constructed by (or converted to) a numpy array. Converting to a numpy array only works for _cpu_ tensors."
   ]
  },
  {
   "cell_type": "code",
   "execution_count": 9,
   "metadata": {},
   "outputs": [
    {
     "name": "stdout",
     "output_type": "stream",
     "text": [
      "[[0.99586459 0.07941193]\n",
      " [0.10422223 0.31771432]]\n",
      "tensor([[0.9959, 0.0794],\n",
      "        [0.1042, 0.3177]], device='cuda:0', dtype=torch.float64)\n",
      "[[0.99586459 0.07941193]\n",
      " [0.10422223 0.31771432]]\n"
     ]
    }
   ],
   "source": [
    "import numpy as np\n",
    "a_np = np.random.random((2,2))\n",
    "a_torch = torch.tensor(a_np, device=device)\n",
    "print(a_np)\n",
    "print(a_torch)\n",
    "a_np_2 = a_torch.cpu().numpy()\n",
    "print(a_np_2)"
   ]
  },
  {
   "cell_type": "code",
   "execution_count": 10,
   "metadata": {},
   "outputs": [],
   "source": [
    "del a_np, a_torch, a_np_2, b, c, d, my_first_long_tensor, my_first_float_tensor, my_second_long_tensor, my_second_float_tensor, e, f"
   ]
  },
  {
   "cell_type": "markdown",
   "metadata": {},
   "source": [
    "<a id='1c'></a>\n",
    "### C. Basic Tensor Operations\n",
    "Tensors and their contents' are not hidden by the framework-- they are immediatelly accessible to us and we can interact with them in many ways, while being able to inspect the results of our actions. Let's walk through some of the most common usecases."
   ]
  },
  {
   "cell_type": "markdown",
   "metadata": {},
   "source": [
    "#### Indexing and Slicing\n",
    "Standard python indexing and slicing applies to torch tensors. Let's remember how that works-- first we will need a random matrix to experiment with."
   ]
  },
  {
   "cell_type": "code",
   "execution_count": 110,
   "metadata": {},
   "outputs": [
    {
     "name": "stdout",
     "output_type": "stream",
     "text": [
      "tensor([[7.1651e-01, 6.2365e-04, 9.9171e-01],\n",
      "        [2.4405e-01, 3.9190e-01, 4.9812e-01],\n",
      "        [8.9944e-01, 7.3905e-01, 2.9933e-01],\n",
      "        [5.8509e-01, 4.1313e-02, 5.9364e-02],\n",
      "        [2.4917e-01, 7.9703e-01, 3.9457e-01]], device='cuda:0')\n"
     ]
    }
   ],
   "source": [
    "a = torch.rand((5,3), device=device)  \n",
    "print(a)"
   ]
  },
  {
   "cell_type": "markdown",
   "metadata": {},
   "source": [
    "<div class=\"alert alert-block alert-warning\">\n",
    "<b>Remember!</b>\n",
    "Indexing starts from zero\n",
    "</div>\n",
    "\n",
    "Now let's try retrieving the 3rd item of the 1st row."
   ]
  },
  {
   "cell_type": "code",
   "execution_count": 12,
   "metadata": {},
   "outputs": [
    {
     "name": "stdout",
     "output_type": "stream",
     "text": [
      "tensor(0.8602, device='cuda:0')\n"
     ]
    }
   ],
   "source": [
    "b = a[0][2]\n",
    "print(b)"
   ]
  },
  {
   "cell_type": "markdown",
   "metadata": {},
   "source": [
    "What if we wanted the first three rows of the matrix instead?"
   ]
  },
  {
   "cell_type": "code",
   "execution_count": 131,
   "metadata": {},
   "outputs": [
    {
     "name": "stdout",
     "output_type": "stream",
     "text": [
      "tensor([[7.1651e-01, 6.2365e-04, 9.9171e-01],\n",
      "        [2.4405e-01, 3.9190e-01, 4.9812e-01],\n",
      "        [8.9944e-01, 7.3905e-01, 2.9933e-01]], device='cuda:0')\n"
     ]
    }
   ],
   "source": [
    "c = a[:3]\n",
    "print(c)"
   ]
  },
  {
   "cell_type": "markdown",
   "metadata": {},
   "source": [
    "Or its third column?"
   ]
  },
  {
   "cell_type": "code",
   "execution_count": 14,
   "metadata": {},
   "outputs": [
    {
     "name": "stdout",
     "output_type": "stream",
     "text": [
      "tensor([0.8602, 0.1415, 0.7173, 0.4353, 0.6606], device='cuda:0')\n"
     ]
    }
   ],
   "source": [
    "c = a[:, 2]\n",
    "print(c)"
   ]
  },
  {
   "cell_type": "markdown",
   "metadata": {},
   "source": [
    "Or every second element of the first column, starting from the second?"
   ]
  },
  {
   "cell_type": "code",
   "execution_count": 15,
   "metadata": {},
   "outputs": [
    {
     "name": "stdout",
     "output_type": "stream",
     "text": [
      "tensor([0.1249, 0.7134], device='cuda:0')\n"
     ]
    }
   ],
   "source": [
    "c = a[1::2, 0]\n",
    "print(c)"
   ]
  },
  {
   "cell_type": "markdown",
   "metadata": {},
   "source": [
    "But now in reverse, starting from the last?!"
   ]
  },
  {
   "cell_type": "code",
   "execution_count": 16,
   "metadata": {},
   "outputs": [
    {
     "ename": "ValueError",
     "evalue": "step must be greater than zero",
     "output_type": "error",
     "traceback": [
      "\u001b[0;31m---------------------------------------------------------------------------\u001b[0m",
      "\u001b[0;31mValueError\u001b[0m                                Traceback (most recent call last)",
      "\u001b[0;32m<ipython-input-16-750cb89b0dfc>\u001b[0m in \u001b[0;36m<module>\u001b[0;34m\u001b[0m\n\u001b[0;32m----> 1\u001b[0;31m \u001b[0mc\u001b[0m \u001b[0;34m=\u001b[0m \u001b[0ma\u001b[0m\u001b[0;34m[\u001b[0m\u001b[0;34m-\u001b[0m\u001b[0;36m1\u001b[0m\u001b[0;34m:\u001b[0m\u001b[0;34m:\u001b[0m\u001b[0;34m-\u001b[0m\u001b[0;36m2\u001b[0m\u001b[0;34m,\u001b[0m \u001b[0;36m0\u001b[0m\u001b[0;34m]\u001b[0m\u001b[0;34m\u001b[0m\u001b[0;34m\u001b[0m\u001b[0m\n\u001b[0m\u001b[1;32m      2\u001b[0m \u001b[0mprint\u001b[0m\u001b[0;34m(\u001b[0m\u001b[0mc\u001b[0m\u001b[0;34m)\u001b[0m\u001b[0;34m\u001b[0m\u001b[0;34m\u001b[0m\u001b[0m\n",
      "\u001b[0;31mValueError\u001b[0m: step must be greater than zero"
     ]
    }
   ],
   "source": [
    "c = a[-1::-2, 0]\n",
    "print(c)"
   ]
  },
  {
   "cell_type": "markdown",
   "metadata": {},
   "source": [
    "Well, perhaps not.."
   ]
  },
  {
   "cell_type": "markdown",
   "metadata": {},
   "source": [
    "#### Value Assignment\n",
    "We can use the exact same scheme to assign values to tensors."
   ]
  },
  {
   "cell_type": "code",
   "execution_count": 17,
   "metadata": {},
   "outputs": [
    {
     "name": "stdout",
     "output_type": "stream",
     "text": [
      "tensor([[0.0000, 0.5347, 0.8602],\n",
      "        [0.1249, 0.5938, 0.1415],\n",
      "        [0.0291, 0.3970, 0.7173],\n",
      "        [0.7134, 0.8620, 0.4353],\n",
      "        [0.3186, 0.0885, 0.6606]], device='cuda:0')\n",
      "tensor([[0.1373, 0.2419, 0.1735],\n",
      "        [0.4844, 0.5630, 0.7471],\n",
      "        [0.8730, 0.6858, 0.8542],\n",
      "        [0.5588, 0.0533, 0.5826],\n",
      "        [0.8036, 0.1391, 0.3961]], device='cuda:0')\n",
      "tensor([[0.0000, 0.5347, 0.8602],\n",
      "        [0.8730, 0.6858, 0.8542],\n",
      "        [0.0291, 0.3970, 0.7173],\n",
      "        [0.7134, 0.8620, 0.4353],\n",
      "        [0.3186, 0.0885, 0.6606]], device='cuda:0')\n"
     ]
    }
   ],
   "source": [
    "# Set the top left item of the matrix to zero.\n",
    "a[0,0] = 0\n",
    "print(a)\n",
    "\n",
    "# Construct another random matrix of the same shape\n",
    "b = torch.rand_like(a, device=device)\n",
    "print(b)\n",
    "\n",
    "# Set the second row of matrix a to be the third row of matrix b\n",
    "a[1] = b[2]\n",
    "print(a)"
   ]
  },
  {
   "cell_type": "markdown",
   "metadata": {},
   "source": [
    "#### Element-wise Arithmetic\n",
    "Element-wise operations (most importantly comparison, addition, subtraction, multiplication and division) can be applied on tensors of compatible shapes (i.e. shapes that can be [broadcasted](https://pytorch.org/docs/stable/notes/broadcasting.html)). \n",
    "\n",
    "Two tensors are compatible if any of the two below conditions hold:\n",
    "* their shapes are the same \n",
    "* their trailing (i.e. last) N dimensions are the same (possibly excluding missing dimensions and dimensions of size 1)\n",
    "\n",
    "Scalars (single values) are compatible with tensors of any shape. Let's see some examples."
   ]
  },
  {
   "cell_type": "markdown",
   "metadata": {},
   "source": [
    "First, some fresh tensors."
   ]
  },
  {
   "cell_type": "code",
   "execution_count": 18,
   "metadata": {},
   "outputs": [],
   "source": [
    "a = torch.zeros((2, 3, 4), device=device)  \n",
    "b = torch.ones((2, 3, 4), device=device)  \n",
    "c = torch.ones((3, 4), device=device)  \n",
    "d = torch.ones((2, 3, 1), device=device)\n",
    "e = torch.rand((4, 3, 2), device=device)"
   ]
  },
  {
   "cell_type": "markdown",
   "metadata": {},
   "source": [
    "We can add a scalar to tensor a "
   ]
  },
  {
   "cell_type": "code",
   "execution_count": 19,
   "metadata": {},
   "outputs": [
    {
     "name": "stdout",
     "output_type": "stream",
     "text": [
      "torch.Size([2, 3, 4])\n"
     ]
    }
   ],
   "source": [
    "a = a + 0.3\n",
    "print(a.shape)"
   ]
  },
  {
   "cell_type": "markdown",
   "metadata": {},
   "source": [
    "We can subtract b from a  (matching shapes)"
   ]
  },
  {
   "cell_type": "code",
   "execution_count": 20,
   "metadata": {},
   "outputs": [
    {
     "name": "stdout",
     "output_type": "stream",
     "text": [
      "torch.Size([2, 3, 4])\n"
     ]
    }
   ],
   "source": [
    "f = a - b\n",
    "print(f.shape)"
   ]
  },
  {
   "cell_type": "markdown",
   "metadata": {},
   "source": [
    "We can elementwise multiply a with c  (dimensions of c are the same as last dimensions of a)"
   ]
  },
  {
   "cell_type": "code",
   "execution_count": 21,
   "metadata": {},
   "outputs": [
    {
     "name": "stdout",
     "output_type": "stream",
     "text": [
      "torch.Size([2, 3, 4])\n"
     ]
    }
   ],
   "source": [
    "g =  a * c\n",
    "print(g.shape)"
   ]
  },
  {
   "cell_type": "markdown",
   "metadata": {},
   "source": [
    "We can elementwise divide a by d  (last dimension is 1, the rest of the dimensions match)"
   ]
  },
  {
   "cell_type": "code",
   "execution_count": 22,
   "metadata": {},
   "outputs": [
    {
     "name": "stdout",
     "output_type": "stream",
     "text": [
      "torch.Size([2, 3, 4])\n"
     ]
    }
   ],
   "source": [
    "h = a / d\n",
    "print(h.shape)"
   ]
  },
  {
   "cell_type": "markdown",
   "metadata": {},
   "source": [
    "We can elementwise raise a to d  (last dimension of d is 1, the rest of the dimensions match)"
   ]
  },
  {
   "cell_type": "code",
   "execution_count": 23,
   "metadata": {},
   "outputs": [
    {
     "name": "stdout",
     "output_type": "stream",
     "text": [
      "torch.Size([2, 3, 4])\n"
     ]
    }
   ],
   "source": [
    "i = a**d\n",
    "print(i.shape)"
   ]
  },
  {
   "cell_type": "markdown",
   "metadata": {},
   "source": [
    "And we can compare a with any of f, g, h"
   ]
  },
  {
   "cell_type": "code",
   "execution_count": 24,
   "metadata": {},
   "outputs": [
    {
     "name": "stdout",
     "output_type": "stream",
     "text": [
      "torch.Size([2, 3, 4])\n"
     ]
    }
   ],
   "source": [
    "j = a == f\n",
    "print(j.shape)"
   ]
  },
  {
   "cell_type": "markdown",
   "metadata": {},
   "source": [
    ".. but torch complains when we try to do that with e (shapes are incompatible)"
   ]
  },
  {
   "cell_type": "code",
   "execution_count": 25,
   "metadata": {},
   "outputs": [
    {
     "ename": "RuntimeError",
     "evalue": "The size of tensor a (2) must match the size of tensor b (4) at non-singleton dimension 2",
     "output_type": "error",
     "traceback": [
      "\u001b[0;31m---------------------------------------------------------------------------\u001b[0m",
      "\u001b[0;31mRuntimeError\u001b[0m                              Traceback (most recent call last)",
      "\u001b[0;32m<ipython-input-25-a2c3e750b318>\u001b[0m in \u001b[0;36m<module>\u001b[0;34m\u001b[0m\n\u001b[0;32m----> 1\u001b[0;31m \u001b[0me\u001b[0m \u001b[0;34m==\u001b[0m \u001b[0ma\u001b[0m\u001b[0;34m\u001b[0m\u001b[0;34m\u001b[0m\u001b[0m\n\u001b[0m",
      "\u001b[0;32m~/anaconda3/lib/python3.8/site-packages/torch/tensor.py\u001b[0m in \u001b[0;36mwrapped\u001b[0;34m(*args, **kwargs)\u001b[0m\n\u001b[1;32m     20\u001b[0m     \u001b[0;32mdef\u001b[0m \u001b[0mwrapped\u001b[0m\u001b[0;34m(\u001b[0m\u001b[0;34m*\u001b[0m\u001b[0margs\u001b[0m\u001b[0;34m,\u001b[0m \u001b[0;34m**\u001b[0m\u001b[0mkwargs\u001b[0m\u001b[0;34m)\u001b[0m\u001b[0;34m:\u001b[0m\u001b[0;34m\u001b[0m\u001b[0;34m\u001b[0m\u001b[0m\n\u001b[1;32m     21\u001b[0m         \u001b[0;32mtry\u001b[0m\u001b[0;34m:\u001b[0m\u001b[0;34m\u001b[0m\u001b[0;34m\u001b[0m\u001b[0m\n\u001b[0;32m---> 22\u001b[0;31m             \u001b[0;32mreturn\u001b[0m \u001b[0mf\u001b[0m\u001b[0;34m(\u001b[0m\u001b[0;34m*\u001b[0m\u001b[0margs\u001b[0m\u001b[0;34m,\u001b[0m \u001b[0;34m**\u001b[0m\u001b[0mkwargs\u001b[0m\u001b[0;34m)\u001b[0m\u001b[0;34m\u001b[0m\u001b[0;34m\u001b[0m\u001b[0m\n\u001b[0m\u001b[1;32m     23\u001b[0m         \u001b[0;32mexcept\u001b[0m \u001b[0mTypeError\u001b[0m\u001b[0;34m:\u001b[0m\u001b[0;34m\u001b[0m\u001b[0;34m\u001b[0m\u001b[0m\n\u001b[1;32m     24\u001b[0m             \u001b[0;32mreturn\u001b[0m \u001b[0mNotImplemented\u001b[0m\u001b[0;34m\u001b[0m\u001b[0;34m\u001b[0m\u001b[0m\n",
      "\u001b[0;31mRuntimeError\u001b[0m: The size of tensor a (2) must match the size of tensor b (4) at non-singleton dimension 2"
     ]
    }
   ],
   "source": [
    "e == a"
   ]
  },
  {
   "cell_type": "code",
   "execution_count": 132,
   "metadata": {},
   "outputs": [
    {
     "ename": "NameError",
     "evalue": "name 'b' is not defined",
     "output_type": "error",
     "traceback": [
      "\u001b[0;31m---------------------------------------------------------------------------\u001b[0m",
      "\u001b[0;31mNameError\u001b[0m                                 Traceback (most recent call last)",
      "\u001b[0;32m<ipython-input-132-6bc90f7a934f>\u001b[0m in \u001b[0;36m<module>\u001b[0;34m\u001b[0m\n\u001b[0;32m----> 1\u001b[0;31m \u001b[0;32mdel\u001b[0m \u001b[0ma\u001b[0m\u001b[0;34m,\u001b[0m \u001b[0mb\u001b[0m\u001b[0;34m,\u001b[0m \u001b[0mc\u001b[0m\u001b[0;34m,\u001b[0m \u001b[0md\u001b[0m\u001b[0;34m,\u001b[0m \u001b[0me\u001b[0m\u001b[0;34m,\u001b[0m \u001b[0mf\u001b[0m\u001b[0;34m,\u001b[0m \u001b[0mg\u001b[0m\u001b[0;34m,\u001b[0m \u001b[0mh\u001b[0m\u001b[0;34m,\u001b[0m \u001b[0mi\u001b[0m\u001b[0;34m,\u001b[0m \u001b[0mj\u001b[0m\u001b[0;34m\u001b[0m\u001b[0;34m\u001b[0m\u001b[0m\n\u001b[0m",
      "\u001b[0;31mNameError\u001b[0m: name 'b' is not defined"
     ]
    }
   ],
   "source": [
    "del a, b, c, d, e, f, g, h, i, j"
   ]
  },
  {
   "cell_type": "markdown",
   "metadata": {},
   "source": [
    "If in doubt for what any of the element-wise operators actually do, try them out below on some tensors of your own making."
   ]
  },
  {
   "cell_type": "code",
   "execution_count": null,
   "metadata": {},
   "outputs": [],
   "source": []
  },
  {
   "cell_type": "markdown",
   "metadata": {},
   "source": [
    "#### Linear Algebra\n",
    "Tensor algebra of course goes well beyond elementwise operations- matrix multiplication is the bread and butter of machine learning, so we better get familiar with how torch does it."
   ]
  },
  {
   "cell_type": "markdown",
   "metadata": {},
   "source": [
    "As usual, we begin by instantiating our matrices. Matrix multiplication is defined between matrices A and B of shapes [M, N] and [N, O] respectively and yields a matrix C of shape [M, O]. The torch function that implements matrix multiplication is `torch.mm`."
   ]
  },
  {
   "cell_type": "code",
   "execution_count": 27,
   "metadata": {},
   "outputs": [
    {
     "name": "stdout",
     "output_type": "stream",
     "text": [
      "torch.Size([5, 8])\n"
     ]
    }
   ],
   "source": [
    "A = torch.rand([5,3], device=device)\n",
    "B = torch.rand([3,8], device=device)\n",
    "C = torch.mm(A, B)  # or alternatively, C = A @ B\n",
    "print(C.shape)"
   ]
  },
  {
   "cell_type": "markdown",
   "metadata": {},
   "source": [
    "What if we had a large numbers (i.e. a batch) of matrices A to each be multiplied with a matching B? We can use `torch.bmm` for efficient batch matrix multiplication.\n",
    "\n",
    "<div class=\"alert alert-block alert-info\">\n",
    "<b>Tip:</b> Rather than writing slow and ugly `for` loops, employ array programming to write your machine learning code. This will make it much more concise and dramatically more efficient.\n",
    "</div>"
   ]
  },
  {
   "cell_type": "code",
   "execution_count": 28,
   "metadata": {},
   "outputs": [
    {
     "name": "stdout",
     "output_type": "stream",
     "text": [
      "torch.Size([128, 5, 8])\n"
     ]
    }
   ],
   "source": [
    "bA = torch.rand([128, 5, 3], device=device)\n",
    "bB = torch.rand([128, 3, 8], device=device)\n",
    "bC = torch.bmm(bA, bB)  # bC = bA @ bC also works here!\n",
    "print(bC.shape)"
   ]
  },
  {
   "cell_type": "markdown",
   "metadata": {},
   "source": [
    "<div class=\"alert alert-block alert-warning\">\n",
    "<b>Warning:</b>\n",
    "Be careful not to confuse matrix multiplication `A@B` with the [Hadamard product](https://en.wikipedia.org/wiki/Hadamard_product_%28matrices%29) `A*B`\n",
    "\n",
    "</div>"
   ]
  },
  {
   "cell_type": "markdown",
   "metadata": {},
   "source": [
    "#### Shape Manipulation\n",
    "As we have seen, what we can do with tensors is largely dictated by their shapes. Adjusting a tensor's shape to allow for broadcasting or batching is therefore often necessary. The following functions should suffice for the bulk of shape manipulation tasks you might encounter."
   ]
  },
  {
   "cell_type": "markdown",
   "metadata": {},
   "source": [
    "Tensor tansposition is the generalization of matrix transposition. Since there are now more than 2 dimensions, we additionally need to specify the transposed dimensions. Take for instance a tensor of shape [M, N, O]. Converting it to a tensor of shape [N, M, O] requires transposing the first and second dimensions."
   ]
  },
  {
   "cell_type": "code",
   "execution_count": 29,
   "metadata": {},
   "outputs": [
    {
     "name": "stdout",
     "output_type": "stream",
     "text": [
      "torch.Size([5, 128, 3])\n"
     ]
    }
   ],
   "source": [
    "A = torch.rand([128, 5, 3], device=device)\n",
    "A = A.transpose(0, 1)\n",
    "print(A.shape)"
   ]
  },
  {
   "cell_type": "markdown",
   "metadata": {},
   "source": [
    "We may also choose to create a reshaped view of a tensor; for instance we may collapse two or more tensor dimensions into one.."
   ]
  },
  {
   "cell_type": "code",
   "execution_count": 31,
   "metadata": {},
   "outputs": [
    {
     "name": "stdout",
     "output_type": "stream",
     "text": [
      "torch.Size([640, 3])\n"
     ]
    }
   ],
   "source": [
    "A = torch.rand([128, 5, 3], device=device)\n",
    "A_collapsed = A.view(A.shape[0]*A.shape[1], A.shape[-1])\n",
    "print(A_collapsed.shape)"
   ]
  },
  {
   "cell_type": "markdown",
   "metadata": {},
   "source": [
    ".. or expand one dimension into two or more"
   ]
  },
  {
   "cell_type": "code",
   "execution_count": 32,
   "metadata": {},
   "outputs": [
    {
     "name": "stdout",
     "output_type": "stream",
     "text": [
      "torch.Size([128, 5, 3])\n"
     ]
    }
   ],
   "source": [
    "A_expanded = A_collapsed.view(128, 5, 3)\n",
    "print(A_expanded.shape)"
   ]
  },
  {
   "cell_type": "markdown",
   "metadata": {},
   "source": [
    "Let's convince ourselves that the back and forth between dimensions has left our tensor unaffected. First let's elementwise compare A with A_expanded."
   ]
  },
  {
   "cell_type": "code",
   "execution_count": 33,
   "metadata": {},
   "outputs": [
    {
     "name": "stdout",
     "output_type": "stream",
     "text": [
      "tensor([[[True, True, True],\n",
      "         [True, True, True],\n",
      "         [True, True, True],\n",
      "         [True, True, True],\n",
      "         [True, True, True]],\n",
      "\n",
      "        [[True, True, True],\n",
      "         [True, True, True],\n",
      "         [True, True, True],\n",
      "         [True, True, True],\n",
      "         [True, True, True]],\n",
      "\n",
      "        [[True, True, True],\n",
      "         [True, True, True],\n",
      "         [True, True, True],\n",
      "         [True, True, True],\n",
      "         [True, True, True]],\n",
      "\n",
      "        ...,\n",
      "\n",
      "        [[True, True, True],\n",
      "         [True, True, True],\n",
      "         [True, True, True],\n",
      "         [True, True, True],\n",
      "         [True, True, True]],\n",
      "\n",
      "        [[True, True, True],\n",
      "         [True, True, True],\n",
      "         [True, True, True],\n",
      "         [True, True, True],\n",
      "         [True, True, True]],\n",
      "\n",
      "        [[True, True, True],\n",
      "         [True, True, True],\n",
      "         [True, True, True],\n",
      "         [True, True, True],\n",
      "         [True, True, True]]], device='cuda:0')\n"
     ]
    }
   ],
   "source": [
    "comp = A == A_expanded\n",
    "print(comp)"
   ]
  },
  {
   "cell_type": "markdown",
   "metadata": {},
   "source": [
    "It seems to be okay! But what if there is a zero somewhere in there? Python's `all` and `any` may be used directly on torch bools to help us here."
   ]
  },
  {
   "cell_type": "code",
   "execution_count": 34,
   "metadata": {},
   "outputs": [
    {
     "name": "stdout",
     "output_type": "stream",
     "text": [
      "True\n"
     ]
    }
   ],
   "source": [
    "print(all([all(row) for matrix in comp for row in matrix]))"
   ]
  },
  {
   "cell_type": "markdown",
   "metadata": {},
   "source": [
    "Views are useful, but as the name suggests they only change our view of a tensor. Different views of a tensor have the same number of elements; the view is just changing in what order these are read.\n",
    "\n",
    "For cases where we would like to repeat a tensor across one or more of its axes (actually creating a larger tensor), we can use the function of the same name. Let's consider a tensor of shape [M, N] which we would like to turn into a tensor that repeats itself K times across the first dimension (i.e. a tensor of shape [K $\\cdot$ M, N]."
   ]
  },
  {
   "cell_type": "code",
   "execution_count": 35,
   "metadata": {},
   "outputs": [
    {
     "name": "stdout",
     "output_type": "stream",
     "text": [
      "torch.Size([15, 12])\n"
     ]
    }
   ],
   "source": [
    "A = torch.rand([5, 12], device=device)\n",
    "A_repeat = A.repeat(3, 1)  # note that we are specifying the number of repeats per dimension\n",
    "print(A_repeat.shape)"
   ]
  },
  {
   "cell_type": "markdown",
   "metadata": {},
   "source": [
    "#### Combining Tensors\n",
    "Sometimes we may want to construct a big tensor out of two small ones. There's a few ways to accomplish that, but the most reliable one is through `torch.cat` 🐈 (shorthand for concatenate).\n",
    "\n",
    "Two tensors may be concatenated if they agree on all their dimensions, except for the concatenation dimension."
   ]
  },
  {
   "cell_type": "code",
   "execution_count": 36,
   "metadata": {},
   "outputs": [
    {
     "name": "stdout",
     "output_type": "stream",
     "text": [
      "torch.Size([5, 2])\n"
     ]
    }
   ],
   "source": [
    "A = torch.rand([4,2], device=device)\n",
    "B = torch.rand([1,2], device=device)\n",
    "C = torch.cat((A, B), dim=0)\n",
    "print(C.shape)"
   ]
  },
  {
   "cell_type": "code",
   "execution_count": 37,
   "metadata": {},
   "outputs": [],
   "source": [
    "del A, B, C, comp, A_repeat, A_expanded, A_collapsed, bA, bB, bC"
   ]
  },
  {
   "cell_type": "markdown",
   "metadata": {},
   "source": [
    "---"
   ]
  },
  {
   "cell_type": "markdown",
   "metadata": {},
   "source": [
    "<a id='1d'></a>\n",
    "### Exercises\n",
    "It might be a good idea to take a short break here and recap on what we've seen before moving further. The mini-exercises below should help you test your grasp of this section."
   ]
  },
  {
   "cell_type": "markdown",
   "metadata": {},
   "source": [
    "Construct a tensor $A$ of shape [10, 10] containing random floats, and a tensor $B$ of the same shape where all its elements are equal to $\\pi$."
   ]
  },
  {
   "cell_type": "code",
   "execution_count": 54,
   "metadata": {},
   "outputs": [
    {
     "name": "stdout",
     "output_type": "stream",
     "text": [
      "tensor([[0.0559, 0.8095, 0.6858, 0.6628, 0.3337, 0.4109, 0.9776, 0.1930, 0.4402,\n",
      "         0.3106],\n",
      "        [0.1513, 0.1271, 0.8700, 0.4912, 0.1590, 0.6536, 0.0550, 0.3488, 0.1955,\n",
      "         0.5869],\n",
      "        [0.4471, 0.8961, 0.3633, 0.4871, 0.7961, 0.9030, 0.8730, 0.4380, 0.2541,\n",
      "         0.3294],\n",
      "        [0.5235, 0.5441, 0.8568, 0.7083, 0.3947, 0.3433, 0.5803, 0.4757, 0.9915,\n",
      "         0.9536],\n",
      "        [0.3352, 0.3867, 0.7197, 0.2463, 0.6814, 0.9441, 0.1746, 0.1386, 0.4083,\n",
      "         0.1184],\n",
      "        [0.3745, 0.3879, 0.9777, 0.4501, 0.7998, 0.0160, 0.7818, 0.3919, 0.8755,\n",
      "         0.7314],\n",
      "        [0.9047, 0.2198, 0.0461, 0.2739, 0.4506, 0.0875, 0.5014, 0.8240, 0.8419,\n",
      "         0.4035],\n",
      "        [0.9520, 0.6460, 0.9608, 0.0933, 0.5712, 0.9536, 0.9398, 0.0655, 0.3188,\n",
      "         0.2180],\n",
      "        [0.1116, 0.1011, 0.7664, 0.5935, 0.5568, 0.4221, 0.0805, 0.8355, 0.5691,\n",
      "         0.0859],\n",
      "        [0.5494, 0.1445, 0.2392, 0.2188, 0.9927, 0.1929, 0.4328, 0.1140, 0.2363,\n",
      "         0.2887]], device='cuda:0')\n",
      "tensor([[3.1416, 3.1416, 3.1416, 3.1416, 3.1416, 3.1416, 3.1416, 3.1416, 3.1416,\n",
      "         3.1416],\n",
      "        [3.1416, 3.1416, 3.1416, 3.1416, 3.1416, 3.1416, 3.1416, 3.1416, 3.1416,\n",
      "         3.1416],\n",
      "        [3.1416, 3.1416, 3.1416, 3.1416, 3.1416, 3.1416, 3.1416, 3.1416, 3.1416,\n",
      "         3.1416],\n",
      "        [3.1416, 3.1416, 3.1416, 3.1416, 3.1416, 3.1416, 3.1416, 3.1416, 3.1416,\n",
      "         3.1416],\n",
      "        [3.1416, 3.1416, 3.1416, 3.1416, 3.1416, 3.1416, 3.1416, 3.1416, 3.1416,\n",
      "         3.1416],\n",
      "        [3.1416, 3.1416, 3.1416, 3.1416, 3.1416, 3.1416, 3.1416, 3.1416, 3.1416,\n",
      "         3.1416],\n",
      "        [3.1416, 3.1416, 3.1416, 3.1416, 3.1416, 3.1416, 3.1416, 3.1416, 3.1416,\n",
      "         3.1416],\n",
      "        [3.1416, 3.1416, 3.1416, 3.1416, 3.1416, 3.1416, 3.1416, 3.1416, 3.1416,\n",
      "         3.1416],\n",
      "        [3.1416, 3.1416, 3.1416, 3.1416, 3.1416, 3.1416, 3.1416, 3.1416, 3.1416,\n",
      "         3.1416],\n",
      "        [3.1416, 3.1416, 3.1416, 3.1416, 3.1416, 3.1416, 3.1416, 3.1416, 3.1416,\n",
      "         3.1416]], device='cuda:0')\n"
     ]
    }
   ],
   "source": [
    "import math\n",
    "A = torch.rand([10,10], device=device)\n",
    "B = torch.empty([10,10], device=device).fill_(math.pi)\n",
    "print(A)\n",
    "print(B)"
   ]
  },
  {
   "cell_type": "markdown",
   "metadata": {},
   "source": [
    "Compute $C = AB^T$, the matrix multiplication of $A$ with the transpose of $B$ and $D = A\\cdot B$, their elementwise multiplication."
   ]
  },
  {
   "cell_type": "code",
   "execution_count": 137,
   "metadata": {},
   "outputs": [
    {
     "name": "stdout",
     "output_type": "stream",
     "text": [
      "tensor([[15.3313, 15.3313, 15.3313, 15.3313, 15.3313, 15.3313, 15.3313, 15.3313,\n",
      "         15.3313, 15.3313],\n",
      "        [11.4300, 11.4300, 11.4300, 11.4300, 11.4300, 11.4300, 11.4300, 11.4300,\n",
      "         11.4300, 11.4300],\n",
      "        [18.1813, 18.1813, 18.1813, 18.1813, 18.1813, 18.1813, 18.1813, 18.1813,\n",
      "         18.1813, 18.1813],\n",
      "        [20.0176, 20.0176, 20.0176, 20.0176, 20.0176, 20.0176, 20.0176, 20.0176,\n",
      "         20.0176, 20.0176],\n",
      "        [13.0486, 13.0486, 13.0486, 13.0486, 13.0486, 13.0486, 13.0486, 13.0486,\n",
      "         13.0486, 13.0486],\n",
      "        [18.1794, 18.1794, 18.1794, 18.1794, 18.1794, 18.1794, 18.1794, 18.1794,\n",
      "         18.1794, 18.1794],\n",
      "        [14.3050, 14.3050, 14.3050, 14.3050, 14.3050, 14.3050, 14.3050, 14.3050,\n",
      "         14.3050, 14.3050],\n",
      "        [17.9668, 17.9668, 17.9668, 17.9668, 17.9668, 17.9668, 17.9668, 17.9668,\n",
      "         17.9668, 17.9668],\n",
      "        [12.9513, 12.9513, 12.9513, 12.9513, 12.9513, 12.9513, 12.9513, 12.9513,\n",
      "         12.9513, 12.9513],\n",
      "        [10.7109, 10.7109, 10.7109, 10.7109, 10.7109, 10.7109, 10.7109, 10.7109,\n",
      "         10.7109, 10.7109]], device='cuda:0')\n",
      "tensor([[0.1756, 2.5431, 2.1544, 2.0823, 1.0485, 1.2908, 3.0712, 0.6065, 1.3831,\n",
      "         0.9759],\n",
      "        [0.4752, 0.3994, 2.7331, 1.5431, 0.4994, 2.0532, 0.1727, 1.0959, 0.6143,\n",
      "         1.8437],\n",
      "        [1.4045, 2.8153, 1.1415, 1.5302, 2.5012, 2.8368, 2.7427, 1.3760, 0.7982,\n",
      "         1.0350],\n",
      "        [1.6447, 1.7095, 2.6916, 2.2253, 1.2399, 1.0787, 1.8230, 1.4943, 3.1148,\n",
      "         2.9958],\n",
      "        [1.0530, 1.2149, 2.2611, 0.7739, 2.1408, 2.9661, 0.5484, 0.4355, 1.2827,\n",
      "         0.3721],\n",
      "        [1.1767, 1.2186, 3.0716, 1.4140, 2.5127, 0.0502, 2.4562, 1.2313, 2.7506,\n",
      "         2.2977],\n",
      "        [2.8423, 0.6906, 0.1449, 0.8605, 1.4155, 0.2749, 1.5751, 2.5886, 2.6449,\n",
      "         1.2677],\n",
      "        [2.9909, 2.0294, 3.0185, 0.2931, 1.7945, 2.9959, 2.9524, 0.2057, 1.0016,\n",
      "         0.6849],\n",
      "        [0.3507, 0.3177, 2.4076, 1.8646, 1.7491, 1.3260, 0.2529, 2.6247, 1.7879,\n",
      "         0.2700],\n",
      "        [1.7261, 0.4539, 0.7514, 0.6873, 3.1188, 0.6060, 1.3596, 0.3583, 0.7424,\n",
      "         0.9070]], device='cuda:0')\n"
     ]
    }
   ],
   "source": [
    "C = torch.mm(A, B.transpose(1,0))\n",
    "D = A*B\n",
    "print(C)\n",
    "print(D)"
   ]
  },
  {
   "cell_type": "markdown",
   "metadata": {},
   "source": [
    "Try comparing $C$ with $D$. Are they comparable? Are they equal? What is the dtype of their comparison?"
   ]
  },
  {
   "cell_type": "code",
   "execution_count": 138,
   "metadata": {},
   "outputs": [
    {
     "name": "stdout",
     "output_type": "stream",
     "text": [
      "tensor([[True, True, True, True, True, True, True, True, True, True],\n",
      "        [True, True, True, True, True, True, True, True, True, True],\n",
      "        [True, True, True, True, True, True, True, True, True, True],\n",
      "        [True, True, True, True, True, True, True, True, True, True],\n",
      "        [True, True, True, True, True, True, True, True, True, True],\n",
      "        [True, True, True, True, True, True, True, True, True, True],\n",
      "        [True, True, True, True, True, True, True, True, True, True],\n",
      "        [True, True, True, True, True, True, True, True, True, True],\n",
      "        [True, True, True, True, True, True, True, True, True, True],\n",
      "        [True, True, True, True, True, True, True, True, True, True]],\n",
      "       device='cuda:0')\n",
      "tensor([[False, False, False, False, False, False, False, False, False, False],\n",
      "        [False, False, False, False, False, False, False, False, False, False],\n",
      "        [False, False, False, False, False, False, False, False, False, False],\n",
      "        [False, False, False, False, False, False, False, False, False, False],\n",
      "        [False, False, False, False, False, False, False, False, False, False],\n",
      "        [False, False, False, False, False, False, False, False, False, False],\n",
      "        [False, False, False, False, False, False, False, False, False, False],\n",
      "        [False, False, False, False, False, False, False, False, False, False],\n",
      "        [False, False, False, False, False, False, False, False, False, False],\n",
      "        [False, False, False, False, False, False, False, False, False, False]],\n",
      "       device='cuda:0')\n",
      "torch.bool\n"
     ]
    }
   ],
   "source": [
    "comp = C == D\n",
    "print(comp)\n",
    "print(comp.dtype)"
   ]
  },
  {
   "cell_type": "markdown",
   "metadata": {},
   "source": [
    "Multiply $A$ by 4 to create $F$. Now set all elements of $F$ that are above $\\pi$ to zero.\n",
    "\n",
    "\n",
    "_Hint 1_: You can index a tensor with a boolean tensor of the same dimensionality\n",
    "\n",
    "_Hint 2_: You can set multiple indexed elements to a single value at once"
   ]
  },
  {
   "cell_type": "code",
   "execution_count": 94,
   "metadata": {},
   "outputs": [
    {
     "name": "stdout",
     "output_type": "stream",
     "text": [
      "tensor([3.2380, 3.9104, 3.4799, 3.5845, 3.1846, 3.6119, 3.4921, 3.4271, 3.9659,\n",
      "        3.8144, 3.7765, 3.9108, 3.1993, 3.5021, 3.6189, 3.2960, 3.3675, 3.8082,\n",
      "        3.8432, 3.8145, 3.7591, 3.3419, 3.9710], device='cuda:0')\n",
      "tensor([], device='cuda:0')\n",
      "tensor([0.2235, 0.0000, 2.7430, 2.6513, 1.3350, 1.6435, 0.0000, 0.7722, 1.7610,\n",
      "        1.2426, 0.6050, 0.5085, 0.0000, 1.9647, 0.6359, 2.6142, 0.2199, 1.3954,\n",
      "        0.7821, 2.3475, 1.7883, 0.0000, 1.4534, 1.9484, 0.0000, 0.0000, 0.0000,\n",
      "        1.7520, 1.0163, 1.3178, 2.0942, 2.1765, 0.0000, 2.8333, 1.5787, 1.3734,\n",
      "        2.3211, 1.9026, 0.0000, 0.0000, 1.3408, 1.5469, 2.8789, 0.9854, 2.7257,\n",
      "        0.0000, 0.6983, 0.5546, 1.6332, 0.4738, 1.4982, 1.5515, 0.0000, 1.8003,\n",
      "        0.0000, 0.0639, 3.1273, 1.5678, 0.0000, 2.9255, 0.0000, 0.8793, 0.1844,\n",
      "        1.0957, 1.8022, 0.3500, 2.0055, 0.0000, 0.0000, 1.6140, 0.0000, 2.5839,\n",
      "        0.0000, 0.3732, 2.2849, 0.0000, 0.0000, 0.2619, 1.2753, 0.8721, 0.4465,\n",
      "        0.4045, 3.0654, 2.3741, 2.2271, 1.6884, 0.3220, 0.0000, 2.2764, 0.3438,\n",
      "        2.1978, 0.5780, 0.9567, 0.8751, 0.0000, 0.7716, 1.7311, 0.4562, 0.9453,\n",
      "        1.1548], device='cuda:0')\n"
     ]
    }
   ],
   "source": [
    "F = A * 4\n",
    "print(F[F > math.pi])\n",
    "F[F > math.pi] = 0\n",
    "print(F[F > math.pi])\n",
    "print(F[F <= math.pi])"
   ]
  },
  {
   "cell_type": "markdown",
   "metadata": {},
   "source": [
    "The incomplete function below implements matrix multiplication with a for loop. Complete the function and call it with your $A$ and $B^T$ matrices as its arguments. The result should be the same as the matrix $C$ you computed before (with room for some numerical inaccuraccy)\n",
    "\n",
    "Note: You can use `torch.sum()` to compute the sum of a tensor (optionally specifying across which dimension)\n",
    "\n",
    "<div class=\"alert alert-block alert-info\">\n",
    "<b>Note:</b> [Type Hints](https://www.python.org/dev/peps/pep-0484/#rationale-and-goals) may be used in python function and variable declarations to give them a type signature. These type signatures are not strict (you can still bypass them), but they can help you organize your code. Type hints of incomplete functions given during assignments will inform you of what we expect your function to accept and return.\n",
    "</div>"
   ]
  },
  {
   "cell_type": "code",
   "execution_count": 141,
   "metadata": {},
   "outputs": [],
   "source": [
    "def my_mm(A: torch.FloatTensor, B: torch.FloatTensor) -> torch.FloatTensor:\n",
    "    assert A.shape[1] == B.shape[0]\n",
    "    assert (len(A.shape) == len(B.shape) == 2)\n",
    "    C = torch.zeros((A.shape[0], B.shape[1]), device=device)\n",
    "    for i in range(A.shape[0]):\n",
    "        for j in range(B.shape[1]):\n",
    "            C[i, j] =   sum(A[i,:] * B[:,j])\n",
    "    return C\n",
    "    \n",
    "E = my_mm(A, B.transpose(1,0))\n",
    "\n",
    "# make sure the mean absolute difference between the two results is below 0.0001\n",
    "assert torch.sum(torch.abs(E - C))/(E.shape[0]*E.shape[1]) < 1e-4 "
   ]
  },
  {
   "cell_type": "markdown",
   "metadata": {},
   "source": [
    "Create a 2-dimensional tensor $S$ that consists by an instance of $A$ followed by two instances of $B$ followed by an instance of $A$ across its first dimension. What is the shape of $S$?"
   ]
  },
  {
   "cell_type": "code",
   "execution_count": 147,
   "metadata": {},
   "outputs": [
    {
     "name": "stdout",
     "output_type": "stream",
     "text": [
      "torch.Size([40, 10])\n"
     ]
    }
   ],
   "source": [
    "S = torch.cat((A, B, B, A), dim=0)\n",
    "print(S.shape)"
   ]
  },
  {
   "cell_type": "markdown",
   "metadata": {},
   "source": [
    "Reshape $S$ into a tensor of shape [20, 2, 10]. \n",
    "Then transpose this into a tensor of shape [2, 10, 20]."
   ]
  },
  {
   "cell_type": "code",
   "execution_count": 148,
   "metadata": {},
   "outputs": [
    {
     "name": "stdout",
     "output_type": "stream",
     "text": [
      "torch.Size([20, 2, 10])\n",
      "torch.Size([2, 10, 20])\n"
     ]
    }
   ],
   "source": [
    "S_r = S.view(20, 2, 10)\n",
    "print(S_r.shape)\n",
    "S_t = S_r.transpose(0, 1)\n",
    "S_t = S_t.transpose(1, 2)\n",
    "print(S_t.shape)"
   ]
  },
  {
   "cell_type": "code",
   "execution_count": 149,
   "metadata": {},
   "outputs": [],
   "source": [
    "del A, B, C, D, E, F, S"
   ]
  },
  {
   "cell_type": "markdown",
   "metadata": {},
   "source": [
    "---"
   ]
  },
  {
   "cell_type": "markdown",
   "metadata": {},
   "source": [
    "<a id='2'></a>\n",
    "## 2. Automatic Differentation and Neural Networks\n",
    "We have so far seen some of torch's computational capabilities; its GPU accelaration and multitude of high level functions make it suitable for array processing and vector arithmetic. But torch is more than a faster numpy; its key components, and where most of the magic happens, are in its automatic differentiation mechanics and neural network libraries.\n",
    "\n",
    "<a id='2a'></a>\n",
    "### A. Autograd\n",
    "Each torch tensor carries a flag around with it, `requires_grad`, which establishes whether that tensor requires gradient computation. \n",
    "\n",
    "By default, tensors do not require grad unless specified to. Whenever a tensor that requires grad assumes a role in the construction of another tensor, the new tensor also requires grad.\n",
    "By dynamically tracking dependencies in the evolving computation graph, and utilizing this flag, torch is able to inform itself on which tensors need to be updated by gradient descent, and which do not (naturally, only tensors for which gradients are computed will be updated).\n",
    "\n",
    "Practically, by setting `requires_grad` to `False` we can _freeze_ (parts of) our functions, making them static.\n",
    "\n",
    "Let's see this in action by modeling a simple linear transformation $f(x): Ax$ from $x \\in \\mathbb{R}^5$  to $y \\in \\mathbb{R}^7$:\n",
    "\n",
    "<div class=\"alert alert-block alert-info\">\n",
    "<b>Note:</b> Recall that a matrix of shape [M, N] is a linear map __from__ $\\mathbb{R}^N$ __to__ $\\mathbb{R}^M$.\n",
    "</div>"
   ]
  },
  {
   "cell_type": "code",
   "execution_count": 185,
   "metadata": {},
   "outputs": [],
   "source": [
    "A = torch.rand((7, 5), device=device) \n",
    "\n",
    "def f(x: torch.FloatTensor) -> torch.FloatTensor:\n",
    "    return A@x "
   ]
  },
  {
   "cell_type": "markdown",
   "metadata": {},
   "source": [
    "Let's test our function for some $x$, and check whether the result requires grad."
   ]
  },
  {
   "cell_type": "code",
   "execution_count": 186,
   "metadata": {},
   "outputs": [
    {
     "name": "stdout",
     "output_type": "stream",
     "text": [
      "tensor([1.2143, 0.8341, 0.9450, 1.0350, 1.0886, 1.0008, 0.7139],\n",
      "       device='cuda:0')\n",
      "False\n"
     ]
    }
   ],
   "source": [
    "x = torch.rand(5, device=device)\n",
    "y = f(x)\n",
    "print(y)\n",
    "print(y.requires_grad)"
   ]
  },
  {
   "cell_type": "markdown",
   "metadata": {},
   "source": [
    "It does not; what if the parameters of our function $f$ were trainable though?"
   ]
  },
  {
   "cell_type": "code",
   "execution_count": 152,
   "metadata": {},
   "outputs": [
    {
     "name": "stdout",
     "output_type": "stream",
     "text": [
      "True\n"
     ]
    }
   ],
   "source": [
    "A.requires_grad = True\n",
    "y = f(x)\n",
    "print(y.requires_grad)"
   ]
  },
  {
   "cell_type": "markdown",
   "metadata": {},
   "source": [
    "The output of our linear transformation is now also trainable!\n"
   ]
  },
  {
   "cell_type": "markdown",
   "metadata": {},
   "source": [
    "---"
   ]
  },
  {
   "cell_type": "markdown",
   "metadata": {},
   "source": [
    "<a id='2b'></a>\n",
    "### Exercises\n",
    "Answer the next questions before you proceed."
   ]
  },
  {
   "cell_type": "markdown",
   "metadata": {},
   "source": [
    "Model an affine transformation $g(x) = Ax + \\beta$ from $x \\in \\mathbb{R}^3$ to $y \\in \\mathbb{R}^{12}$ as the composition of two functions, $f_1(x) = Ax$, $f_2(x) = x + \\beta$, such that $A$ requires grad but $\\beta$ does not.\n",
    "\n",
    "<div class=\"alert alert-block alert-info\">\n",
    "<b>Note:</b> You can use `requires_grad: bool` as an optional argument during tensor construction. Can you guess its default value?\n",
    "</div>"
   ]
  },
  {
   "cell_type": "code",
   "execution_count": 184,
   "metadata": {},
   "outputs": [
    {
     "name": "stdout",
     "output_type": "stream",
     "text": [
      "tensor([[0.9106, 1.0019, 1.6713],\n",
      "        [0.7216, 1.1334, 2.2403],\n",
      "        [0.7615, 0.8673, 2.0386]], device='cuda:0', grad_fn=<MulBackward0>)\n"
     ]
    }
   ],
   "source": [
    "A = torch.rand((3, 3), device=device, requires_grad=True)\n",
    "beta = torch.rand((3, 3), device=device, requires_grad=False)\n",
    "\n",
    "\n",
    "def f_1(i: torch.FloatTensor) -> torch.FloatTensor:\n",
    "    return A@i\n",
    "\n",
    "def f_2(i: torch.FloatTensor) -> torch.FloatTensor:\n",
    "    return beta + i\n",
    "\n",
    "x = torch.rand(3, device=device)\n",
    "\n",
    "w = f_1(x)\n",
    "y = f_2(w)\n",
    "\n",
    "print(w*y)\n",
    "\n"
   ]
  },
  {
   "cell_type": "markdown",
   "metadata": {},
   "source": [
    "Try to figure out the answers on your own before checking the code.\n",
    "\n",
    "Let's assume $x$ is a fixed data sample, therefore does not require grad (we don't usually want to fit our data, but the function applied on the data!)\n",
    "\n",
    "* If $A$ requires grad but $\\beta$ doesn't, does $w$ require grad? Does $y$?\n",
    "\n",
    "* If $\\beta$ requires grad but $A$ doesn't, does $w$ require grad? Does $y$?\n",
    "\n",
    "What would that mean for $A$ and $\\beta$ during gradient descent?\n",
    "\n",
    "Verify your answers with code."
   ]
  },
  {
   "cell_type": "code",
   "execution_count": null,
   "metadata": {},
   "outputs": [],
   "source": []
  },
  {
   "cell_type": "code",
   "execution_count": null,
   "metadata": {},
   "outputs": [],
   "source": []
  },
  {
   "cell_type": "code",
   "execution_count": 2,
   "metadata": {},
   "outputs": [
    {
     "ename": "NameError",
     "evalue": "name 'A' is not defined",
     "output_type": "error",
     "traceback": [
      "\u001b[0;31m---------------------------------------------------------------------------\u001b[0m",
      "\u001b[0;31mNameError\u001b[0m                                 Traceback (most recent call last)",
      "\u001b[0;32m<ipython-input-2-9bca407052b1>\u001b[0m in \u001b[0;36m<module>\u001b[0;34m\u001b[0m\n\u001b[0;32m----> 1\u001b[0;31m \u001b[0;32mdel\u001b[0m \u001b[0mA\u001b[0m\u001b[0;34m,\u001b[0m \u001b[0mbeta\u001b[0m\u001b[0;34m,\u001b[0m \u001b[0mx\u001b[0m\u001b[0;34m,\u001b[0m \u001b[0my\u001b[0m\u001b[0;34m,\u001b[0m \u001b[0mw\u001b[0m\u001b[0;34m,\u001b[0m \u001b[0mf\u001b[0m\u001b[0;34m,\u001b[0m \u001b[0mf_1\u001b[0m\u001b[0;34m,\u001b[0m \u001b[0mf_2\u001b[0m\u001b[0;34m\u001b[0m\u001b[0;34m\u001b[0m\u001b[0m\n\u001b[0m",
      "\u001b[0;31mNameError\u001b[0m: name 'A' is not defined"
     ]
    }
   ],
   "source": [
    "del A, beta, x, y, w, f, f_1, f_2"
   ]
  },
  {
   "cell_type": "markdown",
   "metadata": {},
   "source": [
    "---"
   ]
  },
  {
   "cell_type": "markdown",
   "metadata": {},
   "source": [
    "<a id='3'></a>\n",
    "\n",
    "## 3. Neural Networks\n",
    "We are very close to defining our first neural network in torch. Torch includes a powerful neural network library, `torch.nn`, which allows us to create our own custom network flows, use highly optimized off-the-shelf implementations of most standard kinds of networks and compose different networks together.\n",
    "\n",
    "<a id='3a'></a>\n",
    "### A. Custom Neural Networks\n",
    "You have already implemented an affine transformation; a shallow feedforward network is simply such a transformation followed by a non-linearity. For the sake of familiarizing ourselves with custom torch networks, we will go through the process of defining such a network from scratch (you won't normally be doing this, but it's still beneficial to have an idea of what's happening at the low level before proceeding to the high level).\n",
    "\n",
    "The building block for a torch network is the `torch.nn.Module` class; we need to define our networks as objects inheriting that class. If we do so, we only need to implement two functions: `__init__()` and `forward()`. The first is responsible for registering the internal variables of our network, while the second specifies the kind of computation it actually performs.\n",
    "\n",
    "Let's see these in practice; we will define a shallow feedforward network implementing $f(x) = \\sigma(Wx + \\beta)$ from any input dimension to any output dimension, where $\\sigma$ the sigmoid activation."
   ]
  },
  {
   "cell_type": "code",
   "execution_count": 4,
   "metadata": {},
   "outputs": [],
   "source": [
    "class my_first_network(torch.nn.Module):\n",
    "    def __init__(self, in_features: int, out_features: int, device: str) -> None:\n",
    "        super(my_first_network, self).__init__()  # this is important! do not forget to call this\n",
    "        self.device = device\n",
    "        self.W = torch.nn.Parameter(torch.rand(out_features, in_features, device=self.device))\n",
    "        self.beta = torch.nn.Parameter(torch.rand(out_features, device=self.device))\n",
    "        \n",
    "    def forward(self, x: torch.FloatTensor) -> torch.FloatTensor:\n",
    "        return torch.sigmoid(self.W@x + self.beta)"
   ]
  },
  {
   "cell_type": "markdown",
   "metadata": {},
   "source": [
    "<div class=\"alert alert-block alert-info\">\n",
    "<b>Note:</b> Notice the use of torch.nn.Parameter. Wrapping the tensors that are parametric to our network's function in torch.nn.Parameter is crucial as it informs torch that these tensors need to be stored, updated and shared between different function calls.\n",
    "</div>"
   ]
  },
  {
   "cell_type": "markdown",
   "metadata": {},
   "source": [
    "We can now test our first network class by instatiating an actual network and passing a random tensor through it."
   ]
  },
  {
   "cell_type": "code",
   "execution_count": 7,
   "metadata": {},
   "outputs": [
    {
     "name": "stdout",
     "output_type": "stream",
     "text": [
      "tensor([0.7692, 0.7688, 0.8597, 0.8655, 0.8985, 0.8252, 0.6550, 0.8702, 0.8395,\n",
      "        0.7058, 0.7875, 0.7846], device='cuda:0', grad_fn=<SigmoidBackward>)\n"
     ]
    }
   ],
   "source": [
    "f = my_first_network(in_features=3, out_features=12, device=device)\n",
    "x = torch.rand(3, device=device)\n",
    "y = f(x)\n",
    "print(y)"
   ]
  },
  {
   "cell_type": "markdown",
   "metadata": {},
   "source": [
    "<div class=\"alert alert-block alert-info\">\n",
    "<b>Note:</b> Notice that we can use `f(x)` instead of `f.forward(x)` -- `forward` overloads the `__call__` method of the `torch.nn.Module` class, so the above statements are equivalent.\n",
    "</div>"
   ]
  },
  {
   "cell_type": "markdown",
   "metadata": {},
   "source": [
    "Since we have the abstraction for one layer, what's stopping us from instantiating a second network and composing the two into a deep network?"
   ]
  },
  {
   "cell_type": "code",
   "execution_count": 8,
   "metadata": {},
   "outputs": [
    {
     "name": "stdout",
     "output_type": "stream",
     "text": [
      "tensor([0.9891, 0.9981, 0.9985, 0.9981, 0.9976], device='cuda:0',\n",
      "       grad_fn=<SigmoidBackward>)\n"
     ]
    }
   ],
   "source": [
    "class my_first_deep_network(torch.nn.Module):\n",
    "    def __init__(self, in_features: int, intermediate_features: int, out_features: int, device: str) -> None:\n",
    "        super(my_first_deep_network, self).__init__()\n",
    "        self.device = device\n",
    "        self.n_1 = my_first_network(in_features=in_features, out_features=intermediate_features, device=self.device)\n",
    "        self.n_2 = my_first_network(in_features=intermediate_features, out_features=out_features, device=self.device)\n",
    "        \n",
    "    def forward(self, x: torch.FloatTensor) -> torch.FloatTensor:\n",
    "        return self.n_2(self.n_1(x))\n",
    "    \n",
    "g = my_first_deep_network(in_features=3, intermediate_features=12, out_features=5, device=device)\n",
    "y = g(x)\n",
    "print(y)"
   ]
  },
  {
   "cell_type": "markdown",
   "metadata": {},
   "source": [
    "Very easy, right?\n",
    "\n",
    "Except we just did it the hard way! We could have used torch's pre-made `torch.nn.Linear`, the existing abstraction for single feedforward layers, and `torch.nn.Sequential`, the abstraction for composing sequences of networks. `Sequential` is initiated by an iterable of neural modules (not functions!), which are applied in the order specified.\n",
    "\n",
    "How would that have looked like?"
   ]
  },
  {
   "cell_type": "code",
   "execution_count": 9,
   "metadata": {},
   "outputs": [
    {
     "name": "stdout",
     "output_type": "stream",
     "text": [
      "tensor([0.5164, 0.5598, 0.4283, 0.3594, 0.4376], device='cuda:0',\n",
      "       grad_fn=<SigmoidBackward>)\n"
     ]
    }
   ],
   "source": [
    "h = torch.nn.Sequential(\n",
    "    torch.nn.Linear(in_features=3, out_features=12),\n",
    "    torch.nn.Sigmoid(), \n",
    "    torch.nn.Linear(in_features=12, out_features=5), \n",
    "    torch.nn.Sigmoid()  \n",
    ").to(device) \n",
    "\n",
    "y = h(x)\n",
    "print(y)"
   ]
  },
  {
   "cell_type": "markdown",
   "metadata": {},
   "source": [
    "Even easier!\n",
    "\n",
    "<div class=\"alert alert-block alert-info\">\n",
    "<b>Note:</b> When composing networks using the `Sequential` abstraction, you should make sure that each network's expected input shape matches the output shape of the previous network. The device conversion is applied recursively to each sub-module within a module, ensuring that all components of the network live happily in the same device. 🏠 \n",
    "</div>\n",
    "\n",
    "So, why ever define our own networks if torch can do it for us? The answer is that very often (and very soon!) it might be the case that you'll need to write your own, potentially complex, computation flow, which won't necesserily be possible to rephrase as simple layer stacking."
   ]
  },
  {
   "cell_type": "code",
   "execution_count": 85,
   "metadata": {},
   "outputs": [
    {
     "ename": "NameError",
     "evalue": "name 'h' is not defined",
     "output_type": "error",
     "traceback": [
      "\u001b[0;31m---------------------------------------------------------------------------\u001b[0m",
      "\u001b[0;31mNameError\u001b[0m                                 Traceback (most recent call last)",
      "\u001b[0;32m<ipython-input-85-c49aeef1a8bf>\u001b[0m in \u001b[0;36m<module>\u001b[0;34m\u001b[0m\n\u001b[0;32m----> 1\u001b[0;31m \u001b[0;32mdel\u001b[0m \u001b[0mx\u001b[0m\u001b[0;34m,\u001b[0m \u001b[0my\u001b[0m\u001b[0;34m,\u001b[0m \u001b[0mh\u001b[0m\u001b[0;34m,\u001b[0m \u001b[0mg\u001b[0m\u001b[0;34m,\u001b[0m \u001b[0mf\u001b[0m\u001b[0;34m,\u001b[0m \u001b[0mmy_first_network\u001b[0m\u001b[0;34m,\u001b[0m \u001b[0mmy_first_deep_network\u001b[0m\u001b[0;34m\u001b[0m\u001b[0;34m\u001b[0m\u001b[0m\n\u001b[0m",
      "\u001b[0;31mNameError\u001b[0m: name 'h' is not defined"
     ]
    }
   ],
   "source": [
    "del x, y, h, g, f, my_first_network, my_first_deep_network"
   ]
  },
  {
   "cell_type": "markdown",
   "metadata": {},
   "source": [
    "<a id='3b'></a>\n",
    "### B.  Loss Functions\n",
    "\n",
    "We have seen how to construct parametric, trainable functions and networks. Requiring a gradient and having a gradient are two different things, however. To obtain the gradients of our trainable parameters we need a loss function. The loss function is an indicator of how far off the network's output (prediction) is from the actual truth. Applying the chain rule, we may differentiate the loss value w.r.t. the model's parameters, populating the tensors' gradients in the process. \n",
    "\n",
    "As with networks, torch provides implementations for the commonly used loss functions but also allows us to write our own (as another neural module!).\n",
    "\n",
    "We will only experiment with an existing loss function, but first we need to construct some data to play with-- we can create a synthetic data set of pairs $(x_i, y_i)$ where $x_i$ is a random number and $y_i = 3 \\cdot x_i - 2$"
   ]
  },
  {
   "cell_type": "code",
   "execution_count": 11,
   "metadata": {},
   "outputs": [],
   "source": [
    "# a tensor of shape 100, 1, i.e. 100 data points each of dimensionality 1\n",
    "x = torch.rand((100, 1), device=device) \n",
    "y = 3 * x - 2"
   ]
  },
  {
   "cell_type": "markdown",
   "metadata": {},
   "source": [
    "Time to employ a linear network.\n",
    "\n",
    "<div class=\"alert alert-block alert-warning\">\n",
    "<b>Warning:</b>\n",
    "Don't mix up input/output dimensionality and number of data samples! \n",
    "</div>"
   ]
  },
  {
   "cell_type": "code",
   "execution_count": 12,
   "metadata": {},
   "outputs": [],
   "source": [
    "f = torch.nn.Linear(in_features=1, out_features=1).to(device)\n",
    "prediction = f(x)"
   ]
  },
  {
   "cell_type": "markdown",
   "metadata": {},
   "source": [
    "Now to define our loss function:"
   ]
  },
  {
   "cell_type": "code",
   "execution_count": 13,
   "metadata": {},
   "outputs": [],
   "source": [
    "loss_fn = torch.nn.MSELoss()"
   ]
  },
  {
   "cell_type": "markdown",
   "metadata": {},
   "source": [
    "Note that each element of our batch (i.e. each of the 100 data samples) has its own MSE w.r.t. to its corresponding output. These unique losses are averaged into a single scalar by the loss function."
   ]
  },
  {
   "cell_type": "code",
   "execution_count": 14,
   "metadata": {},
   "outputs": [
    {
     "name": "stdout",
     "output_type": "stream",
     "text": [
      "tensor(0.6986, device='cuda:0', grad_fn=<MeanBackward0>)\n"
     ]
    }
   ],
   "source": [
    "loss = loss_fn(y, prediction)\n",
    "print(loss)"
   ]
  },
  {
   "cell_type": "markdown",
   "metadata": {},
   "source": [
    "Now that we have computed the loss, we may use it to populate the parameters' gradients via a backward pass. This is automagically done by a simple call of `backward`. 🧙"
   ]
  },
  {
   "cell_type": "code",
   "execution_count": 15,
   "metadata": {},
   "outputs": [],
   "source": [
    "loss.backward()"
   ]
  },
  {
   "cell_type": "markdown",
   "metadata": {},
   "source": [
    "Torch provides a few different loss functions, each for a particular usecase (the task and your output layer's activation function). Note that particular loss functions are already implementing the network's output activation internally. Refer to the [documentation](https://pytorch.org/docs/stable/nn.html#loss-functions) for a detailed overview. In most cases, the cheat-sheet below should contain the answer.\n",
    "\n",
    "<div class=\"alert alert-block alert-info\">\n",
    "<b>Tip:</b> At a loss on which loss to use? Use this cheat-sheet!\n",
    "</div>\n",
    "\n",
    "| Task | Activation | Loss Function |\n",
    "| --- | --- | --- | --- |\n",
    "| K-class Classification | - | CrossEntropyLoss |\n",
    "| K-class Classification | LogSoftmax | NLLLoss |\n",
    "| K-class, Multi-Label Classification | - | BCEWithLogitsLoss |\n",
    "| K-class, Multi-Label Classification | LogSigmoid | BCELoss |\n",
    "| Continuous Regression | - | MSELoss |\n",
    "| Probability Distribution Fitting | LogSoftmax / LogSigmoid | KLDivLoss |"
   ]
  },
  {
   "cell_type": "markdown",
   "metadata": {},
   "source": [
    "<a id='3c'></a>\n",
    "\n",
    "### C.  Optimizers\n",
    "Our struggles are slowly coming to an end. We have made a trainable network, we have computed the loss given the true output, and we have used the loss to populate the parameter gradients. The final thing to do is to use these gradients in order to update the parameter values. \n",
    "This is managed by an `Optimizer`. Gradient based optimizers are the norm for training neural networks; all of them are variants of stochastic gradient descent. Torch provides implementations of the classic optimizers. Regardless of which one of them is your favourite, the process always involves the same steps:\n",
    "1. Initiate the optimizer by letting it know which parameters it is going to be responsible for\n",
    "2. Iterate over your data, and:\n",
    "    2. Compute the loss\n",
    "    3. Back-propagate\n",
    "    4. Perform an optimization step\n",
    "    5. Zero out the gradients (so that they don't accumulate over optimization steps)\n",
    "\n",
    "Let's see them in action on our toy network and synthetic dataset."
   ]
  },
  {
   "cell_type": "code",
   "execution_count": 16,
   "metadata": {},
   "outputs": [
    {
     "name": "stdout",
     "output_type": "stream",
     "text": [
      "Iteration 0 loss: 0.6985610723495483\n",
      "Iteration 500 loss: 0.49053117632865906\n",
      "Iteration 1000 loss: 0.3311671018600464\n",
      "Iteration 1500 loss: 0.2124975174665451\n",
      "Iteration 2000 loss: 0.127750426530838\n",
      "Iteration 2500 loss: 0.07047846913337708\n",
      "Iteration 3000 loss: 0.034659985452890396\n",
      "Iteration 3500 loss: 0.014592360705137253\n",
      "Iteration 4000 loss: 0.004975155461579561\n",
      "Iteration 4500 loss: 0.0012750510359182954\n",
      "Iteration 5000 loss: 0.00022305747552309185\n"
     ]
    }
   ],
   "source": [
    "opt = torch.optim.Adam(f.parameters())  # initiate optimizer\n",
    "for t in range(5001):  # iterate\n",
    "    prediction = f(x)  # predict \n",
    "    loss = loss_fn(prediction, y)  # compute loss\n",
    "    loss.backward()  # backpropagate\n",
    "    opt.step()  # optimize\n",
    "    opt.zero_grad()  # reset gradients\n",
    "    if t%500 == 0:\n",
    "        print('Iteration {} loss: {}'.format(t, loss.item()))"
   ]
  },
  {
   "cell_type": "markdown",
   "metadata": {},
   "source": [
    "Congratulations! You have trained your first torch network! 🎉\n",
    "\n",
    "You can now probe its inner parameters to see to what extent it figured out the truth."
   ]
  },
  {
   "cell_type": "code",
   "execution_count": 17,
   "metadata": {},
   "outputs": [
    {
     "name": "stdout",
     "output_type": "stream",
     "text": [
      "Parameter containing:\n",
      "tensor([[2.9476]], device='cuda:0', requires_grad=True)\n",
      "Parameter containing:\n",
      "tensor([-1.9772], device='cuda:0', requires_grad=True)\n"
     ]
    }
   ],
   "source": [
    "print(f.weight)\n",
    "print(f.bias)"
   ]
  },
  {
   "cell_type": "markdown",
   "metadata": {},
   "source": [
    "---"
   ]
  },
  {
   "cell_type": "markdown",
   "metadata": {},
   "source": [
    "<a id='3d'></a>\n",
    "\n",
    "### D. Exercises"
   ]
  },
  {
   "cell_type": "markdown",
   "metadata": {},
   "source": [
    "Before we move on to a somewhat more realistic problem, it might be a good idea to get further acquainted with the basics. \n",
    "\n",
    "Let's take a quick look at a few different non-linear activations first."
   ]
  },
  {
   "cell_type": "markdown",
   "metadata": {},
   "source": [
    "Use `arange` to construct a float tensor $x$ of values $0 \\dots 1000$ in ascending order. Then element-wise subtract $500$ and divide by $100$ to get a tensor of values $-5 \\dots 5$."
   ]
  },
  {
   "cell_type": "code",
   "execution_count": 45,
   "metadata": {},
   "outputs": [],
   "source": [
    "x = torch.arange(0,1000, device=device)\n",
    "x = x - 500\n",
    "x = torch.true_divide(x, 100)"
   ]
  },
  {
   "cell_type": "markdown",
   "metadata": {},
   "source": [
    "Construct the tensors $s = \\sigma(x)$, $t = tanh(x)$ and $r = ReLU(x)$."
   ]
  },
  {
   "cell_type": "code",
   "execution_count": 47,
   "metadata": {},
   "outputs": [],
   "source": [
    "s = torch.sigmoid(x)\n",
    "t = torch.tanh(x)\n",
    "r = torch.relu(x)"
   ]
  },
  {
   "cell_type": "markdown",
   "metadata": {},
   "source": [
    "Now we can convert these to numpy arrays and plot the results. "
   ]
  },
  {
   "cell_type": "code",
   "execution_count": 48,
   "metadata": {},
   "outputs": [
    {
     "data": {
      "image/png": "[encoded data removed]",
      "text/plain": [
       "<Figure size 432x288 with 1 Axes>"
      ]
     },
     "metadata": {
      "needs_background": "light"
     },
     "output_type": "display_data"
    }
   ],
   "source": [
    "from matplotlib import pyplot as plt\n",
    "plt.plot(x.cpu().numpy(),s.cpu().numpy())\n",
    "plt.plot(x.cpu().numpy(),t.cpu().numpy())\n",
    "plt.plot(x.cpu().numpy(),r.cpu().numpy())\n",
    "plt.ylim((-2, 5))\n",
    "plt.legend(['sigmoid', 'tanh', 'relu'])\n",
    "plt.show()"
   ]
  },
  {
   "cell_type": "markdown",
   "metadata": {},
   "source": [
    "Let's practice some more by solving the infamous XOR problem with a small deep network. "
   ]
  },
  {
   "cell_type": "code",
   "execution_count": 10,
   "metadata": {},
   "outputs": [],
   "source": [
    "X = torch.tensor([[0, 0], [0, 1], [1, 0], [1, 1]], device=device, dtype=torch.float)\n",
    "Y = torch.tensor([0, 1, 1, 0], device=device, dtype=torch.float)"
   ]
  },
  {
   "cell_type": "markdown",
   "metadata": {},
   "source": [
    "Use `torch.nn.Sequential` to create a minimal deep network with 1 output dimension and 2 intermediate dimensions. Use ReLU as your intermediate layer activation. \n",
    "\n",
    "Picturing the problem as a classification over two classes, select an appropriate output activation and loss function (refer to the cheat-sheet for aid)."
   ]
  },
  {
   "cell_type": "code",
   "execution_count": 11,
   "metadata": {},
   "outputs": [],
   "source": [
    "input_size = 2\n",
    "intermediate_size = 4\n",
    "output_size = 1\n",
    "\n",
    "f = torch.nn.Sequential(\n",
    "    torch.nn.Linear(in_features=input_size, out_features=intermediate_size),\n",
    "    torch.nn.Linear(in_features=intermediate_size, out_features=intermediate_size),\n",
    "    torch.nn.ReLU(),\n",
    "    torch.nn.Linear(in_features=intermediate_size, out_features=output_size),\n",
    "    torch.nn.Sigmoid(),\n",
    ").to(device)\n",
    "\n",
    "loss_fn = torch.nn.MSELoss()"
   ]
  },
  {
   "cell_type": "markdown",
   "metadata": {},
   "source": [
    "Instantiate an optimizer for your network."
   ]
  },
  {
   "cell_type": "code",
   "execution_count": 12,
   "metadata": {},
   "outputs": [],
   "source": [
    "opt = torch.optim.Adam(f.parameters())"
   ]
  },
  {
   "cell_type": "markdown",
   "metadata": {},
   "source": [
    "Perform 5000 iterations of training, printing the loss as you go."
   ]
  },
  {
   "cell_type": "code",
   "execution_count": 13,
   "metadata": {},
   "outputs": [
    {
     "name": "stdout",
     "output_type": "stream",
     "text": [
      "Iteration 0 loss: 0.2656837999820709\n",
      "Iteration 500 loss: 0.10300502926111221\n",
      "Iteration 1000 loss: 0.025658201426267624\n",
      "Iteration 1500 loss: 0.013097519055008888\n",
      "Iteration 2000 loss: 0.007879750803112984\n",
      "Iteration 2500 loss: 0.005148480646312237\n",
      "Iteration 3000 loss: 0.0035396788734942675\n",
      "Iteration 3500 loss: 0.002518068067729473\n",
      "Iteration 4000 loss: 0.0018353809136897326\n",
      "Iteration 4500 loss: 0.0013603789266198874\n",
      "Iteration 5000 loss: 0.001021929900161922\n"
     ]
    }
   ],
   "source": [
    "for t in range(5001):             # iterate\n",
    "    P = f(X)                      # predict \n",
    "    loss = loss_fn(P, Y.view(4,1))# compute loss\n",
    "    loss.backward()               # backpropagate\n",
    "    opt.step()                    # optimize\n",
    "    opt.zero_grad()               # reset gradients\n",
    "    if t%500 == 0:\n",
    "        print('Iteration {} loss: {}'.format(t, loss.item()))"
   ]
  },
  {
   "cell_type": "markdown",
   "metadata": {},
   "source": [
    "You might encounter a shape error here. If you do, don't panic! Read it, understand what the problem is and remember `.view()`.\n",
    "\n",
    "Is the loss improving? If not, try toying around with the intermediate layer's width, the optimizer and its learning rate until your network can solve the problem."
   ]
  },
  {
   "cell_type": "code",
   "execution_count": null,
   "metadata": {},
   "outputs": [],
   "source": []
  },
  {
   "cell_type": "code",
   "execution_count": 15,
   "metadata": {},
   "outputs": [],
   "source": [
    "del f, loss_fn, opt, X, Y"
   ]
  },
  {
   "cell_type": "code",
   "execution_count": null,
   "metadata": {},
   "outputs": [],
   "source": []
  },
  {
   "cell_type": "markdown",
   "metadata": {},
   "source": [
    "<a id='3d'></a>\n",
    "## 4. Putting Everything Together\n",
    "Time to hone our newly acquired torch skills! \n",
    "\n",
    "We will now put everything together and write an actual network on a real task. The code below is mostly complete, but some parts here and there are missing. You will be asked to fill those in, so pay attention!"
   ]
  },
  {
   "cell_type": "markdown",
   "metadata": {},
   "source": [
    "First, construct a two-layer network that implements the function $f: \\mathbb{R}^{300} \\to \\mathbb{R}$, such that:\n",
    "\n",
    "$f(x) = W_2(ReLU(W_1x + \\beta_1) + \\beta_2$\n",
    "\n",
    "where:\n",
    "* $W_1 \\in \\mathbb{R}^{100, 300}$\n",
    "* $W_2 \\in \\mathbb{R}^{1, 100}$ \n",
    "* $ \\beta_1 \\in \\mathbb{R}^{100}$ \n",
    "* $\\beta_2 \\in \\mathbb{R}^1$\n",
    "\n",
    "\n",
    "using `torch.nn.Sequential` "
   ]
  },
  {
   "cell_type": "code",
   "execution_count": 42,
   "metadata": {},
   "outputs": [],
   "source": [
    "f = torch.nn.Sequential(\n",
    "    torch.nn.Linear(in_features=300, out_features=100),\n",
    "    torch.nn.ReLU(),\n",
    "    torch.nn.Linear(in_features=100, out_features=1),\n",
    "    torch.nn.Sigmoid(),\n",
    ").to(device)"
   ]
  },
  {
   "cell_type": "markdown",
   "metadata": {},
   "source": [
    "Let's make some use of this network on real data.\n",
    "We are going to open a data dump containing ~5500 baby names. Each name is associated with a label (either 0 for male, or 1 for female), but also a 300-dimensional vector. Representing words as dense vectors is standard practice in NLP; you will learn more about these vectors in your first assignment. For now, we will simply use them in an attempt to teach the network to distinguish between boy and girl babies given their names, while writing some useful code in the process. 👶 🍼"
   ]
  },
  {
   "cell_type": "code",
   "execution_count": 43,
   "metadata": {},
   "outputs": [],
   "source": [
    "import pickle\n",
    "with open('name_data.p', 'rb') as file:\n",
    "    names, vectors, labels = pickle.load(file)"
   ]
  },
  {
   "cell_type": "markdown",
   "metadata": {},
   "source": [
    "What do our data look like? Run the snippet below a couple of times to get an impression."
   ]
  },
  {
   "cell_type": "code",
   "execution_count": 44,
   "metadata": {},
   "outputs": [
    {
     "name": "stdout",
     "output_type": "stream",
     "text": [
      "[['Dorry' '1']\n",
      " ['Shel' '1']\n",
      " ['Wallie' '0']\n",
      " ['Lemmie' '0']\n",
      " ['Ambrose' '0']\n",
      " ['Briney' '1']\n",
      " ['Rosamund' '1']\n",
      " ['Tarah' '1']\n",
      " ['Krista' '1']\n",
      " ['Deanna' '1']\n",
      " ['Mart' '0']\n",
      " ['Ralph' '0']\n",
      " ['Bernhard' '0']\n",
      " ['Vanda' '1']\n",
      " ['Alston' '0']\n",
      " ['Brodie' '0']\n",
      " ['Elizabeth' '1']\n",
      " ['Raj' '0']\n",
      " ['Karna' '1']\n",
      " ['Mariette' '1']]\n"
     ]
    }
   ],
   "source": [
    "import numpy as np\n",
    "print(np.random.permutation(list(zip(names, labels)))[0:20])"
   ]
  },
  {
   "cell_type": "markdown",
   "metadata": {},
   "source": [
    "`vectors` is a list of numpy arrays, and `labels` is a list of integers. We will need to convert them to lists of FloatTensors. Since that is a lot of data, it is unlikely for them to all fit in the GPU, so we will use the RAM as a temporary storage regardless of your currently used device."
   ]
  },
  {
   "cell_type": "code",
   "execution_count": 45,
   "metadata": {},
   "outputs": [],
   "source": [
    "# or alternatively, vectors = [torch.tensor(vector) for vector in vectors]\n",
    "vectors = list(map(lambda x: torch.tensor(x, dtype=torch.float), vectors))\n",
    "labels = list(map(lambda x: torch.tensor(x, dtype=torch.float), labels))  "
   ]
  },
  {
   "cell_type": "markdown",
   "metadata": {},
   "source": [
    "Training on your entire dataset is bad practice; we should split the data into a training set and a validation set. We could either do it manually, or let `sklearn` do it for us."
   ]
  },
  {
   "cell_type": "code",
   "execution_count": 46,
   "metadata": {},
   "outputs": [],
   "source": [
    "from sklearn.model_selection import train_test_split\n",
    "names_train, names_val, X_train, X_val, Y_train, Y_val = train_test_split(names, vectors, labels, test_size=0.2)\n",
    "assert len(X_train) == len(Y_train) == len(names_train)\n",
    "assert len(X_val) == len(Y_val) == len(names_val)"
   ]
  },
  {
   "cell_type": "markdown",
   "metadata": {},
   "source": [
    "Now that we have split the data, we may convert them from a list of tensors onto a big tensor. We could do that by using `view()` to expand the first dimension of each vector and then `cat()` to merge them, but an easier shorthand is `stack()`."
   ]
  },
  {
   "cell_type": "code",
   "execution_count": 47,
   "metadata": {},
   "outputs": [
    {
     "name": "stdout",
     "output_type": "stream",
     "text": [
      "torch.Size([4310, 300])\n",
      "torch.Size([1078, 300])\n",
      "torch.Size([4310])\n",
      "torch.Size([1078])\n"
     ]
    }
   ],
   "source": [
    "X_train = torch.stack(X_train)\n",
    "X_val = torch.stack(X_val)\n",
    "Y_train = torch.tensor(Y_train)\n",
    "Y_val = torch.tensor(Y_val)\n",
    "print(X_train.shape)\n",
    "print(X_val.shape)\n",
    "print(Y_train.shape)\n",
    "print(Y_val.shape)"
   ]
  },
  {
   "cell_type": "markdown",
   "metadata": {},
   "source": [
    "Now that we have our tensors in a sensible format, we may construct a Dataset (a storage unit for our data) and a DataLoader (a wrapper responsible for shuffling the data, iterating through them and converting them to batches)."
   ]
  },
  {
   "cell_type": "code",
   "execution_count": 48,
   "metadata": {},
   "outputs": [],
   "source": [
    "from torch.utils.data import TensorDataset\n",
    "from torch.utils.data import DataLoader\n",
    "\n",
    "train_dataset = TensorDataset(X_train, Y_train)\n",
    "train_dataloader = DataLoader(train_dataset, batch_size=32, shuffle=True)\n",
    "val_dataset = TensorDataset(X_val, Y_val)\n",
    "val_dataloader = DataLoader(val_dataset, batch_size=32, shuffle=False)  # no need to shuffle the validation data"
   ]
  },
  {
   "cell_type": "markdown",
   "metadata": {},
   "source": [
    "Let's begin and immediately stop an iteration through the training dataloader to get an idea of what's going on."
   ]
  },
  {
   "cell_type": "code",
   "execution_count": 49,
   "metadata": {},
   "outputs": [
    {
     "name": "stdout",
     "output_type": "stream",
     "text": [
      "torch.Size([32, 300])\n",
      "torch.float32\n",
      "torch.Size([32])\n",
      "torch.float32\n"
     ]
    }
   ],
   "source": [
    "for batch_x, batch_y in train_dataloader:\n",
    "    print(batch_x.shape)\n",
    "    print(batch_x.dtype)\n",
    "    print(batch_y.shape)\n",
    "    print(batch_y.dtype)\n",
    "    break\n"
   ]
  },
  {
   "cell_type": "markdown",
   "metadata": {},
   "source": [
    "Looking good; batch_x is 32 300-dimensional vectors, and batch_y is 32 values."
   ]
  },
  {
   "cell_type": "markdown",
   "metadata": {},
   "source": [
    "`train_batch()` is a function that takes a network, a batch of inputs, a batch of outputs, a loss function and an optimizer, runs the training routine on that batch and returns the loss value of that batch"
   ]
  },
  {
   "cell_type": "code",
   "execution_count": 50,
   "metadata": {},
   "outputs": [],
   "source": [
    "from typing import Callable, List\n",
    "\n",
    "# Callable is typed as Callable[[i1, i2, ..], o]\n",
    "# where i1, i2, .. the input types and o the output type\n",
    "\n",
    "def train_batch(network: torch.nn.Module,  # the network\n",
    "                X_batch: torch.FloatTensor,  # the X batch\n",
    "                Y_batch: torch.LongTensor,   # the Y batch\n",
    "                # a function from a FloatTensor (prediction) and a FloatTensor (Y) to a FloatTensor (the loss)\n",
    "                loss_fn: Callable[[torch.FloatTensor, torch.FloatTensor], torch.FloatTensor],  \n",
    "                # the optimizer\n",
    "                optimizer: torch.optim.Optimizer) -> float:\n",
    "    \n",
    "    network.train()\n",
    "    \n",
    "    prediction_batch = network(X_batch)  # forward pass\n",
    "    batch_loss = loss_fn(prediction_batch.view(-1), Y_batch)  # loss calculation\n",
    "    batch_loss.backward()  # gradient computation\n",
    "    optimizer.step()  # back-propagation\n",
    "    optimizer.zero_grad()  # gradient reset\n",
    "    return batch_loss.item()"
   ]
  },
  {
   "cell_type": "markdown",
   "metadata": {},
   "source": [
    "<div class=\"alert alert-block alert-info\">\n",
    "<b>Note:</b> Several network components (e.g. dropout units) may behave differently during training and validation. We use `.train()` to inform the network that we are in training time.\n",
    "</div>\n",
    "\n",
    "<div class=\"alert alert-block alert-warning\">\n",
    "<b>Warning:</b>\n",
    "The `batch_loss` tensor requires gradient (why?). It is important to return its contents with `.item()` rather than the tensor itself, otherwise we risk memory leak because of the accumulated gradient tracking.\n",
    "</div>"
   ]
  },
  {
   "cell_type": "markdown",
   "metadata": {},
   "source": [
    "`train_epoch()` is a function that takes a network, the training dataloader, a loss function and an optimizer. It iterates through the dataloader and is responsible for calling `train_batch()`."
   ]
  },
  {
   "cell_type": "code",
   "execution_count": 51,
   "metadata": {},
   "outputs": [],
   "source": [
    "def train_epoch(network: torch.nn.Module, \n",
    "                # a list of data points x\n",
    "                dataloader: DataLoader,\n",
    "                loss_fn: Callable[[torch.FloatTensor, torch.FloatTensor], torch.FloatTensor],\n",
    "                optimizer: torch.optim.Optimizer, \n",
    "                device: str) -> float:\n",
    "    \n",
    "    loss = 0.\n",
    "    \n",
    "    for i, (x_batch, y_batch) in enumerate(dataloader):\n",
    "        x_batch = x_batch.to(device)  # convert back to your chosen device\n",
    "        y_batch = y_batch.to(device)\n",
    "        loss += train_batch(network=network, X_batch=x_batch, Y_batch=y_batch, loss_fn=loss_fn, optimizer=optimizer)\n",
    "    loss /= (i+1) # divide loss by number of batches for consistency \n",
    "        \n",
    "    return loss"
   ]
  },
  {
   "cell_type": "markdown",
   "metadata": {},
   "source": [
    "Your turn; fill in the missing parts of `eval_batch()`, a function that takes a network, a batch of inputs, a batch of outputs and a loss function, and computes the loss of that batch."
   ]
  },
  {
   "cell_type": "code",
   "execution_count": 61,
   "metadata": {},
   "outputs": [],
   "source": [
    "def eval_batch(network: torch.nn.Module,  # the network\n",
    "                X_batch: torch.FloatTensor,  # the X batch\n",
    "                Y_batch: torch.LongTensor,   # the Y batch\n",
    "                loss_fn: Callable[[torch.FloatTensor, torch.LongTensor], torch.FloatTensor]) -> float:\n",
    "    \n",
    "    network.eval()\n",
    "    \n",
    "    with torch.no_grad():\n",
    "        prediction_batch = network(X_batch)  # forward pass\n",
    "        batch_loss = loss_fn(prediction_batch.view(-1), Y_batch)  # loss calculation\n",
    "    \n",
    "    return batch_loss"
   ]
  },
  {
   "cell_type": "markdown",
   "metadata": {},
   "source": [
    "<div class=\"alert alert-block alert-info\">\n",
    "<b>Note:</b> Notice that we use `.eval()` to inform the network we are in validation time. Notice also the `no_grad()` context; this is telling torch that it doesn't need to bother with gradient tracking momentarily, providing a significant speed-up for the current session.\n",
    "</div>"
   ]
  },
  {
   "cell_type": "markdown",
   "metadata": {},
   "source": [
    "`eval_epoch()` is basically the same as `train_epoch()`, aside the lack of an optimizer. Fill it in."
   ]
  },
  {
   "cell_type": "code",
   "execution_count": 53,
   "metadata": {},
   "outputs": [],
   "source": [
    "def eval_epoch(network: torch.nn.Module, \n",
    "                # a list of data points x\n",
    "                dataloader: DataLoader,\n",
    "                loss_fn: Callable[[torch.FloatTensor, torch.LongTensor], torch.FloatTensor],\n",
    "                device: str) -> float:\n",
    "\n",
    "    loss = 0.\n",
    "    \n",
    "    for i, (x_batch, y_batch) in enumerate(dataloader):\n",
    "        x_batch = x_batch.to(device)  # convert back to your chosen device\n",
    "        y_batch = y_batch.to(device)\n",
    "        loss += eval_batch(network=network, X_batch=x_batch, Y_batch=y_batch, loss_fn=loss_fn)\n",
    "    loss /= (i+1) # divide loss by number of batches for consistency \n",
    "        \n",
    "    return loss"
   ]
  },
  {
   "cell_type": "markdown",
   "metadata": {},
   "source": [
    "We can also make an auxilliary `infer_batch()` function; the forward pass gives us the final layer's output, but we might just be interested in the predicted class rather than its probability."
   ]
  },
  {
   "cell_type": "code",
   "execution_count": 54,
   "metadata": {},
   "outputs": [],
   "source": [
    "def infer_batch(network: torch.nn.Module, \n",
    "                batch_x: torch.FloatTensor, \n",
    "                device: str) -> torch.LongTensor:\n",
    "    \n",
    "    # first apply the sigmoid activation (since it is implemented by the loss function rather than the network itself)\n",
    "    sigm = torch.sigmoid(network(batch_x.to(device)))\n",
    "    # round the result\n",
    "    classes = torch.round(sigm)\n",
    "    # detach it from the computation graph (we no longer care about its gradients)\n",
    "    classes = classes.detach()\n",
    "    # cast the result into a LongTensor and return\n",
    "    return classes.to(torch.long)"
   ]
  },
  {
   "cell_type": "markdown",
   "metadata": {},
   "source": [
    "One last thing before we can finally train; we need a loss function and an optimizer. "
   ]
  },
  {
   "cell_type": "code",
   "execution_count": 55,
   "metadata": {},
   "outputs": [],
   "source": [
    "opt = torch.optim.Adam(f.parameters(), lr=1e-05)\n",
    "loss_fn = torch.nn.BCEWithLogitsLoss(reduction='mean')"
   ]
  },
  {
   "cell_type": "code",
   "execution_count": 60,
   "metadata": {},
   "outputs": [
    {
     "ename": "ValueError",
     "evalue": "Target size (torch.Size([32])) must be the same as input size (torch.Size([32, 1]))",
     "output_type": "error",
     "traceback": [
      "\u001b[0;31m---------------------------------------------------------------------------\u001b[0m",
      "\u001b[0;31mValueError\u001b[0m                                Traceback (most recent call last)",
      "\u001b[0;32m<ipython-input-60-a9d375a3a195>\u001b[0m in \u001b[0;36m<module>\u001b[0;34m\u001b[0m\n\u001b[1;32m      6\u001b[0m \u001b[0;32mfor\u001b[0m \u001b[0mt\u001b[0m \u001b[0;32min\u001b[0m \u001b[0mrange\u001b[0m\u001b[0;34m(\u001b[0m\u001b[0mNUM_EPOCHS\u001b[0m\u001b[0;34m)\u001b[0m\u001b[0;34m:\u001b[0m\u001b[0;34m\u001b[0m\u001b[0;34m\u001b[0m\u001b[0m\n\u001b[1;32m      7\u001b[0m     \u001b[0mtrain_loss\u001b[0m \u001b[0;34m=\u001b[0m \u001b[0mtrain_epoch\u001b[0m\u001b[0;34m(\u001b[0m\u001b[0mf\u001b[0m\u001b[0;34m,\u001b[0m \u001b[0mtrain_dataloader\u001b[0m\u001b[0;34m,\u001b[0m \u001b[0moptimizer\u001b[0m\u001b[0;34m=\u001b[0m\u001b[0mopt\u001b[0m\u001b[0;34m,\u001b[0m \u001b[0mloss_fn\u001b[0m\u001b[0;34m=\u001b[0m\u001b[0mloss_fn\u001b[0m\u001b[0;34m,\u001b[0m \u001b[0mdevice\u001b[0m\u001b[0;34m=\u001b[0m\u001b[0mdevice\u001b[0m\u001b[0;34m)\u001b[0m\u001b[0;34m\u001b[0m\u001b[0;34m\u001b[0m\u001b[0m\n\u001b[0;32m----> 8\u001b[0;31m     \u001b[0mval_loss\u001b[0m \u001b[0;34m=\u001b[0m \u001b[0meval_epoch\u001b[0m\u001b[0;34m(\u001b[0m\u001b[0mf\u001b[0m\u001b[0;34m,\u001b[0m \u001b[0mval_dataloader\u001b[0m\u001b[0;34m,\u001b[0m \u001b[0mloss_fn\u001b[0m\u001b[0;34m,\u001b[0m \u001b[0mdevice\u001b[0m\u001b[0;34m=\u001b[0m\u001b[0mdevice\u001b[0m\u001b[0;34m)\u001b[0m\u001b[0;34m\u001b[0m\u001b[0;34m\u001b[0m\u001b[0m\n\u001b[0m\u001b[1;32m      9\u001b[0m \u001b[0;34m\u001b[0m\u001b[0m\n\u001b[1;32m     10\u001b[0m     \u001b[0mprint\u001b[0m\u001b[0;34m(\u001b[0m\u001b[0;34m'Epoch {}'\u001b[0m\u001b[0;34m.\u001b[0m\u001b[0mformat\u001b[0m\u001b[0;34m(\u001b[0m\u001b[0mt\u001b[0m\u001b[0;34m)\u001b[0m\u001b[0;34m)\u001b[0m\u001b[0;34m\u001b[0m\u001b[0;34m\u001b[0m\u001b[0m\n",
      "\u001b[0;32m<ipython-input-53-8751bec28a30>\u001b[0m in \u001b[0;36meval_epoch\u001b[0;34m(network, dataloader, loss_fn, device)\u001b[0m\n\u001b[1;32m     10\u001b[0m         \u001b[0mx_batch\u001b[0m \u001b[0;34m=\u001b[0m \u001b[0mx_batch\u001b[0m\u001b[0;34m.\u001b[0m\u001b[0mto\u001b[0m\u001b[0;34m(\u001b[0m\u001b[0mdevice\u001b[0m\u001b[0;34m)\u001b[0m  \u001b[0;31m# convert back to your chosen device\u001b[0m\u001b[0;34m\u001b[0m\u001b[0;34m\u001b[0m\u001b[0m\n\u001b[1;32m     11\u001b[0m         \u001b[0my_batch\u001b[0m \u001b[0;34m=\u001b[0m \u001b[0my_batch\u001b[0m\u001b[0;34m.\u001b[0m\u001b[0mto\u001b[0m\u001b[0;34m(\u001b[0m\u001b[0mdevice\u001b[0m\u001b[0;34m)\u001b[0m\u001b[0;34m\u001b[0m\u001b[0;34m\u001b[0m\u001b[0m\n\u001b[0;32m---> 12\u001b[0;31m         \u001b[0mloss\u001b[0m \u001b[0;34m+=\u001b[0m \u001b[0meval_batch\u001b[0m\u001b[0;34m(\u001b[0m\u001b[0mnetwork\u001b[0m\u001b[0;34m=\u001b[0m\u001b[0mnetwork\u001b[0m\u001b[0;34m,\u001b[0m \u001b[0mX_batch\u001b[0m\u001b[0;34m=\u001b[0m\u001b[0mx_batch\u001b[0m\u001b[0;34m,\u001b[0m \u001b[0mY_batch\u001b[0m\u001b[0;34m=\u001b[0m\u001b[0my_batch\u001b[0m\u001b[0;34m,\u001b[0m \u001b[0mloss_fn\u001b[0m\u001b[0;34m=\u001b[0m\u001b[0mloss_fn\u001b[0m\u001b[0;34m)\u001b[0m\u001b[0;34m\u001b[0m\u001b[0;34m\u001b[0m\u001b[0m\n\u001b[0m\u001b[1;32m     13\u001b[0m     \u001b[0mloss\u001b[0m \u001b[0;34m/=\u001b[0m \u001b[0;34m(\u001b[0m\u001b[0mi\u001b[0m\u001b[0;34m+\u001b[0m\u001b[0;36m1\u001b[0m\u001b[0;34m)\u001b[0m \u001b[0;31m# divide loss by number of batches for consistency\u001b[0m\u001b[0;34m\u001b[0m\u001b[0;34m\u001b[0m\u001b[0m\n\u001b[1;32m     14\u001b[0m \u001b[0;34m\u001b[0m\u001b[0m\n",
      "\u001b[0;32m<ipython-input-59-26b703571e57>\u001b[0m in \u001b[0;36meval_batch\u001b[0;34m(network, X_batch, Y_batch, loss_fn)\u001b[0m\n\u001b[1;32m      8\u001b[0m     \u001b[0;32mwith\u001b[0m \u001b[0mtorch\u001b[0m\u001b[0;34m.\u001b[0m\u001b[0mno_grad\u001b[0m\u001b[0;34m(\u001b[0m\u001b[0;34m)\u001b[0m\u001b[0;34m:\u001b[0m\u001b[0;34m\u001b[0m\u001b[0;34m\u001b[0m\u001b[0m\n\u001b[1;32m      9\u001b[0m         \u001b[0mprediction_batch\u001b[0m \u001b[0;34m=\u001b[0m \u001b[0mnetwork\u001b[0m\u001b[0;34m(\u001b[0m\u001b[0mX_batch\u001b[0m\u001b[0;34m)\u001b[0m  \u001b[0;31m# forward pass\u001b[0m\u001b[0;34m\u001b[0m\u001b[0;34m\u001b[0m\u001b[0m\n\u001b[0;32m---> 10\u001b[0;31m         \u001b[0mbatch_loss\u001b[0m \u001b[0;34m=\u001b[0m \u001b[0mloss_fn\u001b[0m\u001b[0;34m(\u001b[0m\u001b[0mprediction_batch\u001b[0m\u001b[0;34m,\u001b[0m \u001b[0mY_batch\u001b[0m\u001b[0;34m)\u001b[0m  \u001b[0;31m# loss calculation\u001b[0m\u001b[0;34m\u001b[0m\u001b[0;34m\u001b[0m\u001b[0m\n\u001b[0m\u001b[1;32m     11\u001b[0m \u001b[0;34m\u001b[0m\u001b[0m\n\u001b[1;32m     12\u001b[0m     \u001b[0;32mreturn\u001b[0m \u001b[0mbatch_loss\u001b[0m\u001b[0;34m\u001b[0m\u001b[0;34m\u001b[0m\u001b[0m\n",
      "\u001b[0;32m~/anaconda3/lib/python3.8/site-packages/torch/nn/modules/module.py\u001b[0m in \u001b[0;36m_call_impl\u001b[0;34m(self, *input, **kwargs)\u001b[0m\n\u001b[1;32m    720\u001b[0m             \u001b[0mresult\u001b[0m \u001b[0;34m=\u001b[0m \u001b[0mself\u001b[0m\u001b[0;34m.\u001b[0m\u001b[0m_slow_forward\u001b[0m\u001b[0;34m(\u001b[0m\u001b[0;34m*\u001b[0m\u001b[0minput\u001b[0m\u001b[0;34m,\u001b[0m \u001b[0;34m**\u001b[0m\u001b[0mkwargs\u001b[0m\u001b[0;34m)\u001b[0m\u001b[0;34m\u001b[0m\u001b[0;34m\u001b[0m\u001b[0m\n\u001b[1;32m    721\u001b[0m         \u001b[0;32melse\u001b[0m\u001b[0;34m:\u001b[0m\u001b[0;34m\u001b[0m\u001b[0;34m\u001b[0m\u001b[0m\n\u001b[0;32m--> 722\u001b[0;31m             \u001b[0mresult\u001b[0m \u001b[0;34m=\u001b[0m \u001b[0mself\u001b[0m\u001b[0;34m.\u001b[0m\u001b[0mforward\u001b[0m\u001b[0;34m(\u001b[0m\u001b[0;34m*\u001b[0m\u001b[0minput\u001b[0m\u001b[0;34m,\u001b[0m \u001b[0;34m**\u001b[0m\u001b[0mkwargs\u001b[0m\u001b[0;34m)\u001b[0m\u001b[0;34m\u001b[0m\u001b[0;34m\u001b[0m\u001b[0m\n\u001b[0m\u001b[1;32m    723\u001b[0m         for hook in itertools.chain(\n\u001b[1;32m    724\u001b[0m                 \u001b[0m_global_forward_hooks\u001b[0m\u001b[0;34m.\u001b[0m\u001b[0mvalues\u001b[0m\u001b[0;34m(\u001b[0m\u001b[0;34m)\u001b[0m\u001b[0;34m,\u001b[0m\u001b[0;34m\u001b[0m\u001b[0;34m\u001b[0m\u001b[0m\n",
      "\u001b[0;32m~/anaconda3/lib/python3.8/site-packages/torch/nn/modules/loss.py\u001b[0m in \u001b[0;36mforward\u001b[0;34m(self, input, target)\u001b[0m\n\u001b[1;32m    626\u001b[0m \u001b[0;34m\u001b[0m\u001b[0m\n\u001b[1;32m    627\u001b[0m     \u001b[0;32mdef\u001b[0m \u001b[0mforward\u001b[0m\u001b[0;34m(\u001b[0m\u001b[0mself\u001b[0m\u001b[0;34m,\u001b[0m \u001b[0minput\u001b[0m\u001b[0;34m:\u001b[0m \u001b[0mTensor\u001b[0m\u001b[0;34m,\u001b[0m \u001b[0mtarget\u001b[0m\u001b[0;34m:\u001b[0m \u001b[0mTensor\u001b[0m\u001b[0;34m)\u001b[0m \u001b[0;34m->\u001b[0m \u001b[0mTensor\u001b[0m\u001b[0;34m:\u001b[0m\u001b[0;34m\u001b[0m\u001b[0;34m\u001b[0m\u001b[0m\n\u001b[0;32m--> 628\u001b[0;31m         return F.binary_cross_entropy_with_logits(input, target,\n\u001b[0m\u001b[1;32m    629\u001b[0m                                                   \u001b[0mself\u001b[0m\u001b[0;34m.\u001b[0m\u001b[0mweight\u001b[0m\u001b[0;34m,\u001b[0m\u001b[0;34m\u001b[0m\u001b[0;34m\u001b[0m\u001b[0m\n\u001b[1;32m    630\u001b[0m                                                   \u001b[0mpos_weight\u001b[0m\u001b[0;34m=\u001b[0m\u001b[0mself\u001b[0m\u001b[0;34m.\u001b[0m\u001b[0mpos_weight\u001b[0m\u001b[0;34m,\u001b[0m\u001b[0;34m\u001b[0m\u001b[0;34m\u001b[0m\u001b[0m\n",
      "\u001b[0;32m~/anaconda3/lib/python3.8/site-packages/torch/nn/functional.py\u001b[0m in \u001b[0;36mbinary_cross_entropy_with_logits\u001b[0;34m(input, target, weight, size_average, reduce, reduction, pos_weight)\u001b[0m\n\u001b[1;32m   2536\u001b[0m \u001b[0;34m\u001b[0m\u001b[0m\n\u001b[1;32m   2537\u001b[0m     \u001b[0;32mif\u001b[0m \u001b[0;32mnot\u001b[0m \u001b[0;34m(\u001b[0m\u001b[0mtarget\u001b[0m\u001b[0;34m.\u001b[0m\u001b[0msize\u001b[0m\u001b[0;34m(\u001b[0m\u001b[0;34m)\u001b[0m \u001b[0;34m==\u001b[0m \u001b[0minput\u001b[0m\u001b[0;34m.\u001b[0m\u001b[0msize\u001b[0m\u001b[0;34m(\u001b[0m\u001b[0;34m)\u001b[0m\u001b[0;34m)\u001b[0m\u001b[0;34m:\u001b[0m\u001b[0;34m\u001b[0m\u001b[0;34m\u001b[0m\u001b[0m\n\u001b[0;32m-> 2538\u001b[0;31m         \u001b[0;32mraise\u001b[0m \u001b[0mValueError\u001b[0m\u001b[0;34m(\u001b[0m\u001b[0;34m\"Target size ({}) must be the same as input size ({})\"\u001b[0m\u001b[0;34m.\u001b[0m\u001b[0mformat\u001b[0m\u001b[0;34m(\u001b[0m\u001b[0mtarget\u001b[0m\u001b[0;34m.\u001b[0m\u001b[0msize\u001b[0m\u001b[0;34m(\u001b[0m\u001b[0;34m)\u001b[0m\u001b[0;34m,\u001b[0m \u001b[0minput\u001b[0m\u001b[0;34m.\u001b[0m\u001b[0msize\u001b[0m\u001b[0;34m(\u001b[0m\u001b[0;34m)\u001b[0m\u001b[0;34m)\u001b[0m\u001b[0;34m)\u001b[0m\u001b[0;34m\u001b[0m\u001b[0;34m\u001b[0m\u001b[0m\n\u001b[0m\u001b[1;32m   2539\u001b[0m \u001b[0;34m\u001b[0m\u001b[0m\n\u001b[1;32m   2540\u001b[0m     \u001b[0;32mreturn\u001b[0m \u001b[0mtorch\u001b[0m\u001b[0;34m.\u001b[0m\u001b[0mbinary_cross_entropy_with_logits\u001b[0m\u001b[0;34m(\u001b[0m\u001b[0minput\u001b[0m\u001b[0;34m,\u001b[0m \u001b[0mtarget\u001b[0m\u001b[0;34m,\u001b[0m \u001b[0mweight\u001b[0m\u001b[0;34m,\u001b[0m \u001b[0mpos_weight\u001b[0m\u001b[0;34m,\u001b[0m \u001b[0mreduction_enum\u001b[0m\u001b[0;34m)\u001b[0m\u001b[0;34m\u001b[0m\u001b[0;34m\u001b[0m\u001b[0m\n",
      "\u001b[0;31mValueError\u001b[0m: Target size (torch.Size([32])) must be the same as input size (torch.Size([32, 1]))"
     ]
    }
   ],
   "source": [
    "NUM_EPOCHS = 100\n",
    "\n",
    "train_losses = []\n",
    "val_losses = []\n",
    "\n",
    "for t in range(NUM_EPOCHS):\n",
    "    train_loss = train_epoch(f, train_dataloader, optimizer=opt, loss_fn=loss_fn, device=device)\n",
    "    val_loss = eval_epoch(f, val_dataloader, loss_fn, device=device)\n",
    "    \n",
    "    print('Epoch {}'.format(t))\n",
    "    print(' Training Loss: {}'.format(train_loss))\n",
    "    print(' Validation Loss: {}'.format(val_loss))\n",
    "    \n",
    "    train_losses.append(train_loss)\n",
    "    val_losses.append(val_loss)"
   ]
  },
  {
   "cell_type": "markdown",
   "metadata": {},
   "source": [
    "We may plot the losses to get an idea of what the learning curve looks like."
   ]
  },
  {
   "cell_type": "code",
   "execution_count": 58,
   "metadata": {},
   "outputs": [
    {
     "data": {
      "image/png": "[encoded data removed]",
      "text/plain": [
       "<Figure size 432x288 with 1 Axes>"
      ]
     },
     "metadata": {
      "needs_background": "light"
     },
     "output_type": "display_data"
    }
   ],
   "source": [
    "from matplotlib import pyplot as plt\n",
    "plt.plot(train_losses)\n",
    "plt.plot(val_losses)\n",
    "plt.legend(['Training', 'Validation'])\n",
    "plt.show()"
   ]
  },
  {
   "cell_type": "markdown",
   "metadata": {},
   "source": [
    "And let's bring this to an end by labeling all of our validation data and printing the results."
   ]
  },
  {
   "cell_type": "code",
   "execution_count": 57,
   "metadata": {},
   "outputs": [
    {
     "name": "stdout",
     "output_type": "stream",
     "text": [
      "[('Kayle', [1]),\n",
      " ('Kati', [1]),\n",
      " ('Barr', [1]),\n",
      " ('Terese', [1]),\n",
      " ('Marshall', [1]),\n",
      " ('Bernadette', [1]),\n",
      " ('Shara', [1]),\n",
      " ('Archy', [1]),\n",
      " ('Isa', [1]),\n",
      " ('Silvia', [1]),\n",
      " ('Shirley', [1]),\n",
      " ('Ilona', [1]),\n",
      " ('Shana', [1]),\n",
      " ('Aldo', [1]),\n",
      " ('Alissa', [1]),\n",
      " ('Harcourt', [1]),\n",
      " ('Burl', [1]),\n",
      " ('Lev', [1]),\n",
      " ('Ed', [1]),\n",
      " ('Dayle', [1]),\n",
      " ('Evonne', [1]),\n",
      " ('Doria', [1]),\n",
      " ('Jaime', [1]),\n",
      " ('Verna', [1]),\n",
      " ('Andy', [1]),\n",
      " ('Janet', [1]),\n",
      " ('Joye', [1]),\n",
      " ('Woodie', [1]),\n",
      " ('Carmella', [1]),\n",
      " ('Cat', [1]),\n",
      " ('Margaret', [1]),\n",
      " ('Erna', [1]),\n",
      " ('Barbara-Anne', [1]),\n",
      " ('Christof', [1]),\n",
      " ('Andie', [1]),\n",
      " ('Emmit', [1]),\n",
      " ('Audie', [1]),\n",
      " ('Nero', [1]),\n",
      " ('Omar', [1]),\n",
      " ('Nate', [1]),\n",
      " ('Victor', [1]),\n",
      " ('Aurora', [1]),\n",
      " ('Abbe', [1]),\n",
      " ('Gordie', [1]),\n",
      " ('Missie', [1]),\n",
      " ('Gena', [1]),\n",
      " ('Xenos', [1]),\n",
      " ('Lindy', [1]),\n",
      " ('Camellia', [1]),\n",
      " ('Marcelo', [1]),\n",
      " ('Jeanie', [1]),\n",
      " ('Nettie', [1]),\n",
      " ('Amata', [1]),\n",
      " ('Ferguson', [1]),\n",
      " ('Delilah', [1]),\n",
      " ('Ikey', [1]),\n",
      " ('Lucas', [1]),\n",
      " ('Seth', [1]),\n",
      " ('Rik', [1]),\n",
      " ('Gypsy', [1]),\n",
      " ('Marjorie', [1]),\n",
      " ('Gavin', [1]),\n",
      " ('Anna-Diane', [1]),\n",
      " ('Selena', [1]),\n",
      " ('Adriana', [1]),\n",
      " ('Butler', [1]),\n",
      " ('Camille', [1]),\n",
      " ('Gay', [1]),\n",
      " ('Sol', [1]),\n",
      " ('Westbrook', [1]),\n",
      " ('Christabel', [1]),\n",
      " ('Norris', [1]),\n",
      " ('Thorsten', [1]),\n",
      " ('Zahara', [1]),\n",
      " ('Emmett', [1]),\n",
      " ('Evelina', [1]),\n",
      " ('Aviva', [1]),\n",
      " ('Christie', [1]),\n",
      " ('Marielle', [1]),\n",
      " ('Garry', [1]),\n",
      " ('Amberly', [1]),\n",
      " ('Chrissy', [1]),\n",
      " ('Flossy', [1]),\n",
      " ('Filia', [1]),\n",
      " ('Fiona', [1]),\n",
      " ('Betti', [1]),\n",
      " ('Layton', [1]),\n",
      " ('Bridget', [1]),\n",
      " ('Love', [1]),\n",
      " ('Martie', [1]),\n",
      " ('Courtney', [1]),\n",
      " ('Starla', [1]),\n",
      " ('Radcliffe', [1]),\n",
      " ('Ritch', [1]),\n",
      " ('Nicole', [1]),\n",
      " ('Cristin', [1]),\n",
      " ('Ahmet', [1]),\n",
      " ('Trenton', [1]),\n",
      " ('Neel', [1]),\n",
      " ('Lisette', [1]),\n",
      " ('Johnathon', [1]),\n",
      " ('Maddie', [1]),\n",
      " ('Collete', [1]),\n",
      " ('Westley', [1]),\n",
      " ('Franklin', [1]),\n",
      " ('Theo', [1]),\n",
      " ('Emil', [1]),\n",
      " ('Georgy', [1]),\n",
      " ('Worthy', [1]),\n",
      " ('Geri', [1]),\n",
      " ('Tish', [1]),\n",
      " ('Eustace', [1]),\n",
      " ('Kristopher', [1]),\n",
      " ('Diamond', [1]),\n",
      " ('Hercules', [1]),\n",
      " ('Brook', [1]),\n",
      " ('Wakefield', [1]),\n",
      " ('Dalton', [1]),\n",
      " ('Armand', [1]),\n",
      " ('Nester', [1]),\n",
      " ('Shayla', [1]),\n",
      " ('Sile', [1]),\n",
      " ('Jeane', [1]),\n",
      " ('Abbey', [1]),\n",
      " ('Adolphe', [1]),\n",
      " ('Richie', [1]),\n",
      " ('Orion', [1]),\n",
      " ('Tracey', [1]),\n",
      " ('Reinhard', [1]),\n",
      " ('Margi', [1]),\n",
      " ('Walsh', [1]),\n",
      " ('Tommy', [1]),\n",
      " ('Connie', [1]),\n",
      " ('Wolfy', [1]),\n",
      " ('Herta', [1]),\n",
      " ('Olia', [1]),\n",
      " ('Ignace', [1]),\n",
      " ('Lyndon', [1]),\n",
      " ('Ishmael', [1]),\n",
      " ('Everett', [1]),\n",
      " ('Nunzio', [1]),\n",
      " ('Helena', [1]),\n",
      " ('Shepperd', [1]),\n",
      " ('Kipp', [1]),\n",
      " ('Jamie', [1]),\n",
      " ('Sheri', [1]),\n",
      " ('Gonzalo', [1]),\n",
      " ('Weston', [1]),\n",
      " ('Tia', [1]),\n",
      " ('Cher', [1]),\n",
      " ('Winthrop', [1]),\n",
      " ('Annie', [1]),\n",
      " ('Augusta', [1]),\n",
      " ('Sturgis', [1]),\n",
      " ('Rhoda', [1]),\n",
      " ('Nichols', [1]),\n",
      " ('Ramona', [1]),\n",
      " ('Addie', [1]),\n",
      " ('Carmela', [1]),\n",
      " ('Dania', [1]),\n",
      " ('Maggi', [1]),\n",
      " ('Ricardo', [1]),\n",
      " ('Wye', [1]),\n",
      " ('Marty', [1]),\n",
      " ('Benton', [1]),\n",
      " ('Katherine', [1]),\n",
      " ('Shel', [1]),\n",
      " ('Garp', [1]),\n",
      " ('Marta', [1]),\n",
      " ('Sue', [1]),\n",
      " ('Harvey', [1]),\n",
      " ('Krissy', [1]),\n",
      " ('Pollyanna', [1]),\n",
      " ('Sergent', [1]),\n",
      " ('Willem', [1]),\n",
      " ('Ladonna', [1]),\n",
      " ('Lil', [1]),\n",
      " ('Richmond', [1]),\n",
      " ('Bee', [1]),\n",
      " ('Randell', [1]),\n",
      " ('Davie', [1]),\n",
      " ('Lothar', [1]),\n",
      " ('Andre', [1]),\n",
      " ('Rosella', [1]),\n",
      " ('Nyssa', [1]),\n",
      " ('Kenna', [1]),\n",
      " ('Ray', [1]),\n",
      " ('Cornelius', [1]),\n",
      " ('Camel', [1]),\n",
      " ('Roze', [1]),\n",
      " ('Flynn', [1]),\n",
      " ('Marion', [1]),\n",
      " ('Adeline', [1]),\n",
      " ('Shea', [1]),\n",
      " ('Theda', [1]),\n",
      " ('Mickie', [1]),\n",
      " ('Kacie', [1]),\n",
      " ('Jayne', [1]),\n",
      " ('Fernandina', [1]),\n",
      " ('Levon', [1]),\n",
      " ('Vinny', [1]),\n",
      " ('Sandro', [1]),\n",
      " ('Carlie', [1]),\n",
      " ('Kathryn', [1]),\n",
      " ('Bing', [1]),\n",
      " ('Helga', [1]),\n",
      " ('Jeannine', [1]),\n",
      " ('Worthington', [1]),\n",
      " ('Jourdan', [1]),\n",
      " ('Charmaine', [1]),\n",
      " ('Benn', [1]),\n",
      " ('Godfrey', [1]),\n",
      " ('Henrietta', [1]),\n",
      " ('Arlyn', [1]),\n",
      " ('Benedict', [1]),\n",
      " ('Bernie', [1]),\n",
      " ('Lauryn', [1]),\n",
      " ('Jen', [1]),\n",
      " ('Tabatha', [1]),\n",
      " ('Marko', [1]),\n",
      " ('Daryn', [1]),\n",
      " ('Hilary', [1]),\n",
      " ('Waldo', [1]),\n",
      " ('Morse', [1]),\n",
      " ('Gabriella', [1]),\n",
      " ('Denna', [1]),\n",
      " ('Biff', [1]),\n",
      " ('Marietta', [1]),\n",
      " ('Corby', [1]),\n",
      " ('Shell', [1]),\n",
      " ('Chuck', [1]),\n",
      " ('Giselle', [1]),\n",
      " ('Al', [1]),\n",
      " ('Eddie', [1]),\n",
      " ('Lin', [1]),\n",
      " ('Esther', [1]),\n",
      " ('Quent', [1]),\n",
      " ('Ashley', [1]),\n",
      " ('Nikita', [1]),\n",
      " ('Carlin', [1]),\n",
      " ('Vanna', [1]),\n",
      " ('Jethro', [1]),\n",
      " ('Gae', [1]),\n",
      " ('Gale', [1]),\n",
      " ('Evie', [1]),\n",
      " ('Giorgi', [1]),\n",
      " ('Marry', [1]),\n",
      " ('Harris', [1]),\n",
      " ('Daphne', [1]),\n",
      " ('Mirella', [1]),\n",
      " ('Kaitlyn', [1]),\n",
      " ('Pia', [1]),\n",
      " ('Hallie', [1]),\n",
      " ('Edi', [1]),\n",
      " ('Earle', [1]),\n",
      " ('Vinny', [1]),\n",
      " ('Baily', [1]),\n",
      " ('Morty', [1]),\n",
      " ('Damara', [1]),\n",
      " ('Ira', [1]),\n",
      " ('Lamar', [1]),\n",
      " ('Anya', [1]),\n",
      " ('Gates', [1]),\n",
      " ('Adrien', [1]),\n",
      " ('Ebenezer', [1]),\n",
      " ('Cammy', [1]),\n",
      " ('Vivien', [1]),\n",
      " ('Beatriz', [1]),\n",
      " ('Zelda', [1]),\n",
      " ('Wynne', [1]),\n",
      " ('Stefano', [1]),\n",
      " ('Roselyn', [1]),\n",
      " ('Drea', [1]),\n",
      " ('Bertram', [1]),\n",
      " ('Kiersten', [1]),\n",
      " ('Millicent', [1]),\n",
      " ('Rajeev', [1]),\n",
      " ('Chanda', [1]),\n",
      " ('Gus', [1]),\n",
      " ('Merlin', [1]),\n",
      " ('Northrop', [1]),\n",
      " ('Hunter', [1]),\n",
      " ('Rebekah', [1]),\n",
      " ('Meir', [1]),\n",
      " ('Elliott', [1]),\n",
      " ('Peta', [1]),\n",
      " ('Sioux', [1]),\n",
      " ('Edie', [1]),\n",
      " ('Mitzi', [1]),\n",
      " ('Sandi', [1]),\n",
      " ('Bettie', [1]),\n",
      " ('Shep', [1]),\n",
      " ('Herby', [1]),\n",
      " ('Merle', [1]),\n",
      " ('Shalom', [1]),\n",
      " ('Goldie', [1]),\n",
      " ('Melba', [1]),\n",
      " ('Roseanna', [1]),\n",
      " ('Yank', [1]),\n",
      " ('Zerk', [1]),\n",
      " ('Josefina', [1]),\n",
      " ('Tarrant', [1]),\n",
      " ('Cristal', [1]),\n",
      " ('Gwyn', [1]),\n",
      " ('Durante', [1]),\n",
      " ('Kori', [1]),\n",
      " ('Mohammed', [1]),\n",
      " ('Meaghan', [1]),\n",
      " ('Anastasia', [1]),\n",
      " ('Nani', [1]),\n",
      " ('Malinda', [1]),\n",
      " ('Harrold', [1]),\n",
      " ('Kit', [1]),\n",
      " ('Wallie', [1]),\n",
      " ('Alameda', [1]),\n",
      " ('Faina', [1]),\n",
      " ('Doreen', [1]),\n",
      " ('Laurie', [1]),\n",
      " ('Noe', [1]),\n",
      " ('Simon', [1]),\n",
      " ('Annemarie', [1]),\n",
      " ('Laureen', [1]),\n",
      " ('Shelden', [1]),\n",
      " ('Freddi', [1]),\n",
      " ('Thom', [1]),\n",
      " ('Shayna', [1]),\n",
      " ('Boyd', [1]),\n",
      " ('Carli', [1]),\n",
      " ('Terrence', [1]),\n",
      " ('Puff', [1]),\n",
      " ('Sebastian', [1]),\n",
      " ('Minerva', [1]),\n",
      " ('Terri', [1]),\n",
      " ('Fannie', [1]),\n",
      " ('Padraig', [1]),\n",
      " ('Johnnie', [1]),\n",
      " ('Doti', [1]),\n",
      " ('Joel', [1]),\n",
      " ('Jan', [1]),\n",
      " ('Karin', [1]),\n",
      " ('Jakob', [1]),\n",
      " ('Ricki', [1]),\n",
      " ('Maddy', [1]),\n",
      " ('Madelaine', [1]),\n",
      " ('Bart', [1]),\n",
      " ('Jessi', [1]),\n",
      " ('Humphrey', [1]),\n",
      " ('Nata', [1]),\n",
      " ('Neda', [1]),\n",
      " ('Lorraine', [1]),\n",
      " ('Brodie', [1]),\n",
      " ('Kerri', [1]),\n",
      " ('Kala', [1]),\n",
      " ('Letty', [1]),\n",
      " ('Pip', [1]),\n",
      " ('Fonzie', [1]),\n",
      " ('Lovell', [1]),\n",
      " ('Bruce', [1]),\n",
      " ('Nada', [1]),\n",
      " ('Igor', [1]),\n",
      " ('Mugsy', [1]),\n",
      " ('Juliana', [1]),\n",
      " ('Pat', [1]),\n",
      " ('Regan', [1]),\n",
      " ('Billie', [1]),\n",
      " ('Moshe', [1]),\n",
      " ('Irena', [1]),\n",
      " ('Jeffery', [1]),\n",
      " ('Lockwood', [1]),\n",
      " ('Stern', [1]),\n",
      " ('Celesta', [1]),\n",
      " ('Winfield', [1]),\n",
      " ('Logan', [1]),\n",
      " ('Fredi', [1]),\n",
      " ('Colleen', [1]),\n",
      " ('Johny', [1]),\n",
      " ('Pam', [1]),\n",
      " ('Ismail', [1]),\n",
      " ('Alfie', [1]),\n",
      " ('Marion', [1]),\n",
      " ('Maribeth', [1]),\n",
      " ('Dean', [1]),\n",
      " ('Pierre', [1]),\n",
      " ('Gideon', [1]),\n",
      " ('Margo', [1]),\n",
      " ('Sayre', [1]),\n",
      " ('Voltaire', [1]),\n",
      " ('Merci', [1]),\n",
      " ('Wes', [1]),\n",
      " ('Masha', [1]),\n",
      " ('Tommy', [1]),\n",
      " ('Morgen', [1]),\n",
      " ('Opal', [1]),\n",
      " ('Meryl', [1]),\n",
      " ('Pippy', [1]),\n",
      " ('Sharla', [1]),\n",
      " ('Babs', [1]),\n",
      " ('Kory', [1]),\n",
      " ('Saxe', [1]),\n",
      " ('Bonnie', [1]),\n",
      " ('Davey', [1]),\n",
      " ('Hilliary', [1]),\n",
      " ('Erina', [1]),\n",
      " ('Brittany', [1]),\n",
      " ('Emlyn', [1]),\n",
      " ('Pearle', [1]),\n",
      " ('Gaynor', [1]),\n",
      " ('Braden', [1]),\n",
      " ('Hazel', [1]),\n",
      " ('Jennie', [1]),\n",
      " ('Darcy', [1]),\n",
      " ('Halli', [1]),\n",
      " ('Harmon', [1]),\n",
      " ('Filmore', [1]),\n",
      " ('Berta', [1]),\n",
      " ('Celle', [1]),\n",
      " ('Schuyler', [1]),\n",
      " ('Lavinia', [1]),\n",
      " ('See', [1]),\n",
      " ('Gonzales', [1]),\n",
      " ('Robin', [1]),\n",
      " ('Merrill', [1]),\n",
      " ('Brad', [1]),\n",
      " ('Ambrosio', [1]),\n",
      " ('Marguerite', [1]),\n",
      " ('Conny', [1]),\n",
      " ('Debi', [1]),\n",
      " ('Haley', [1]),\n",
      " ('Royce', [1]),\n",
      " ('Daryl', [1]),\n",
      " ('Fergus', [1]),\n",
      " ('Gracia', [1]),\n",
      " ('Abdullah', [1]),\n",
      " ('Paola', [1]),\n",
      " ('Blanch', [1]),\n",
      " ('Laina', [1]),\n",
      " ('Kendrick', [1]),\n",
      " ('Merill', [1]),\n",
      " ('Katherina', [1]),\n",
      " ('Yankee', [1]),\n",
      " ('Obie', [1]),\n",
      " ('Johann', [1]),\n",
      " ('Edwina', [1]),\n",
      " ('Devon', [1]),\n",
      " ('Christophe', [1]),\n",
      " ('Florencia', [1]),\n",
      " ('Astra', [1]),\n",
      " ('Cathie', [1]),\n",
      " ('Angele', [1]),\n",
      " ('Alysa', [1]),\n",
      " ('Marilu', [1]),\n",
      " ('Kristan', [1]),\n",
      " ('Fifi', [1]),\n",
      " ('Gardiner', [1]),\n",
      " ('Matty', [1]),\n",
      " ('Elsa', [1]),\n",
      " ('Emile', [1]),\n",
      " ('Sebastien', [1]),\n",
      " ('Krishna', [1]),\n",
      " ('Millicent', [1]),\n",
      " ('Issy', [1]),\n",
      " ('Sven', [1]),\n",
      " ('Trace', [1]),\n",
      " ('Hilbert', [1]),\n",
      " ('Vernon', [1]),\n",
      " ('Pooh', [1]),\n",
      " ('Ethan', [1]),\n",
      " ('Madalyn', [1]),\n",
      " ('Rutger', [1]),\n",
      " ('Dodi', [1]),\n",
      " ('Hugo', [1]),\n",
      " ('Geri', [1]),\n",
      " ('Berri', [1]),\n",
      " ('Evangelina', [1]),\n",
      " ('Hanni', [1]),\n",
      " ('Vladimir', [1]),\n",
      " ('Hayley', [1]),\n",
      " ('Ivy', [1]),\n",
      " ('Giancarlo', [1]),\n",
      " ('Thaddeus', [1]),\n",
      " ('Robby', [1]),\n",
      " ('Petunia', [1]),\n",
      " ('Pearl', [1]),\n",
      " ('Leigh', [1]),\n",
      " ('Rodger', [1]),\n",
      " ('Laurance', [1]),\n",
      " ('Keeley', [1]),\n",
      " ('David', [1]),\n",
      " ('Yancey', [1]),\n",
      " ('Sherwood', [1]),\n",
      " ('Roosevelt', [1]),\n",
      " ('Atalanta', [1]),\n",
      " ('Rolland', [1]),\n",
      " ('Hewett', [1]),\n",
      " ('Torie', [1]),\n",
      " ('Don', [1]),\n",
      " ('Reilly', [1]),\n",
      " ('Thea', [1]),\n",
      " ('Patin', [1]),\n",
      " ('Stace', [1]),\n",
      " ('Wallie', [1]),\n",
      " ('Ronnie', [1]),\n",
      " ('Stu', [1]),\n",
      " ('Dan', [1]),\n",
      " ('Imelda', [1]),\n",
      " ('Milt', [1]),\n",
      " ('Garcia', [1]),\n",
      " ('Beale', [1]),\n",
      " ('Marcia', [1]),\n",
      " ('Quentin', [1]),\n",
      " ('Sherry', [1]),\n",
      " ('Ambrosia', [1]),\n",
      " ('Clare', [1]),\n",
      " ('Luella', [1]),\n",
      " ('Lilia', [1]),\n",
      " ('Webster', [1]),\n",
      " ('Adora', [1]),\n",
      " ('Samaria', [1]),\n",
      " ('Shawn', [1]),\n",
      " ('Elinor', [1]),\n",
      " ('Lilian', [1]),\n",
      " ('Minny', [1]),\n",
      " ('Stearn', [1]),\n",
      " ('Richy', [1]),\n",
      " ('Lana', [1]),\n",
      " ('Flor', [1]),\n",
      " ('Liliane', [1]),\n",
      " ('Harmony', [1]),\n",
      " ('Ted', [1]),\n",
      " ('Bambi', [1]),\n",
      " ('Curt', [1]),\n",
      " ('Gigi', [1]),\n",
      " ('Melly', [1]),\n",
      " ('Fran', [1]),\n",
      " ('Avis', [1]),\n",
      " ('Clarissa', [1]),\n",
      " ('Tanya', [1]),\n",
      " ('Carl', [1]),\n",
      " ('Llewellyn', [1]),\n",
      " ('Townie', [1]),\n",
      " ('Alwin', [1]),\n",
      " ('Doyle', [1]),\n",
      " ('Prentiss', [1]),\n",
      " ('Pasquale', [1]),\n",
      " ('Oran', [1]),\n",
      " ('Darrel', [1]),\n",
      " ('Franny', [1]),\n",
      " ('Debra', [1]),\n",
      " ('Sting', [1]),\n",
      " ('Yoko', [1]),\n",
      " ('Vick', [1]),\n",
      " ('Abelard', [1]),\n",
      " ('Gibb', [1]),\n",
      " ('Odysseus', [1]),\n",
      " ('Collette', [1]),\n",
      " ('Montgomery', [1]),\n",
      " ('Jori', [1]),\n",
      " ('Osborn', [1]),\n",
      " ('Stirling', [1]),\n",
      " ('Pier', [1]),\n",
      " ('Sondra', [1]),\n",
      " ('Mohamed', [1]),\n",
      " ('Jordan', [1]),\n",
      " ('Darla', [1]),\n",
      " ('Filbert', [1]),\n",
      " ('Louis', [1]),\n",
      " ('Joanna', [1]),\n",
      " ('Lorene', [1]),\n",
      " ('Rolfe', [1]),\n",
      " ('Pavia', [1]),\n",
      " ('Gipsy', [1]),\n",
      " ('Mignon', [1]),\n",
      " ('Colbert', [1]),\n",
      " ('Raine', [1]),\n",
      " ('Damon', [1]),\n",
      " ('Blaire', [1]),\n",
      " ('Milena', [1]),\n",
      " ('Sonia', [1]),\n",
      " ('Tuesday', [1]),\n",
      " ('Otes', [1]),\n",
      " ('Ariadne', [1]),\n",
      " ('Nikkie', [1]),\n",
      " ('Sascha', [1]),\n",
      " ('Faye', [1]),\n",
      " ('Nadya', [1]),\n",
      " ('Alfonzo', [1]),\n",
      " ('Micky', [1]),\n",
      " ('Nikos', [1]),\n",
      " ('Bartlet', [1]),\n",
      " ('Mellissa', [1]),\n",
      " ('Analise', [1]),\n",
      " ('Calhoun', [1]),\n",
      " ('Brian', [1]),\n",
      " ('Muhammad', [1]),\n",
      " ('Bernice', [1]),\n",
      " ('Zola', [1]),\n",
      " ('Dannie', [1]),\n",
      " ('Amery', [1]),\n",
      " ('Babette', [1]),\n",
      " ('Lamb', [1]),\n",
      " ('Tommi', [1]),\n",
      " ('Natalee', [1]),\n",
      " ('Lida', [1]),\n",
      " ('Case', [1]),\n",
      " ('Loleta', [1]),\n",
      " ('Jenette', [1]),\n",
      " ('Cory', [1]),\n",
      " ('Konstantin', [1]),\n",
      " ('Dorry', [1]),\n",
      " ('Laurence', [1]),\n",
      " ('Hermy', [1]),\n",
      " ('Giovanna', [1]),\n",
      " ('Carola', [1]),\n",
      " ('Marcy', [1]),\n",
      " ('Adele', [1]),\n",
      " ('Diane', [1]),\n",
      " ('Ellwood', [1]),\n",
      " ('Morry', [1]),\n",
      " ('Goddard', [1]),\n",
      " ('Jennette', [1]),\n",
      " ('Juli', [1]),\n",
      " ('Barbie', [1]),\n",
      " ('Simone', [1]),\n",
      " ('Loria', [1]),\n",
      " ('Lula', [1]),\n",
      " ('Archon', [1]),\n",
      " ('Agata', [1]),\n",
      " ('Rosita', [1]),\n",
      " ('Gunther', [1]),\n",
      " ('Blithe', [1]),\n",
      " ('Chen', [1]),\n",
      " ('Forrest', [1]),\n",
      " ('Giacomo', [1]),\n",
      " ('Bud', [1]),\n",
      " ('Susannah', [1]),\n",
      " ('Sloan', [1]),\n",
      " ('Darby', [1]),\n",
      " ('Ender', [1]),\n",
      " ('Erma', [1]),\n",
      " ('Susy', [1]),\n",
      " ('Roseann', [1]),\n",
      " ('Eduard', [1]),\n",
      " ('Saxon', [1]),\n",
      " ('Alanah', [1]),\n",
      " ('West', [1]),\n",
      " ('Harmonie', [1]),\n",
      " ('Marie-Jeanne', [1]),\n",
      " ('Rhianna', [1]),\n",
      " ('Stormie', [1]),\n",
      " ('Cristopher', [1]),\n",
      " ('Byron', [1]),\n",
      " ('Prescott', [1]),\n",
      " ('George', [1]),\n",
      " ('Heidi', [1]),\n",
      " ('Kalvin', [1]),\n",
      " ('Libby', [1]),\n",
      " ('Owen', [1]),\n",
      " ('Dane', [1]),\n",
      " ('Stanislaw', [1]),\n",
      " ('Piotr', [1]),\n",
      " ('Penny', [1]),\n",
      " ('Friedrich', [1]),\n",
      " ('Jerry', [1]),\n",
      " ('Nickey', [1]),\n",
      " ('Brianne', [1]),\n",
      " ('Ines', [1]),\n",
      " ('Camilla', [1]),\n",
      " ('Yvonne', [1]),\n",
      " ('Reyna', [1]),\n",
      " ('Darya', [1]),\n",
      " ('Garnet', [1]),\n",
      " ('Bronson', [1]),\n",
      " ('Tedd', [1]),\n",
      " ('Lyle', [1]),\n",
      " ('Alecia', [1]),\n",
      " ('Elwood', [1]),\n",
      " ('Torrence', [1]),\n",
      " ('Matthew', [1]),\n",
      " ('Annabell', [1]),\n",
      " ('Judson', [1]),\n",
      " ('Curtis', [1]),\n",
      " ('Nannie', [1]),\n",
      " ('Alli', [1]),\n",
      " ('Rena', [1]),\n",
      " ('Ainsley', [1]),\n",
      " ('Malcolm', [1]),\n",
      " ('Kara', [1]),\n",
      " ('Nikki', [1]),\n",
      " ('Ram', [1]),\n",
      " ('Allegra', [1]),\n",
      " ('Domenico', [1]),\n",
      " ('Gen', [1]),\n",
      " ('Talbert', [1]),\n",
      " ('Tore', [1]),\n",
      " ('Alexandra', [1]),\n",
      " ('Hollis', [1]),\n",
      " ('Les', [1]),\n",
      " ('Ilana', [1]),\n",
      " ('Desdemona', [1]),\n",
      " ('Charla', [1]),\n",
      " ('Elysia', [1]),\n",
      " ('Lawson', [1]),\n",
      " ('Leola', [1]),\n",
      " ('Dieter', [1]),\n",
      " ('Aurelie', [1]),\n",
      " ('Reba', [1]),\n",
      " ('Hartley', [1]),\n",
      " ('Daisey', [1]),\n",
      " ('Gina', [1]),\n",
      " ('Shorty', [1]),\n",
      " ('Putnam', [1]),\n",
      " ('Irina', [1]),\n",
      " ('Minnie', [1]),\n",
      " ('Kip', [1]),\n",
      " ('Freddy', [1]),\n",
      " ('Renata', [1]),\n",
      " ('Elmer', [1]),\n",
      " ('Joslyn', [1]),\n",
      " ('Michal', [1]),\n",
      " ('Ella', [1]),\n",
      " ('Stephanie', [1]),\n",
      " ('Sal', [1]),\n",
      " ('Chery', [1]),\n",
      " ('Rikki', [1]),\n",
      " ('Nena', [1]),\n",
      " ('Eduardo', [1]),\n",
      " ('Elyssa', [1]),\n",
      " ('Josephus', [1]),\n",
      " ('Hayes', [1]),\n",
      " ('Judah', [1]),\n",
      " ('Jermaine', [1]),\n",
      " ('Cherie', [1]),\n",
      " ('Esteban', [1]),\n",
      " ('Jasmine', [1]),\n",
      " ('Danna', [1]),\n",
      " ('Shell', [1]),\n",
      " ('Alix', [1]),\n",
      " ('Bren', [1]),\n",
      " ('Jessie', [1]),\n",
      " ('Lianne', [1]),\n",
      " ('Ruddy', [1]),\n",
      " ('Amy', [1]),\n",
      " ('Carmine', [1]),\n",
      " ('Lucinda', [1]),\n",
      " ('Sabra', [1]),\n",
      " ('Fredrick', [1]),\n",
      " ('Gunter', [1]),\n",
      " ('Dorothy', [1]),\n",
      " ('Galen', [1]),\n",
      " ('Chandler', [1]),\n",
      " ('Del', [1]),\n",
      " ('Newton', [1]),\n",
      " ('Dana', [1]),\n",
      " ('Dani', [1]),\n",
      " ('Xerxes', [1]),\n",
      " ('Beret', [1]),\n",
      " ('Pablo', [1]),\n",
      " ('Wait', [1]),\n",
      " ('Tom', [1]),\n",
      " ('Celeste', [1]),\n",
      " ('Bradly', [1]),\n",
      " ('Edmund', [1]),\n",
      " ('Waylon', [1]),\n",
      " ('Chris', [1]),\n",
      " ('Rachael', [1]),\n",
      " ('Moe', [1]),\n",
      " ('Arlie', [1]),\n",
      " ('Norma', [1]),\n",
      " ('Andrzej', [1]),\n",
      " ('Christin', [1]),\n",
      " ('Deny', [1]),\n",
      " ('Fritz', [1]),\n",
      " ('Ave', [1]),\n",
      " ('Letta', [1]),\n",
      " ('Anne-Marie', [1]),\n",
      " ('Mira', [1]),\n",
      " ('Burnaby', [1]),\n",
      " ('Mercy', [1]),\n",
      " ('Lindsy', [1]),\n",
      " ('Rex', [1]),\n",
      " ('Charles', [1]),\n",
      " ('Claude', [1]),\n",
      " ('Debbi', [1]),\n",
      " ('Gusty', [1]),\n",
      " ('Keenan', [1]),\n",
      " ('Gilligan', [1]),\n",
      " ('Mindy', [1]),\n",
      " ('Marmaduke', [1]),\n",
      " ('Lonnie', [1]),\n",
      " ('Yehudi', [1]),\n",
      " ('Cobby', [1]),\n",
      " ('Ken', [1]),\n",
      " ('Reina', [1]),\n",
      " ('Trev', [1]),\n",
      " ('Alexi', [1]),\n",
      " ('Carrie', [1]),\n",
      " ('Fawn', [1]),\n",
      " ('Darian', [1]),\n",
      " ('Marty', [1]),\n",
      " ('Anthea', [1]),\n",
      " ('Mahalia', [1]),\n",
      " ('Shelby', [1]),\n",
      " ('Tiana', [1]),\n",
      " ('Toby', [1]),\n",
      " ('Faun', [1]),\n",
      " ('Pamela', [1]),\n",
      " ('Dotti', [1]),\n",
      " ('Elana', [1]),\n",
      " ('Shanda', [1]),\n",
      " ('Rosana', [1]),\n",
      " ('Luciano', [1]),\n",
      " ('Gerome', [1]),\n",
      " ('Sam', [1]),\n",
      " ('Agustin', [1]),\n",
      " ('Tamara', [1]),\n",
      " ('Petrina', [1]),\n",
      " ('Lissy', [1]),\n",
      " ('Molly', [1]),\n",
      " ('Ellsworth', [1]),\n",
      " ('Elfie', [1]),\n",
      " ('Joaquin', [1]),\n",
      " ('Hammad', [1]),\n",
      " ('Gaston', [1]),\n",
      " ('Elene', [1]),\n",
      " ('Gustavo', [1]),\n",
      " ('Berny', [1]),\n",
      " ('Mandy', [1]),\n",
      " ('Rodolfo', [1]),\n",
      " ('Austin', [1]),\n",
      " ('Fulton', [1]),\n",
      " ('Torrey', [1]),\n",
      " ('Astrix', [1]),\n",
      " ('Park', [1]),\n",
      " ('Anet', [1]),\n",
      " ('Geneva', [1]),\n",
      " ('Candi', [1]),\n",
      " ('Silvana', [1]),\n",
      " ('Bryn', [1]),\n",
      " ('Ronny', [1]),\n",
      " ('Yelena', [1]),\n",
      " ('Rosamund', [1]),\n",
      " ('Rog', [1]),\n",
      " ('Hernando', [1]),\n",
      " ('Shane', [1]),\n",
      " ('Walther', [1]),\n",
      " ('Scottie', [1]),\n",
      " ('Romy', [1]),\n",
      " ('Pammy', [1]),\n",
      " ('Betsy', [1]),\n",
      " ('Dede', [1]),\n",
      " ('Hiro', [1]),\n",
      " ('Clem', [1]),\n",
      " ('Didi', [1]),\n",
      " ('Pascale', [1]),\n",
      " ('Anais', [1]),\n",
      " ('Francesco', [1]),\n",
      " ('Yigal', [1]),\n",
      " ('Jillian', [1]),\n",
      " ('Hilton', [1]),\n",
      " ('Hailey', [1]),\n",
      " ('Willie', [1]),\n",
      " ('Udell', [1]),\n",
      " ('Abner', [1]),\n",
      " ('Elyn', [1]),\n",
      " ('Warner', [1]),\n",
      " ('Coraline', [1]),\n",
      " ('Ryan', [1]),\n",
      " ('Salli', [1]),\n",
      " ('Kyle', [1]),\n",
      " ('Tito', [1]),\n",
      " ('Antony', [1]),\n",
      " ('Brena', [1]),\n",
      " ('Lissa', [1]),\n",
      " ('Torrie', [1]),\n",
      " ('Harry', [1]),\n",
      " ('Jody', [1]),\n",
      " ('Guido', [1]),\n",
      " ('Ferdie', [1]),\n",
      " ('Carol-Jean', [1]),\n",
      " ('Clayton', [1]),\n",
      " ('Teddy', [1]),\n",
      " ('Emma', [1]),\n",
      " ('Patrice', [1]),\n",
      " ('Tod', [1]),\n",
      " ('Jodie', [1]),\n",
      " ('Francoise', [1]),\n",
      " ('Venus', [1]),\n",
      " ('Isabel', [1]),\n",
      " ('Luigi', [1]),\n",
      " ('Frans', [1]),\n",
      " ('Harrison', [1]),\n",
      " ('Nestor', [1]),\n",
      " ('Catie', [1]),\n",
      " ('Jeanette', [1]),\n",
      " ('Myles', [1]),\n",
      " ('Amity', [1]),\n",
      " ('Denys', [1]),\n",
      " ('Biddy', [1]),\n",
      " ('Mercedes', [1]),\n",
      " ('Polly', [1]),\n",
      " ('Arther', [1]),\n",
      " ('Sheryl', [1]),\n",
      " ('Creighton', [1]),\n",
      " ('Hal', [1]),\n",
      " ('Melita', [1]),\n",
      " ('Baillie', [1]),\n",
      " ('Crysta', [1]),\n",
      " ('Terry', [1]),\n",
      " ('Darci', [1]),\n",
      " ('Trudy', [1]),\n",
      " ('Allyn', [1]),\n",
      " ('Fox', [1]),\n",
      " ('Dari', [1]),\n",
      " ('Alana', [1]),\n",
      " ('Hersh', [1]),\n",
      " ('Joey', [1]),\n",
      " ('Carolina', [1]),\n",
      " ('Kaja', [1]),\n",
      " ('Kalil', [1]),\n",
      " ('Karen', [1]),\n",
      " ('Waiter', [1]),\n",
      " ('Hussein', [1]),\n",
      " ('Mommy', [1]),\n",
      " ('Renae', [1]),\n",
      " ('Sherlock', [1]),\n",
      " ('Winifred', [1]),\n",
      " ('Melanie', [1]),\n",
      " ('Gabriele', [1]),\n",
      " ('Josie', [1]),\n",
      " ('Albatros', [1]),\n",
      " ('Weider', [1]),\n",
      " ('Steffie', [1]),\n",
      " ('Guillaume', [1]),\n",
      " ('Erwin', [1]),\n",
      " ('Thorpe', [1]),\n",
      " ('Ned', [1]),\n",
      " ('Junie', [1]),\n",
      " ('Niels', [1]),\n",
      " ('Dwayne', [1]),\n",
      " ('Merwin', [1]),\n",
      " ('Andros', [1]),\n",
      " ('Ty', [1]),\n",
      " ('Denise', [1]),\n",
      " ('Kenneth', [1]),\n",
      " ('Wally', [1]),\n",
      " ('Kenyon', [1]),\n",
      " ('Cathleen', [1]),\n",
      " ('Geraldo', [1]),\n",
      " ('Valery', [1]),\n",
      " ('Julio', [1]),\n",
      " ('Tracee', [1]),\n",
      " ('Gretel', [1]),\n",
      " ('Nickie', [1]),\n",
      " ('Marga', [1]),\n",
      " ('Amelie', [1]),\n",
      " ('Oren', [1]),\n",
      " ('Rina', [1]),\n",
      " ('Ollie', [1]),\n",
      " ('Carmen', [1]),\n",
      " ('Lloyd', [1]),\n",
      " ('Hatti', [1]),\n",
      " ('Shay', [1]),\n",
      " ('Kelsey', [1]),\n",
      " ('Hillery', [1]),\n",
      " ('Nathaniel', [1]),\n",
      " ('Armando', [1]),\n",
      " ('Josiah', [1]),\n",
      " ('Tella', [1]),\n",
      " ('Casie', [1]),\n",
      " ('Lamont', [1]),\n",
      " ('Daffy', [1]),\n",
      " ('Farra', [1]),\n",
      " ('Uli', [1]),\n",
      " ('Francois', [1]),\n",
      " ('Leela', [1]),\n",
      " ('Pris', [1]),\n",
      " ('Erinn', [1]),\n",
      " ('Tynan', [1]),\n",
      " ('Aura', [1]),\n",
      " ('Marshal', [1]),\n",
      " ('Antonin', [1]),\n",
      " ('Bree', [1]),\n",
      " ('Arron', [1]),\n",
      " ('Quincey', [1]),\n",
      " ('Cassandra', [1]),\n",
      " ('Kally', [1]),\n",
      " ('Mari', [1]),\n",
      " ('Buster', [1]),\n",
      " ('Worden', [1]),\n",
      " ('Corrina', [1]),\n",
      " ('Natalia', [1]),\n",
      " ('Blondy', [1]),\n",
      " ('Selina', [1]),\n",
      " ('Mildred', [1]),\n",
      " ('Geraldine', [1]),\n",
      " ('Patrica', [1]),\n",
      " ('Meyer', [1]),\n",
      " ('Rutherford', [1]),\n",
      " ('Ally', [1]),\n",
      " ('Patrice', [1]),\n",
      " ('Dominick', [1]),\n",
      " ('Chastity', [1]),\n",
      " ('Laure', [1]),\n",
      " ('Skipp', [1]),\n",
      " ('Tally', [1]),\n",
      " ('Patrizia', [1]),\n",
      " ('Wash', [1]),\n",
      " ('Shirl', [1]),\n",
      " ('Alyson', [1]),\n",
      " ('Leopold', [1]),\n",
      " ('Philomena', [1]),\n",
      " ('Fairfax', [1]),\n",
      " ('Kirsti', [1]),\n",
      " ('Dina', [1]),\n",
      " ('Jean', [1]),\n",
      " ('Bria', [1]),\n",
      " ('Belle', [1]),\n",
      " ('Iggy', [1]),\n",
      " ('Melinda', [1]),\n",
      " ('Leighton', [1]),\n",
      " ('Ivory', [1]),\n",
      " ('Fletcher', [1]),\n",
      " ('Davidson', [1]),\n",
      " ('Myke', [1]),\n",
      " ('Adria', [1]),\n",
      " ('Diane-Marie', [1]),\n",
      " ('Mick', [1]),\n",
      " ('Kalina', [1]),\n",
      " ('Leland', [1]),\n",
      " ('Connie', [1]),\n",
      " ('Jay', [1]),\n",
      " ('Ehud', [1]),\n",
      " ('Wilmer', [1]),\n",
      " ('Siddhartha', [1]),\n",
      " ('Rene', [1]),\n",
      " ('Amalie', [1]),\n",
      " ('Clem', [1]),\n",
      " ('Berk', [1]),\n",
      " ('Dwight', [1]),\n",
      " ('Lindsay', [1]),\n",
      " ('Merry', [1]),\n",
      " ('Carlin', [1]),\n",
      " ('Von', [1]),\n",
      " ('Dom', [1]),\n",
      " ('Thatcher', [1]),\n",
      " ('Manda', [1]),\n",
      " ('Lanna', [1]),\n",
      " ('Antonia', [1]),\n",
      " ('Teddie', [1]),\n",
      " ('Germain', [1]),\n",
      " ('Haven', [1]),\n",
      " ('Channa', [1]),\n",
      " ('Dusty', [1]),\n",
      " ('Vergil', [1]),\n",
      " ('Rudolph', [1]),\n",
      " ('Christiano', [1]),\n",
      " ('Tana', [1]),\n",
      " ('Emmi', [1]),\n",
      " ('Meredith', [1]),\n",
      " ('Stig', [1]),\n",
      " ('Manon', [1]),\n",
      " ('Olimpia', [1]),\n",
      " ('Jodi', [1]),\n",
      " ('Coral', [1]),\n",
      " ('Audi', [1]),\n",
      " ('Emmy', [1]),\n",
      " ('Clinton', [1]),\n",
      " ('Dimitris', [1]),\n",
      " ('Storey', [1]),\n",
      " ('Patsy', [1]),\n",
      " ('Tonya', [1]),\n",
      " ('Jefferey', [1]),\n",
      " ('Augustine', [1]),\n",
      " ('Enrique', [1]),\n",
      " ('Butch', [1]),\n",
      " ('Sadie', [1]),\n",
      " ('Jorge', [1]),\n",
      " ('Devin', [1])]\n"
     ]
    }
   ],
   "source": [
    "predictions = []\n",
    "\n",
    "for x_batch, _ in val_dataloader:\n",
    "    p_batch = infer_batch(f, x_batch, device).cpu().numpy().tolist()\n",
    "    predictions.extend(p_batch)\n",
    "    \n",
    "from pprint import pprint\n",
    "pprint(list(zip(names_val, predictions)))"
   ]
  },
  {
   "cell_type": "markdown",
   "metadata": {},
   "source": [
    "Very convincing! What are these word vectors and how are they helping our network predict baby genders?  🤔\n",
    "\n",
    "Do the first assignment and find out!"
   ]
  },
  {
   "cell_type": "markdown",
   "metadata": {},
   "source": [
    "---"
   ]
  }
 ],
 "metadata": {
  "kernelspec": {
   "display_name": "Python 3",
   "language": "python",
   "name": "python3"
  },
  "language_info": {
   "codemirror_mode": {
    "name": "ipython",
    "version": 3
   },
   "file_extension": ".py",
   "mimetype": "text/x-python",
   "name": "python",
   "nbconvert_exporter": "python",
   "pygments_lexer": "ipython3",
   "version": "3.8.3"
  }
 },
 "nbformat": 4,
 "nbformat_minor": 2
}
